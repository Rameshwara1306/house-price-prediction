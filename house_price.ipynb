{
 "cells": [
  {
   "cell_type": "code",
   "execution_count": 6,
   "id": "3b00d5a4",
   "metadata": {},
   "outputs": [],
   "source": [
    "import numpy as np\n",
    "import pandas as pd\n",
    "import matplotlib.pyplot as plt\n",
    "import seaborn as sns\n",
    "from scipy import stats\n",
    "import statsmodels.api as sm\n",
    "from statsmodels.formula.api import ols\n",
    "from statsmodels.stats.multicomp import pairwise_tukeyhsd\n",
    "import statsmodels.formula.api as smf\n",
    "pd.set_option('display.max_column',None)\n",
    "from sklearn.linear_model import LinearRegression\n",
    "from scipy.stats import f_oneway \n",
    "from statsmodels.stats.outliers_influence import variance_inflation_factor"
   ]
  },
  {
   "cell_type": "code",
   "execution_count": 7,
   "id": "eec0d67a",
   "metadata": {},
   "outputs": [],
   "source": [
    "data = pd.read_csv('C:\\\\Users\\\\Acer\\\\Desktop\\\\projrct\\\\project12.csv')"
   ]
  },
  {
   "cell_type": "code",
   "execution_count": 3,
   "id": "a156ecd6",
   "metadata": {},
   "outputs": [
    {
     "name": "stdout",
     "output_type": "stream",
     "text": [
      "<class 'pandas.core.frame.DataFrame'>\n",
      "RangeIndex: 1460 entries, 0 to 1459\n",
      "Data columns (total 22 columns):\n",
      " #   Column         Non-Null Count  Dtype  \n",
      "---  ------         --------------  -----  \n",
      " 0   SalePrice      1460 non-null   int64  \n",
      " 1   YearBuilt      1460 non-null   int64  \n",
      " 2   LotArea        1460 non-null   int64  \n",
      " 3   TotalBsmtSF    1460 non-null   int64  \n",
      " 4   1stFlrSF       1460 non-null   int64  \n",
      " 5   GarageArea     1460 non-null   int64  \n",
      " 6   MSZoning       1460 non-null   object \n",
      " 7   LandContour    1460 non-null   object \n",
      " 8   LandSlope      1460 non-null   object \n",
      " 9   Street         1460 non-null   object \n",
      " 10  BldgType       1460 non-null   object \n",
      " 11  RoofStyle      1460 non-null   object \n",
      " 12  Foundation     1460 non-null   object \n",
      " 13  Electrical     1459 non-null   object \n",
      " 14  BedroomAbvGr   1460 non-null   int64  \n",
      " 15  GarageType     1379 non-null   object \n",
      " 16  GarageCars     1460 non-null   int64  \n",
      " 17  PavedDrive     1460 non-null   object \n",
      " 18  SaleType       1460 non-null   object \n",
      " 19  SaleCondition  1460 non-null   object \n",
      " 20  HeatingQC      1460 non-null   object \n",
      " 21  LotFrontage    1201 non-null   float64\n",
      "dtypes: float64(1), int64(8), object(13)\n",
      "memory usage: 251.1+ KB\n"
     ]
    }
   ],
   "source": [
    "data.info()"
   ]
  },
  {
   "cell_type": "code",
   "execution_count": 4,
   "id": "6b962909",
   "metadata": {},
   "outputs": [
    {
     "data": {
      "text/plain": [
       "(1460, 22)"
      ]
     },
     "execution_count": 4,
     "metadata": {},
     "output_type": "execute_result"
    }
   ],
   "source": [
    "data.shape"
   ]
  },
  {
   "cell_type": "code",
   "execution_count": 5,
   "id": "7084773d",
   "metadata": {},
   "outputs": [],
   "source": [
    "for i in data.columns:\n",
    "    if data[i].isnull().sum()>500:\n",
    "        print(i)"
   ]
  },
  {
   "cell_type": "code",
   "execution_count": 6,
   "id": "825b4b37",
   "metadata": {},
   "outputs": [
    {
     "name": "stderr",
     "output_type": "stream",
     "text": [
      "C:\\Users\\Acer\\anaconda3\\lib\\site-packages\\seaborn\\_decorators.py:36: FutureWarning: Pass the following variable as a keyword arg: x. From version 0.12, the only valid positional argument will be `data`, and passing other arguments without an explicit keyword will result in an error or misinterpretation.\n",
      "  warnings.warn(\n"
     ]
    },
    {
     "data": {
      "text/plain": [
       "<AxesSubplot:xlabel='SalePrice'>"
      ]
     },
     "execution_count": 6,
     "metadata": {},
     "output_type": "execute_result"
    },
    {
     "data": {
      "image/png": "[encoded data removed]",
      "text/plain": [
       "<Figure size 640x480 with 1 Axes>"
      ]
     },
     "metadata": {},
     "output_type": "display_data"
    }
   ],
   "source": [
    "sns.boxplot(data.SalePrice,orient='h')"
   ]
  },
  {
   "cell_type": "code",
   "execution_count": 7,
   "id": "be184cce",
   "metadata": {},
   "outputs": [
    {
     "data": {
      "text/plain": [
       "84025.0"
      ]
     },
     "execution_count": 7,
     "metadata": {},
     "output_type": "execute_result"
    }
   ],
   "source": [
    "iqr = stats.iqr(data.SalePrice)\n",
    "iqr"
   ]
  },
  {
   "cell_type": "code",
   "execution_count": 8,
   "id": "920bc729",
   "metadata": {},
   "outputs": [
    {
     "data": {
      "text/plain": [
       "129975.0"
      ]
     },
     "execution_count": 8,
     "metadata": {},
     "output_type": "execute_result"
    }
   ],
   "source": [
    "q1 = data.SalePrice.quantile(.25)\n",
    "q1"
   ]
  },
  {
   "cell_type": "code",
   "execution_count": 9,
   "id": "3fcb9451",
   "metadata": {},
   "outputs": [
    {
     "data": {
      "text/plain": [
       "214000.0"
      ]
     },
     "execution_count": 9,
     "metadata": {},
     "output_type": "execute_result"
    }
   ],
   "source": [
    "q3 = data.SalePrice.quantile(.75)\n",
    "q3"
   ]
  },
  {
   "cell_type": "code",
   "execution_count": 10,
   "id": "7ae0859c",
   "metadata": {},
   "outputs": [
    {
     "data": {
      "text/plain": [
       "340037.5"
      ]
     },
     "execution_count": 10,
     "metadata": {},
     "output_type": "execute_result"
    }
   ],
   "source": [
    "upper = q3+1.5*(iqr)\n",
    "upper"
   ]
  },
  {
   "cell_type": "code",
   "execution_count": 11,
   "id": "aab314c0",
   "metadata": {},
   "outputs": [
    {
     "data": {
      "text/plain": [
       "3937.5"
      ]
     },
     "execution_count": 11,
     "metadata": {},
     "output_type": "execute_result"
    }
   ],
   "source": [
    "lower = q1-1.5*(iqr)\n",
    "lower"
   ]
  },
  {
   "cell_type": "code",
   "execution_count": 12,
   "id": "13a7c0ea",
   "metadata": {},
   "outputs": [],
   "source": [
    "data.SalePrice = np.where(data.SalePrice>upper, upper, data.SalePrice)"
   ]
  },
  {
   "cell_type": "code",
   "execution_count": 13,
   "id": "202a27de",
   "metadata": {},
   "outputs": [
    {
     "data": {
      "text/plain": [
       "<AxesSubplot:>"
      ]
     },
     "execution_count": 13,
     "metadata": {},
     "output_type": "execute_result"
    },
    {
     "data": {
      "image/png": "[encoded data removed]",
      "text/plain": [
       "<Figure size 640x480 with 1 Axes>"
      ]
     },
     "metadata": {},
     "output_type": "display_data"
    }
   ],
   "source": [
    "data.boxplot('SalePrice',vert = False)"
   ]
  },
  {
   "cell_type": "code",
   "execution_count": 14,
   "id": "55c3354c",
   "metadata": {
    "scrolled": true
   },
   "outputs": [
    {
     "data": {
      "text/plain": [
       "Index(['SalePrice', 'YearBuilt', 'LotArea', 'TotalBsmtSF', '1stFlrSF',\n",
       "       'GarageArea', 'MSZoning', 'LandContour', 'LandSlope', 'Street',\n",
       "       'BldgType', 'RoofStyle', 'Foundation', 'Electrical', 'BedroomAbvGr',\n",
       "       'GarageType', 'GarageCars', 'PavedDrive', 'SaleType', 'SaleCondition',\n",
       "       'HeatingQC', 'LotFrontage'],\n",
       "      dtype='object')"
      ]
     },
     "execution_count": 14,
     "metadata": {},
     "output_type": "execute_result"
    }
   ],
   "source": [
    "data.columns"
   ]
  },
  {
   "cell_type": "code",
   "execution_count": 8,
   "id": "46ab638d",
   "metadata": {},
   "outputs": [],
   "source": [
    "cols = ['YearBuilt', 'LotArea', 'TotalBsmtSF', '1stFlrSF',\n",
    "       'GarageArea', 'MSZoning', 'LandContour', 'LandSlope', 'Street',\n",
    "       'BldgType', 'RoofStyle', 'Foundation', 'Electrical', 'BedroomAbvGr',\n",
    "       'GarageType', 'GarageCars', 'PavedDrive', 'SaleType', 'SaleCondition',\n",
    "       'HeatingQC', 'LotFrontage']\n",
    "\n"
   ]
  },
  {
   "cell_type": "code",
   "execution_count": 21,
   "id": "96b17666",
   "metadata": {
    "scrolled": true
   },
   "outputs": [
    {
     "name": "stdout",
     "output_type": "stream",
     "text": [
      "['MSZoning', 'LandContour', 'LandSlope', 'Street', 'BldgType', 'RoofStyle', 'Foundation', 'Electrical', 'BedroomAbvGr', 'GarageType', 'GarageCars', 'PavedDrive', 'SaleType', 'SaleCondition', 'HeatingQC']\n"
     ]
    }
   ],
   "source": [
    "cate=[]\n",
    "\n",
    "for i in cols:\n",
    "    if data[i].unique().shape[0]<25:\n",
    "        cate.append(i)\n",
    "        \n",
    "print(cate)"
   ]
  },
  {
   "cell_type": "code",
   "execution_count": 24,
   "id": "7e800cdd",
   "metadata": {},
   "outputs": [
    {
     "data": {
      "text/plain": [
       "Index(['SalePrice', 'YearBuilt', 'LotArea', 'TotalBsmtSF', '1stFlrSF',\n",
       "       'GarageArea', 'MSZoning', 'LandContour', 'LandSlope', 'Street',\n",
       "       'BldgType', 'RoofStyle', 'Foundation', 'Electrical', 'BedroomAbvGr',\n",
       "       'GarageType', 'GarageCars', 'PavedDrive', 'SaleType', 'SaleCondition',\n",
       "       'HeatingQC', 'LotFrontage'],\n",
       "      dtype='object')"
      ]
     },
     "execution_count": 24,
     "metadata": {},
     "output_type": "execute_result"
    }
   ],
   "source": [
    "data.columns"
   ]
  },
  {
   "cell_type": "code",
   "execution_count": 25,
   "id": "1c8fb7a2",
   "metadata": {},
   "outputs": [],
   "source": [
    "cols = ['SalePrice', 'YearBuilt', 'LotArea', 'TotalBsmtSF', '1stFlrSF',\n",
    "       'GarageArea', 'MSZoning', 'LandContour', 'LandSlope', 'Street',\n",
    "       'BldgType', 'RoofStyle', 'Foundation', 'Electrical', 'BedroomAbvGr',\n",
    "       'GarageType', 'GarageCars', 'PavedDrive', 'SaleType', 'SaleCondition',\n",
    "       'HeatingQC', 'LotFrontage']"
   ]
  },
  {
   "cell_type": "code",
   "execution_count": 29,
   "id": "2b7aebe5",
   "metadata": {},
   "outputs": [
    {
     "name": "stdout",
     "output_type": "stream",
     "text": [
      "['Electrical', 'GarageType', 'LotFrontage']\n"
     ]
    }
   ],
   "source": [
    "nully = []\n",
    "\n",
    "for i in cols:\n",
    "    if data[i].isnull().sum()>=1:\n",
    "        nully.append(i)\n",
    "        \n",
    "print(nully)"
   ]
  },
  {
   "cell_type": "code",
   "execution_count": 42,
   "id": "f6bafe6b",
   "metadata": {},
   "outputs": [
    {
     "name": "stdout",
     "output_type": "stream",
     "text": [
      "Electrical +\n",
      "GarageType +\n",
      "LotFrontage +\n"
     ]
    }
   ],
   "source": [
    "for i in nully:\n",
    "    print(i,\"+\")"
   ]
  },
  {
   "cell_type": "code",
   "execution_count": 38,
   "id": "3c88251a",
   "metadata": {
    "scrolled": true
   },
   "outputs": [
    {
     "name": "stdout",
     "output_type": "stream",
     "text": [
      "Electrical\n",
      "GarageType\n",
      "LotFrontage\n"
     ]
    }
   ],
   "source": [
    "for i in nully:\n",
    "    print(i)"
   ]
  },
  {
   "cell_type": "markdown",
   "id": "76f5750f",
   "metadata": {},
   "source": [
    "# 1LandSlope"
   ]
  },
  {
   "cell_type": "code",
   "execution_count": 31,
   "id": "11471f7a",
   "metadata": {},
   "outputs": [
    {
     "data": {
      "text/plain": [
       "Gtl    1382\n",
       "Mod      65\n",
       "Sev      13\n",
       "Name: LandSlope, dtype: int64"
      ]
     },
     "execution_count": 31,
     "metadata": {},
     "output_type": "execute_result"
    }
   ],
   "source": [
    "data['LandSlope'].value_counts()"
   ]
  },
  {
   "cell_type": "code",
   "execution_count": 32,
   "id": "c0dd8507",
   "metadata": {},
   "outputs": [
    {
     "data": {
      "text/plain": [
       "0"
      ]
     },
     "execution_count": 32,
     "metadata": {},
     "output_type": "execute_result"
    }
   ],
   "source": [
    "data['LandSlope'].isnull().sum()"
   ]
  },
  {
   "cell_type": "code",
   "execution_count": 37,
   "id": "171b8943",
   "metadata": {},
   "outputs": [
    {
     "ename": "NameError",
     "evalue": "name 'iterrows' is not defined",
     "output_type": "error",
     "traceback": [
      "\u001b[1;31m---------------------------------------------------------------------------\u001b[0m",
      "\u001b[1;31mNameError\u001b[0m                                 Traceback (most recent call last)",
      "\u001b[1;32m~\\AppData\\Local\\Temp\\ipykernel_12732\\1551645350.py\u001b[0m in \u001b[0;36m<module>\u001b[1;34m\u001b[0m\n\u001b[0;32m      3\u001b[0m \u001b[0man\u001b[0m \u001b[1;33m=\u001b[0m \u001b[0manova\u001b[0m\u001b[1;33m.\u001b[0m\u001b[0mround\u001b[0m\u001b[1;33m(\u001b[0m\u001b[0mdecimals\u001b[0m\u001b[1;33m=\u001b[0m\u001b[1;36m4\u001b[0m\u001b[1;33m)\u001b[0m\u001b[1;33m\u001b[0m\u001b[1;33m\u001b[0m\u001b[0m\n\u001b[0;32m      4\u001b[0m \u001b[1;33m\u001b[0m\u001b[0m\n\u001b[1;32m----> 5\u001b[1;33m \u001b[1;32mfor\u001b[0m \u001b[0ma\u001b[0m\u001b[1;33m,\u001b[0m \u001b[0mb\u001b[0m \u001b[1;32min\u001b[0m \u001b[0miterrows\u001b[0m\u001b[1;33m(\u001b[0m\u001b[0man\u001b[0m\u001b[1;33m)\u001b[0m\u001b[1;33m:\u001b[0m\u001b[1;33m\u001b[0m\u001b[1;33m\u001b[0m\u001b[0m\n\u001b[0m\u001b[0;32m      6\u001b[0m     \u001b[0mprint\u001b[0m\u001b[1;33m(\u001b[0m\u001b[0ma\u001b[0m\u001b[1;33m)\u001b[0m\u001b[1;33m\u001b[0m\u001b[1;33m\u001b[0m\u001b[0m\n",
      "\u001b[1;31mNameError\u001b[0m: name 'iterrows' is not defined"
     ]
    }
   ],
   "source": [
    "model = ols('SalePrice ~ LandSlope',data = data).fit()\n",
    "anova = sm.stats.anova_lm(model)\n",
    "an = anova.round(decimals=4)\n"
   ]
  },
  {
   "cell_type": "code",
   "execution_count": 18,
   "id": "59e4bb84",
   "metadata": {},
   "outputs": [],
   "source": [
    "data.drop(columns=['LandSlope'],axis=1,inplace = True)"
   ]
  },
  {
   "cell_type": "markdown",
   "id": "51115946",
   "metadata": {},
   "source": [
    "## 2street"
   ]
  },
  {
   "cell_type": "code",
   "execution_count": 19,
   "id": "d883be29",
   "metadata": {},
   "outputs": [
    {
     "data": {
      "text/plain": [
       "Pave    1454\n",
       "Grvl       6\n",
       "Name: Street, dtype: int64"
      ]
     },
     "execution_count": 19,
     "metadata": {},
     "output_type": "execute_result"
    }
   ],
   "source": [
    "data.Street.value_counts()"
   ]
  },
  {
   "cell_type": "code",
   "execution_count": 20,
   "id": "850efe70",
   "metadata": {},
   "outputs": [
    {
     "data": {
      "text/plain": [
       "0"
      ]
     },
     "execution_count": 20,
     "metadata": {},
     "output_type": "execute_result"
    }
   ],
   "source": [
    "data.Street.isnull().sum()"
   ]
  },
  {
   "cell_type": "code",
   "execution_count": 21,
   "id": "28158e74",
   "metadata": {},
   "outputs": [
    {
     "data": {
      "text/html": [
       "<div>\n",
       "<style scoped>\n",
       "    .dataframe tbody tr th:only-of-type {\n",
       "        vertical-align: middle;\n",
       "    }\n",
       "\n",
       "    .dataframe tbody tr th {\n",
       "        vertical-align: top;\n",
       "    }\n",
       "\n",
       "    .dataframe thead th {\n",
       "        text-align: right;\n",
       "    }\n",
       "</style>\n",
       "<table border=\"1\" class=\"dataframe\">\n",
       "  <thead>\n",
       "    <tr style=\"text-align: right;\">\n",
       "      <th></th>\n",
       "      <th>df</th>\n",
       "      <th>sum_sq</th>\n",
       "      <th>mean_sq</th>\n",
       "      <th>F</th>\n",
       "      <th>PR(&gt;F)</th>\n",
       "    </tr>\n",
       "  </thead>\n",
       "  <tbody>\n",
       "    <tr>\n",
       "      <th>Street</th>\n",
       "      <td>1.0</td>\n",
       "      <td>1.338868e+10</td>\n",
       "      <td>1.338868e+10</td>\n",
       "      <td>2.96831</td>\n",
       "      <td>0.085123</td>\n",
       "    </tr>\n",
       "    <tr>\n",
       "      <th>Residual</th>\n",
       "      <td>1458.0</td>\n",
       "      <td>6.576366e+12</td>\n",
       "      <td>4.510539e+09</td>\n",
       "      <td>NaN</td>\n",
       "      <td>NaN</td>\n",
       "    </tr>\n",
       "  </tbody>\n",
       "</table>\n",
       "</div>"
      ],
      "text/plain": [
       "              df        sum_sq       mean_sq        F    PR(>F)\n",
       "Street       1.0  1.338868e+10  1.338868e+10  2.96831  0.085123\n",
       "Residual  1458.0  6.576366e+12  4.510539e+09      NaN       NaN"
      ]
     },
     "execution_count": 21,
     "metadata": {},
     "output_type": "execute_result"
    }
   ],
   "source": [
    "model = ols('SalePrice ~ Street',data = data).fit()\n",
    "anova = sm.stats.anova_lm(model)\n",
    "anova"
   ]
  },
  {
   "cell_type": "code",
   "execution_count": 22,
   "id": "e8428829",
   "metadata": {},
   "outputs": [],
   "source": [
    "data.drop(columns=['Street'],axis=1,inplace = True)"
   ]
  },
  {
   "cell_type": "markdown",
   "id": "3468a804",
   "metadata": {},
   "source": [
    "# 3BldgType"
   ]
  },
  {
   "cell_type": "code",
   "execution_count": 23,
   "id": "9b49a019",
   "metadata": {},
   "outputs": [
    {
     "data": {
      "text/plain": [
       "1Fam      1220\n",
       "TwnhsE     114\n",
       "Duplex      52\n",
       "Twnhs       43\n",
       "2fmCon      31\n",
       "Name: BldgType, dtype: int64"
      ]
     },
     "execution_count": 23,
     "metadata": {},
     "output_type": "execute_result"
    }
   ],
   "source": [
    "data.BldgType.value_counts()"
   ]
  },
  {
   "cell_type": "code",
   "execution_count": 24,
   "id": "86492aae",
   "metadata": {},
   "outputs": [
    {
     "data": {
      "text/plain": [
       "0"
      ]
     },
     "execution_count": 24,
     "metadata": {},
     "output_type": "execute_result"
    }
   ],
   "source": [
    "data.BldgType.isnull().sum()"
   ]
  },
  {
   "cell_type": "code",
   "execution_count": 25,
   "id": "d0028f2f",
   "metadata": {},
   "outputs": [
    {
     "data": {
      "text/plain": [
       "array(['1Fam', '2fmCon', 'Duplex', 'TwnhsE', 'Twnhs'], dtype=object)"
      ]
     },
     "execution_count": 25,
     "metadata": {},
     "output_type": "execute_result"
    }
   ],
   "source": [
    "data.BldgType.unique()"
   ]
  },
  {
   "cell_type": "code",
   "execution_count": 26,
   "id": "6cabeeb8",
   "metadata": {},
   "outputs": [
    {
     "data": {
      "text/plain": [
       "F_onewayResult(statistic=3154.726364276677, pvalue=0.0)"
      ]
     },
     "execution_count": 26,
     "metadata": {},
     "output_type": "execute_result"
    }
   ],
   "source": [
    "f_oneway(data.BldgType=='1Fam',data.BldgType=='2fmCon',\n",
    "         data.BldgType=='TwnhsE',data.BldgType=='Twnhs',\n",
    "         data.BldgType=='Duplex')"
   ]
  },
  {
   "cell_type": "code",
   "execution_count": 27,
   "id": "b8ac3289",
   "metadata": {},
   "outputs": [
    {
     "name": "stdout",
     "output_type": "stream",
     "text": [
      "      Multiple Comparison of Means - Tukey HSD, FWER=0.05      \n",
      "===============================================================\n",
      "group1 group2   meandiff  p-adj     lower       upper    reject\n",
      "---------------------------------------------------------------\n",
      "  1Fam 2fmCon -53101.0587 0.0001 -85835.7864 -20366.3311   True\n",
      "  1Fam Duplex -47992.2399    0.0 -73478.3061 -22506.1736   True\n",
      "  1Fam  Twnhs -45621.6889 0.0001 -73548.9517 -17694.4261   True\n",
      "  1Fam TwnhsE   -273.2642    1.0 -17900.5892  17354.0609  False\n",
      "2fmCon Duplex   5108.8189 0.9971 -35732.2751  45949.9128  False\n",
      "2fmCon  Twnhs   7479.3698  0.989  -34928.028  49886.7676  False\n",
      "2fmCon TwnhsE  52827.7946 0.0008  16369.9014  89285.6877   True\n",
      "Duplex  Twnhs    2370.551 0.9998 -34728.8367  39469.9387  False\n",
      "Duplex TwnhsE  47718.9757 0.0002  17599.9593  77837.9921   True\n",
      " Twnhs TwnhsE  45348.4247 0.0012  13137.4393  77559.4102   True\n",
      "---------------------------------------------------------------\n"
     ]
    }
   ],
   "source": [
    "tukey= pairwise_tukeyhsd(data['SalePrice'],data.BldgType,alpha=0.05)\n",
    "print(tukey)"
   ]
  },
  {
   "cell_type": "code",
   "execution_count": 28,
   "id": "cc212b4a",
   "metadata": {},
   "outputs": [],
   "source": [
    "data.BldgType=data.BldgType.replace({'TwnhsE':'1Fam','Duplex':'2fmCon','Twnhs':'2fmCon'})"
   ]
  },
  {
   "cell_type": "code",
   "execution_count": 29,
   "id": "2862cd18",
   "metadata": {},
   "outputs": [
    {
     "name": "stdout",
     "output_type": "stream",
     "text": [
      "     Multiple Comparison of Means - Tukey HSD, FWER=0.05      \n",
      "==============================================================\n",
      "group1 group2   meandiff  p-adj    lower       upper    reject\n",
      "--------------------------------------------------------------\n",
      "  1Fam 2fmCon -48416.8215   0.0 -60453.2486 -36380.3945   True\n",
      "--------------------------------------------------------------\n"
     ]
    }
   ],
   "source": [
    "tukey= pairwise_tukeyhsd(data['SalePrice'],data.BldgType,alpha=0.05)\n",
    "print(tukey)"
   ]
  },
  {
   "cell_type": "markdown",
   "id": "a49245a8",
   "metadata": {},
   "source": [
    "# 4MSZoning"
   ]
  },
  {
   "cell_type": "code",
   "execution_count": 30,
   "id": "1019e88b",
   "metadata": {},
   "outputs": [
    {
     "data": {
      "text/plain": [
       "RL         1151\n",
       "RM          218\n",
       "FV           65\n",
       "RH           16\n",
       "C (all)      10\n",
       "Name: MSZoning, dtype: int64"
      ]
     },
     "execution_count": 30,
     "metadata": {},
     "output_type": "execute_result"
    }
   ],
   "source": [
    "data['MSZoning'].value_counts()"
   ]
  },
  {
   "cell_type": "code",
   "execution_count": 31,
   "id": "cc94f84c",
   "metadata": {},
   "outputs": [
    {
     "data": {
      "text/plain": [
       "0"
      ]
     },
     "execution_count": 31,
     "metadata": {},
     "output_type": "execute_result"
    }
   ],
   "source": [
    "data['MSZoning'].isnull().sum()"
   ]
  },
  {
   "cell_type": "code",
   "execution_count": 32,
   "id": "6b20d084",
   "metadata": {},
   "outputs": [
    {
     "data": {
      "text/html": [
       "<div>\n",
       "<style scoped>\n",
       "    .dataframe tbody tr th:only-of-type {\n",
       "        vertical-align: middle;\n",
       "    }\n",
       "\n",
       "    .dataframe tbody tr th {\n",
       "        vertical-align: top;\n",
       "    }\n",
       "\n",
       "    .dataframe thead th {\n",
       "        text-align: right;\n",
       "    }\n",
       "</style>\n",
       "<table border=\"1\" class=\"dataframe\">\n",
       "  <thead>\n",
       "    <tr style=\"text-align: right;\">\n",
       "      <th></th>\n",
       "      <th>df</th>\n",
       "      <th>sum_sq</th>\n",
       "      <th>mean_sq</th>\n",
       "      <th>F</th>\n",
       "      <th>PR(&gt;F)</th>\n",
       "    </tr>\n",
       "  </thead>\n",
       "  <tbody>\n",
       "    <tr>\n",
       "      <th>MSZoning</th>\n",
       "      <td>4.0</td>\n",
       "      <td>9.108125e+11</td>\n",
       "      <td>2.277031e+11</td>\n",
       "      <td>58.339747</td>\n",
       "      <td>1.020658e-45</td>\n",
       "    </tr>\n",
       "    <tr>\n",
       "      <th>Residual</th>\n",
       "      <td>1455.0</td>\n",
       "      <td>5.678942e+12</td>\n",
       "      <td>3.903053e+09</td>\n",
       "      <td>NaN</td>\n",
       "      <td>NaN</td>\n",
       "    </tr>\n",
       "  </tbody>\n",
       "</table>\n",
       "</div>"
      ],
      "text/plain": [
       "              df        sum_sq       mean_sq          F        PR(>F)\n",
       "MSZoning     4.0  9.108125e+11  2.277031e+11  58.339747  1.020658e-45\n",
       "Residual  1455.0  5.678942e+12  3.903053e+09        NaN           NaN"
      ]
     },
     "execution_count": 32,
     "metadata": {},
     "output_type": "execute_result"
    }
   ],
   "source": [
    "model= ols('SalePrice~MSZoning', data = data).fit()\n",
    "anova= sm.stats.anova_lm(model)\n",
    "anova"
   ]
  },
  {
   "cell_type": "code",
   "execution_count": 33,
   "id": "cf9f4509",
   "metadata": {},
   "outputs": [
    {
     "name": "stdout",
     "output_type": "stream",
     "text": [
      "       Multiple Comparison of Means - Tukey HSD, FWER=0.05       \n",
      "=================================================================\n",
      " group1 group2   meandiff  p-adj     lower        upper    reject\n",
      "-----------------------------------------------------------------\n",
      "C (all)     FV 139011.5923    0.0   81051.4174 196971.7672   True\n",
      "C (all)     RH   57030.375 0.1571  -11752.8314 125813.5814  False\n",
      "C (all)     RL 112113.2659    0.0   57921.3903 166305.1414   True\n",
      "C (all)     RM  50929.0826 0.0866   -4252.5965 106110.7616  False\n",
      "     FV     RH -81981.2173    0.0 -129600.3602 -34362.0744   True\n",
      "     FV     RL -26898.3265 0.0067  -48651.7783  -5144.8746   True\n",
      "     FV     RM -88082.5097    0.0 -112196.2194 -63968.8001   True\n",
      "     RH     RL  55082.8909 0.0043   12129.8902  98035.8915   True\n",
      "     RH     RM  -6101.2924 0.9957  -50296.5251  38093.9402  False\n",
      "     RL     RM -61184.1833    0.0  -73787.6944 -48580.6721   True\n",
      "-----------------------------------------------------------------\n"
     ]
    }
   ],
   "source": [
    "tukey = pairwise_tukeyhsd(data['SalePrice'],data['MSZoning'],alpha=0.05)\n",
    "print(tukey)"
   ]
  },
  {
   "cell_type": "code",
   "execution_count": 34,
   "id": "44c1db89",
   "metadata": {},
   "outputs": [],
   "source": [
    "data.MSZoning=data.MSZoning.replace({'C (all)':'RH','RM':'RH'})"
   ]
  },
  {
   "cell_type": "code",
   "execution_count": 35,
   "id": "74f536ae",
   "metadata": {},
   "outputs": [
    {
     "name": "stdout",
     "output_type": "stream",
     "text": [
      "      Multiple Comparison of Means - Tukey HSD, FWER=0.05       \n",
      "================================================================\n",
      "group1 group2   meandiff  p-adj     lower        upper    reject\n",
      "----------------------------------------------------------------\n",
      "    FV     RH -89769.6825    0.0 -110260.7416 -69278.6233   True\n",
      "    FV     RL -26898.3265 0.0022  -45614.1614  -8182.4915   True\n",
      "    RH     RL   62871.356    0.0   52524.9078  73217.8042   True\n",
      "----------------------------------------------------------------\n"
     ]
    }
   ],
   "source": [
    "tukey = pairwise_tukeyhsd(data['SalePrice'],data['MSZoning'],alpha=0.05)\n",
    "print(tukey)"
   ]
  },
  {
   "cell_type": "markdown",
   "id": "8cd8399d",
   "metadata": {},
   "source": [
    "# 5RoofStyle"
   ]
  },
  {
   "cell_type": "code",
   "execution_count": 36,
   "id": "81a1be12",
   "metadata": {},
   "outputs": [
    {
     "data": {
      "text/plain": [
       "0       Gable\n",
       "1       Gable\n",
       "2       Gable\n",
       "3       Gable\n",
       "4       Gable\n",
       "        ...  \n",
       "1455    Gable\n",
       "1456    Gable\n",
       "1457    Gable\n",
       "1458      Hip\n",
       "1459    Gable\n",
       "Name: RoofStyle, Length: 1460, dtype: object"
      ]
     },
     "execution_count": 36,
     "metadata": {},
     "output_type": "execute_result"
    }
   ],
   "source": [
    "data.RoofStyle"
   ]
  },
  {
   "cell_type": "code",
   "execution_count": 37,
   "id": "c988b929",
   "metadata": {},
   "outputs": [
    {
     "data": {
      "text/plain": [
       "Gable      1141\n",
       "Hip         286\n",
       "Flat         13\n",
       "Gambrel      11\n",
       "Mansard       7\n",
       "Shed          2\n",
       "Name: RoofStyle, dtype: int64"
      ]
     },
     "execution_count": 37,
     "metadata": {},
     "output_type": "execute_result"
    }
   ],
   "source": [
    "data.RoofStyle.value_counts()"
   ]
  },
  {
   "cell_type": "code",
   "execution_count": 38,
   "id": "e6cb2da7",
   "metadata": {},
   "outputs": [
    {
     "data": {
      "text/plain": [
       "0"
      ]
     },
     "execution_count": 38,
     "metadata": {},
     "output_type": "execute_result"
    }
   ],
   "source": [
    "data.RoofStyle.isnull().sum()"
   ]
  },
  {
   "cell_type": "code",
   "execution_count": 39,
   "id": "3a4daa6c",
   "metadata": {},
   "outputs": [
    {
     "data": {
      "text/plain": [
       "array(['Gable', 'Hip', 'Gambrel', 'Mansard', 'Flat', 'Shed'], dtype=object)"
      ]
     },
     "execution_count": 39,
     "metadata": {},
     "output_type": "execute_result"
    }
   ],
   "source": [
    "data.RoofStyle.unique()"
   ]
  },
  {
   "cell_type": "code",
   "execution_count": 40,
   "id": "70c48550",
   "metadata": {},
   "outputs": [
    {
     "data": {
      "text/plain": [
       "F_onewayResult(statistic=2409.2957757029344, pvalue=0.0)"
      ]
     },
     "execution_count": 40,
     "metadata": {},
     "output_type": "execute_result"
    }
   ],
   "source": [
    "f_oneway(data.RoofStyle=='Gable',data.RoofStyle=='Hip',data.RoofStyle=='Gambrel',data.RoofStyle=='Mansard',data.RoofStyle=='Flat',data.RoofStyle=='Shed')"
   ]
  },
  {
   "cell_type": "code",
   "execution_count": 41,
   "id": "ed8fb131",
   "metadata": {},
   "outputs": [
    {
     "name": "stdout",
     "output_type": "stream",
     "text": [
      "       Multiple Comparison of Means - Tukey HSD, FWER=0.05        \n",
      "==================================================================\n",
      " group1  group2   meandiff  p-adj     lower        upper    reject\n",
      "------------------------------------------------------------------\n",
      "   Flat   Gable -24595.1884 0.7614  -76886.2344  27695.8575  False\n",
      "   Flat Gambrel -45780.9091 0.5313 -122583.6157  31021.7975  False\n",
      "   Flat     Hip  11404.0542 0.9902  -41760.2121  64568.3205  False\n",
      "   Flat Mansard -14121.5714 0.9975 -102010.3087  73767.1658  False\n",
      "   Flat    Shed     30310.0 0.9905 -112086.0291 172706.0291  False\n",
      "  Gable Gambrel -21185.7207 0.8954  -77982.7992  35611.3579  False\n",
      "  Gable     Hip  35999.2426    0.0   23602.0009  48396.4844   True\n",
      "  Gable Mansard   10473.617 0.9983  -60601.5723  81548.8063  False\n",
      "  Gable    Shed  54905.1884 0.8461  -77774.4313 187584.8082  False\n",
      "Gambrel     Hip  57184.9633  0.053    -417.0666 114786.9932  False\n",
      "Gambrel Mansard  31659.3377 0.9191  -58982.7319 122301.4072  False\n",
      "Gambrel    Shed  76090.9091 0.6601  -68020.7967 220202.6149  False\n",
      "    Hip Mansard -25525.6256 0.9129  -97245.6943   46194.443  False\n",
      "    Hip    Shed  18905.9458 0.9986 -114120.2442 151932.1358  False\n",
      "Mansard    Shed  44431.5714 0.9593 -105881.2961 194744.4389  False\n",
      "------------------------------------------------------------------\n"
     ]
    }
   ],
   "source": [
    "tukey = pairwise_tukeyhsd(data.SalePrice,data.RoofStyle,alpha=0.05)\n",
    "print(tukey)"
   ]
  },
  {
   "cell_type": "code",
   "execution_count": 42,
   "id": "d899f438",
   "metadata": {},
   "outputs": [],
   "source": [
    "data.RoofStyle= data.RoofStyle.replace({'Gable':'Flat','Gambrel':'Flat','Mansard':'Flat','Shed':'Hip'})"
   ]
  },
  {
   "cell_type": "code",
   "execution_count": 43,
   "id": "2c9a9018",
   "metadata": {},
   "outputs": [
    {
     "name": "stdout",
     "output_type": "stream",
     "text": [
      "    Multiple Comparison of Means - Tukey HSD, FWER=0.05    \n",
      "===========================================================\n",
      "group1 group2  meandiff  p-adj   lower      upper    reject\n",
      "-----------------------------------------------------------\n",
      "  Flat    Hip 35994.0067   0.0 27520.1762 44467.8373   True\n",
      "-----------------------------------------------------------\n"
     ]
    }
   ],
   "source": [
    "tukey = pairwise_tukeyhsd(data.SalePrice,data.RoofStyle,alpha=0.05)\n",
    "print(tukey)"
   ]
  },
  {
   "cell_type": "markdown",
   "id": "75fb2e73",
   "metadata": {},
   "source": [
    "# 6GarageType"
   ]
  },
  {
   "cell_type": "code",
   "execution_count": 44,
   "id": "28833f7c",
   "metadata": {},
   "outputs": [
    {
     "data": {
      "text/plain": [
       "Attchd     870\n",
       "Detchd     387\n",
       "BuiltIn     88\n",
       "Basment     19\n",
       "CarPort      9\n",
       "2Types       6\n",
       "Name: GarageType, dtype: int64"
      ]
     },
     "execution_count": 44,
     "metadata": {},
     "output_type": "execute_result"
    }
   ],
   "source": [
    "data.GarageType.value_counts()"
   ]
  },
  {
   "cell_type": "code",
   "execution_count": 45,
   "id": "b10638db",
   "metadata": {},
   "outputs": [
    {
     "data": {
      "text/plain": [
       "81"
      ]
     },
     "execution_count": 45,
     "metadata": {},
     "output_type": "execute_result"
    }
   ],
   "source": [
    "data.GarageType.isnull().sum()"
   ]
  },
  {
   "cell_type": "code",
   "execution_count": 46,
   "id": "4fc064eb",
   "metadata": {},
   "outputs": [
    {
     "data": {
      "text/plain": [
       "0    Attchd\n",
       "Name: GarageType, dtype: object"
      ]
     },
     "execution_count": 46,
     "metadata": {},
     "output_type": "execute_result"
    }
   ],
   "source": [
    "data.GarageType.mode()"
   ]
  },
  {
   "cell_type": "code",
   "execution_count": 47,
   "id": "05975304",
   "metadata": {},
   "outputs": [],
   "source": [
    "data.GarageType.fillna('Attchd',inplace=True)"
   ]
  },
  {
   "cell_type": "code",
   "execution_count": 48,
   "id": "1a3e3f0c",
   "metadata": {},
   "outputs": [
    {
     "data": {
      "text/plain": [
       "Attchd     951\n",
       "Detchd     387\n",
       "BuiltIn     88\n",
       "Basment     19\n",
       "CarPort      9\n",
       "2Types       6\n",
       "Name: GarageType, dtype: int64"
      ]
     },
     "execution_count": 48,
     "metadata": {},
     "output_type": "execute_result"
    }
   ],
   "source": [
    "data.GarageType.value_counts()"
   ]
  },
  {
   "cell_type": "code",
   "execution_count": 49,
   "id": "3b41808b",
   "metadata": {},
   "outputs": [
    {
     "data": {
      "text/plain": [
       "0"
      ]
     },
     "execution_count": 49,
     "metadata": {},
     "output_type": "execute_result"
    }
   ],
   "source": [
    "data.GarageType.isnull().sum()"
   ]
  },
  {
   "cell_type": "code",
   "execution_count": 50,
   "id": "bb1f2786",
   "metadata": {},
   "outputs": [
    {
     "data": {
      "text/html": [
       "<div>\n",
       "<style scoped>\n",
       "    .dataframe tbody tr th:only-of-type {\n",
       "        vertical-align: middle;\n",
       "    }\n",
       "\n",
       "    .dataframe tbody tr th {\n",
       "        vertical-align: top;\n",
       "    }\n",
       "\n",
       "    .dataframe thead th {\n",
       "        text-align: right;\n",
       "    }\n",
       "</style>\n",
       "<table border=\"1\" class=\"dataframe\">\n",
       "  <thead>\n",
       "    <tr style=\"text-align: right;\">\n",
       "      <th></th>\n",
       "      <th>df</th>\n",
       "      <th>sum_sq</th>\n",
       "      <th>mean_sq</th>\n",
       "      <th>F</th>\n",
       "      <th>PR(&gt;F)</th>\n",
       "    </tr>\n",
       "  </thead>\n",
       "  <tbody>\n",
       "    <tr>\n",
       "      <th>GarageType</th>\n",
       "      <td>5.0</td>\n",
       "      <td>1.282843e+12</td>\n",
       "      <td>2.565685e+11</td>\n",
       "      <td>70.295239</td>\n",
       "      <td>5.617546e-66</td>\n",
       "    </tr>\n",
       "    <tr>\n",
       "      <th>Residual</th>\n",
       "      <td>1454.0</td>\n",
       "      <td>5.306912e+12</td>\n",
       "      <td>3.649871e+09</td>\n",
       "      <td>NaN</td>\n",
       "      <td>NaN</td>\n",
       "    </tr>\n",
       "  </tbody>\n",
       "</table>\n",
       "</div>"
      ],
      "text/plain": [
       "                df        sum_sq       mean_sq          F        PR(>F)\n",
       "GarageType     5.0  1.282843e+12  2.565685e+11  70.295239  5.617546e-66\n",
       "Residual    1454.0  5.306912e+12  3.649871e+09        NaN           NaN"
      ]
     },
     "execution_count": 50,
     "metadata": {},
     "output_type": "execute_result"
    }
   ],
   "source": [
    "model= ols(\"SalePrice~GarageType\",data=data).fit()\n",
    "anova = sm.stats.anova_lm(model)\n",
    "anova"
   ]
  },
  {
   "cell_type": "code",
   "execution_count": 51,
   "id": "f6de726c",
   "metadata": {},
   "outputs": [
    {
     "name": "stdout",
     "output_type": "stream",
     "text": [
      "        Multiple Comparison of Means - Tukey HSD, FWER=0.05        \n",
      "===================================================================\n",
      " group1  group2   meandiff   p-adj     lower        upper    reject\n",
      "-------------------------------------------------------------------\n",
      " 2Types  Attchd   39274.3523 0.6071  -31326.3959 109875.1005  False\n",
      " 2Types Basment    8284.0614 0.9997  -72446.2815  89014.4043  False\n",
      " 2Types BuiltIn   87309.9905 0.0083   14571.1819 160048.7992   True\n",
      " 2Types CarPort  -41321.2222 0.7864 -132180.2254   49537.781  False\n",
      " 2Types  Detchd  -17540.9109 0.9813   -88463.468  53381.6463  False\n",
      " Attchd Basment  -30990.2909 0.2318  -70933.0468   8952.4651  False\n",
      " Attchd BuiltIn   48035.6383    0.0   28827.0522  67244.2243   True\n",
      " Attchd CarPort  -80595.5745  0.001 -138331.1264 -22860.0226   True\n",
      " Attchd  Detchd  -56815.2631    0.0  -67209.7136 -46420.8126   True\n",
      "Basment BuiltIn   79025.9291    0.0   35415.2379 122636.6204   True\n",
      "Basment CarPort  -49605.2836 0.3262 -119364.2728  20153.7055  False\n",
      "Basment  Detchd  -25824.9723 0.4536  -66333.8258  14683.8813  False\n",
      "BuiltIn CarPort -128631.2128    0.0 -188962.4865  -68299.939   True\n",
      "BuiltIn  Detchd -104850.9014    0.0 -125210.4997 -84491.3031   True\n",
      "CarPort  Detchd   23780.3114 0.8524  -34348.3168  81908.9396  False\n",
      "-------------------------------------------------------------------\n"
     ]
    }
   ],
   "source": [
    "tukey = pairwise_tukeyhsd(data.SalePrice,data.GarageType,alpha=0.05)\n",
    "print(tukey)"
   ]
  },
  {
   "cell_type": "code",
   "execution_count": 52,
   "id": "08276481",
   "metadata": {},
   "outputs": [],
   "source": [
    "data.GarageType= data.GarageType.replace({'Attchd':'2Types','Basment':'2Types','Detchd':'CarPort'})"
   ]
  },
  {
   "cell_type": "code",
   "execution_count": 53,
   "id": "0becbb71",
   "metadata": {},
   "outputs": [
    {
     "name": "stdout",
     "output_type": "stream",
     "text": [
      "       Multiple Comparison of Means - Tukey HSD, FWER=0.05       \n",
      "=================================================================\n",
      " group1  group2   meandiff  p-adj    lower        upper    reject\n",
      "-----------------------------------------------------------------\n",
      " 2Types BuiltIn  48880.3736   0.0   33073.7442  64687.0029   True\n",
      " 2Types CarPort -56510.9894   0.0  -64972.3315 -48049.6474   True\n",
      "BuiltIn CarPort -105391.363   0.0 -122128.0098 -88654.7162   True\n",
      "-----------------------------------------------------------------\n"
     ]
    }
   ],
   "source": [
    "tukey = pairwise_tukeyhsd(data.SalePrice,data.GarageType,alpha=0.05)\n",
    "print(tukey)"
   ]
  },
  {
   "cell_type": "markdown",
   "id": "3e924fcd",
   "metadata": {},
   "source": [
    "# 7GarageCars"
   ]
  },
  {
   "cell_type": "code",
   "execution_count": 54,
   "id": "3ea46586",
   "metadata": {},
   "outputs": [
    {
     "data": {
      "text/plain": [
       "2    824\n",
       "1    369\n",
       "3    181\n",
       "0     81\n",
       "4      5\n",
       "Name: GarageCars, dtype: int64"
      ]
     },
     "execution_count": 54,
     "metadata": {},
     "output_type": "execute_result"
    }
   ],
   "source": [
    "data.GarageCars.value_counts()"
   ]
  },
  {
   "cell_type": "code",
   "execution_count": 55,
   "id": "974887c6",
   "metadata": {},
   "outputs": [
    {
     "data": {
      "text/plain": [
       "0"
      ]
     },
     "execution_count": 55,
     "metadata": {},
     "output_type": "execute_result"
    }
   ],
   "source": [
    "data.GarageCars.isnull().sum()"
   ]
  },
  {
   "cell_type": "code",
   "execution_count": 56,
   "id": "90b86910",
   "metadata": {},
   "outputs": [
    {
     "data": {
      "text/html": [
       "<div>\n",
       "<style scoped>\n",
       "    .dataframe tbody tr th:only-of-type {\n",
       "        vertical-align: middle;\n",
       "    }\n",
       "\n",
       "    .dataframe tbody tr th {\n",
       "        vertical-align: top;\n",
       "    }\n",
       "\n",
       "    .dataframe thead th {\n",
       "        text-align: right;\n",
       "    }\n",
       "</style>\n",
       "<table border=\"1\" class=\"dataframe\">\n",
       "  <thead>\n",
       "    <tr style=\"text-align: right;\">\n",
       "      <th></th>\n",
       "      <th>df</th>\n",
       "      <th>sum_sq</th>\n",
       "      <th>mean_sq</th>\n",
       "      <th>F</th>\n",
       "      <th>PR(&gt;F)</th>\n",
       "    </tr>\n",
       "  </thead>\n",
       "  <tbody>\n",
       "    <tr>\n",
       "      <th>GarageCars</th>\n",
       "      <td>1.0</td>\n",
       "      <td>2.978423e+12</td>\n",
       "      <td>2.978423e+12</td>\n",
       "      <td>1202.47589</td>\n",
       "      <td>0.0</td>\n",
       "    </tr>\n",
       "    <tr>\n",
       "      <th>Residual</th>\n",
       "      <td>1458.0</td>\n",
       "      <td>3.611332e+12</td>\n",
       "      <td>2.476908e+09</td>\n",
       "      <td>NaN</td>\n",
       "      <td>NaN</td>\n",
       "    </tr>\n",
       "  </tbody>\n",
       "</table>\n",
       "</div>"
      ],
      "text/plain": [
       "                df        sum_sq       mean_sq           F  PR(>F)\n",
       "GarageCars     1.0  2.978423e+12  2.978423e+12  1202.47589     0.0\n",
       "Residual    1458.0  3.611332e+12  2.476908e+09         NaN     NaN"
      ]
     },
     "execution_count": 56,
     "metadata": {},
     "output_type": "execute_result"
    }
   ],
   "source": [
    "model = ols('SalePrice~GarageCars',data= data).fit()\n",
    "anova= sm.stats.anova_lm(model)\n",
    "round(anova,5)"
   ]
  },
  {
   "cell_type": "code",
   "execution_count": 57,
   "id": "543d7cae",
   "metadata": {},
   "outputs": [
    {
     "name": "stdout",
     "output_type": "stream",
     "text": [
      "      Multiple Comparison of Means - Tukey HSD, FWER=0.05       \n",
      "================================================================\n",
      "group1 group2   meandiff  p-adj     lower        upper    reject\n",
      "----------------------------------------------------------------\n",
      "     0      1  24799.4044 0.0002    9001.6545  40597.1543   True\n",
      "     0      2   80226.886    0.0   65234.7731  95218.9988   True\n",
      "     0      3 178763.3542    0.0  161552.0604  195974.648   True\n",
      "     0      4   89338.516 0.0004   30009.6042 148667.4279   True\n",
      "     1      2  55427.4816    0.0   47362.7837  63492.1794   True\n",
      "     1      3 153963.9498    0.0  142280.4342 165647.4654   True\n",
      "     1      4  64539.1117 0.0203    6571.9167 122506.3066   True\n",
      "     2      3  98536.4682    0.0   87967.6895  109105.247   True\n",
      "     2      4   9111.6301 0.9928  -48641.2074  66864.4676  False\n",
      "     3      4 -89424.8381 0.0003 -147793.1122  -31056.564   True\n",
      "----------------------------------------------------------------\n"
     ]
    }
   ],
   "source": [
    "tukey = pairwise_tukeyhsd(data.SalePrice,data.GarageCars,alpha=0.05)\n",
    "print(tukey)"
   ]
  },
  {
   "cell_type": "code",
   "execution_count": 58,
   "id": "470e2c4c",
   "metadata": {},
   "outputs": [],
   "source": [
    "data.GarageCars= data.GarageCars.replace({4:2})"
   ]
  },
  {
   "cell_type": "code",
   "execution_count": 59,
   "id": "60332878",
   "metadata": {},
   "outputs": [
    {
     "name": "stdout",
     "output_type": "stream",
     "text": [
      "      Multiple Comparison of Means - Tukey HSD, FWER=0.05      \n",
      "===============================================================\n",
      "group1 group2   meandiff  p-adj     lower       upper    reject\n",
      "---------------------------------------------------------------\n",
      "     0      1  24799.4044 0.0001   9926.6524  39672.1564   True\n",
      "     0      2  80281.8415    0.0  66171.3646  94392.3184   True\n",
      "     0      3 178763.3542    0.0 162559.8248 194966.8835   True\n",
      "     1      2  55482.4371    0.0  47897.0328  63067.8414   True\n",
      "     1      3 153963.9498    0.0 142964.5333 164963.3662   True\n",
      "     2      3  98481.5127    0.0   88536.968 108426.0574   True\n",
      "---------------------------------------------------------------\n"
     ]
    }
   ],
   "source": [
    "tukey = pairwise_tukeyhsd(data.SalePrice,data.GarageCars,alpha=0.05)\n",
    "print(tukey)"
   ]
  },
  {
   "cell_type": "markdown",
   "id": "ab1bc882",
   "metadata": {},
   "source": [
    "# 8GarageArea"
   ]
  },
  {
   "cell_type": "code",
   "execution_count": 60,
   "id": "1fd3680e",
   "metadata": {},
   "outputs": [
    {
     "data": {
      "text/plain": [
       "0      81\n",
       "440    49\n",
       "576    47\n",
       "240    38\n",
       "484    34\n",
       "       ..\n",
       "320     1\n",
       "594     1\n",
       "831     1\n",
       "878     1\n",
       "192     1\n",
       "Name: GarageArea, Length: 441, dtype: int64"
      ]
     },
     "execution_count": 60,
     "metadata": {},
     "output_type": "execute_result"
    }
   ],
   "source": [
    "data.GarageArea.value_counts()"
   ]
  },
  {
   "cell_type": "code",
   "execution_count": 61,
   "id": "4c5fda5a",
   "metadata": {},
   "outputs": [
    {
     "data": {
      "text/plain": [
       "0"
      ]
     },
     "execution_count": 61,
     "metadata": {},
     "output_type": "execute_result"
    }
   ],
   "source": [
    "data.GarageArea.isnull().sum()"
   ]
  },
  {
   "cell_type": "code",
   "execution_count": 62,
   "id": "0a6e7bc6",
   "metadata": {},
   "outputs": [
    {
     "name": "stderr",
     "output_type": "stream",
     "text": [
      "C:\\Users\\Acer\\anaconda3\\lib\\site-packages\\seaborn\\_decorators.py:36: FutureWarning: Pass the following variable as a keyword arg: x. From version 0.12, the only valid positional argument will be `data`, and passing other arguments without an explicit keyword will result in an error or misinterpretation.\n",
      "  warnings.warn(\n"
     ]
    },
    {
     "data": {
      "text/plain": [
       "<AxesSubplot:xlabel='GarageArea'>"
      ]
     },
     "execution_count": 62,
     "metadata": {},
     "output_type": "execute_result"
    },
    {
     "data": {
      "image/png": "[encoded data removed]",
      "text/plain": [
       "<Figure size 640x480 with 1 Axes>"
      ]
     },
     "metadata": {},
     "output_type": "display_data"
    }
   ],
   "source": [
    "sns.boxplot(data.GarageArea)"
   ]
  },
  {
   "cell_type": "code",
   "execution_count": 63,
   "id": "2f1a54f2",
   "metadata": {},
   "outputs": [
    {
     "name": "stdout",
     "output_type": "stream",
     "text": [
      "241.5 \n",
      " 334.5 \n",
      " 576.0 \n",
      " 938.25 \n",
      " -27.75\n"
     ]
    }
   ],
   "source": [
    "iqr = stats.iqr(data.GarageArea)\n",
    "iqr\n",
    "\n",
    "q1= data.GarageArea.quantile(.25)\n",
    "q1\n",
    "\n",
    "q3=data.GarageArea.quantile(.75)\n",
    "q3\n",
    "\n",
    "upper = q3+1.5*iqr\n",
    "upper\n",
    "\n",
    "lower = q1-1.5*iqr\n",
    "lower\n",
    "\n",
    "print(iqr,\"\\n\",q1,\"\\n\",q3,\"\\n\",upper,\"\\n\",lower)"
   ]
  },
  {
   "cell_type": "code",
   "execution_count": 64,
   "id": "baa93975",
   "metadata": {},
   "outputs": [],
   "source": [
    "data.GarageArea= np.where(data.GarageArea>upper,upper,data.GarageArea)"
   ]
  },
  {
   "cell_type": "code",
   "execution_count": 65,
   "id": "83125c9d",
   "metadata": {},
   "outputs": [
    {
     "name": "stderr",
     "output_type": "stream",
     "text": [
      "C:\\Users\\Acer\\anaconda3\\lib\\site-packages\\seaborn\\_decorators.py:36: FutureWarning: Pass the following variable as a keyword arg: x. From version 0.12, the only valid positional argument will be `data`, and passing other arguments without an explicit keyword will result in an error or misinterpretation.\n",
      "  warnings.warn(\n"
     ]
    },
    {
     "data": {
      "text/plain": [
       "<AxesSubplot:xlabel='GarageArea'>"
      ]
     },
     "execution_count": 65,
     "metadata": {},
     "output_type": "execute_result"
    },
    {
     "data": {
      "image/png": "[encoded data removed]",
      "text/plain": [
       "<Figure size 640x480 with 1 Axes>"
      ]
     },
     "metadata": {},
     "output_type": "display_data"
    }
   ],
   "source": [
    "sns.boxplot(data.GarageArea)"
   ]
  },
  {
   "cell_type": "code",
   "execution_count": null,
   "id": "3a18963b",
   "metadata": {},
   "outputs": [],
   "source": []
  },
  {
   "cell_type": "markdown",
   "id": "987f9e65",
   "metadata": {},
   "source": [
    "# 9.HeatingQC"
   ]
  },
  {
   "cell_type": "code",
   "execution_count": 66,
   "id": "da832acd",
   "metadata": {},
   "outputs": [
    {
     "data": {
      "text/plain": [
       "Ex    741\n",
       "TA    428\n",
       "Gd    241\n",
       "Fa     49\n",
       "Po      1\n",
       "Name: HeatingQC, dtype: int64"
      ]
     },
     "execution_count": 66,
     "metadata": {},
     "output_type": "execute_result"
    }
   ],
   "source": [
    "data.HeatingQC.value_counts()"
   ]
  },
  {
   "cell_type": "code",
   "execution_count": 67,
   "id": "a0fdef70",
   "metadata": {},
   "outputs": [
    {
     "data": {
      "text/plain": [
       "0"
      ]
     },
     "execution_count": 67,
     "metadata": {},
     "output_type": "execute_result"
    }
   ],
   "source": [
    "data.HeatingQC.isnull().sum()"
   ]
  },
  {
   "cell_type": "code",
   "execution_count": 68,
   "id": "f37bcdae",
   "metadata": {},
   "outputs": [
    {
     "data": {
      "text/html": [
       "<div>\n",
       "<style scoped>\n",
       "    .dataframe tbody tr th:only-of-type {\n",
       "        vertical-align: middle;\n",
       "    }\n",
       "\n",
       "    .dataframe tbody tr th {\n",
       "        vertical-align: top;\n",
       "    }\n",
       "\n",
       "    .dataframe thead th {\n",
       "        text-align: right;\n",
       "    }\n",
       "</style>\n",
       "<table border=\"1\" class=\"dataframe\">\n",
       "  <thead>\n",
       "    <tr style=\"text-align: right;\">\n",
       "      <th></th>\n",
       "      <th>df</th>\n",
       "      <th>sum_sq</th>\n",
       "      <th>mean_sq</th>\n",
       "      <th>F</th>\n",
       "      <th>PR(&gt;F)</th>\n",
       "    </tr>\n",
       "  </thead>\n",
       "  <tbody>\n",
       "    <tr>\n",
       "      <th>HeatingQC</th>\n",
       "      <td>4.0</td>\n",
       "      <td>1.479951e+12</td>\n",
       "      <td>3.699877e+11</td>\n",
       "      <td>105.352779</td>\n",
       "      <td>7.121485e-79</td>\n",
       "    </tr>\n",
       "    <tr>\n",
       "      <th>Residual</th>\n",
       "      <td>1455.0</td>\n",
       "      <td>5.109804e+12</td>\n",
       "      <td>3.511893e+09</td>\n",
       "      <td>NaN</td>\n",
       "      <td>NaN</td>\n",
       "    </tr>\n",
       "  </tbody>\n",
       "</table>\n",
       "</div>"
      ],
      "text/plain": [
       "               df        sum_sq       mean_sq           F        PR(>F)\n",
       "HeatingQC     4.0  1.479951e+12  3.699877e+11  105.352779  7.121485e-79\n",
       "Residual   1455.0  5.109804e+12  3.511893e+09         NaN           NaN"
      ]
     },
     "execution_count": 68,
     "metadata": {},
     "output_type": "execute_result"
    }
   ],
   "source": [
    "model = ols('SalePrice~HeatingQC',data= data).fit()\n",
    "anova= sm.stats.anova_lm(model)\n",
    "anova"
   ]
  },
  {
   "cell_type": "code",
   "execution_count": 69,
   "id": "20260052",
   "metadata": {},
   "outputs": [
    {
     "name": "stdout",
     "output_type": "stream",
     "text": [
      "       Multiple Comparison of Means - Tukey HSD, FWER=0.05       \n",
      "=================================================================\n",
      "group1 group2   meandiff   p-adj     lower        upper    reject\n",
      "-----------------------------------------------------------------\n",
      "    Ex     Fa   -84136.633    0.0 -108010.9268 -60262.3392   True\n",
      "    Ex     Gd  -51632.4693    0.0  -63634.7077 -39630.2308   True\n",
      "    Ex     Po -121056.1228 0.2468 -283019.5587  40907.3131  False\n",
      "    Ex     TA  -65819.4733    0.0  -75646.0081 -55992.9384   True\n",
      "    Fa     Gd   32504.1637 0.0044    7140.2323  57868.0952   True\n",
      "    Fa     Po  -36919.4898 0.9725 -200416.9817 126578.0021  False\n",
      "    Fa     TA   18317.1597  0.243    -6092.594  42726.9135  False\n",
      "    Gd     Po  -69423.6535 0.7691 -231613.3624  92766.0554  False\n",
      "    Gd     TA   -14187.004  0.025  -27221.8764  -1152.1315   True\n",
      "    Po     TA   55236.6495 0.8849 -106806.5815 217279.8806  False\n",
      "-----------------------------------------------------------------\n"
     ]
    }
   ],
   "source": [
    "tukey = pairwise_tukeyhsd(data.SalePrice,data.HeatingQC,alpha=0.05)\n",
    "print(tukey)"
   ]
  },
  {
   "cell_type": "code",
   "execution_count": 70,
   "id": "74814de0",
   "metadata": {},
   "outputs": [],
   "source": [
    "data.HeatingQC= data.HeatingQC.replace({'Po':'Ex','TA':'Fa'})"
   ]
  },
  {
   "cell_type": "code",
   "execution_count": 71,
   "id": "e7e10234",
   "metadata": {},
   "outputs": [
    {
     "name": "stdout",
     "output_type": "stream",
     "text": [
      "      Multiple Comparison of Means - Tukey HSD, FWER=0.05      \n",
      "===============================================================\n",
      "group1 group2   meandiff  p-adj     lower       upper    reject\n",
      "---------------------------------------------------------------\n",
      "    Ex     Fa -67537.9618    0.0 -75715.1753 -59360.7483   True\n",
      "    Ex     Gd -51469.3209    0.0 -61800.0485 -41138.5932   True\n",
      "    Fa     Gd  16068.6409 0.0018   5056.8201  27080.4618   True\n",
      "---------------------------------------------------------------\n"
     ]
    }
   ],
   "source": [
    "tukey = pairwise_tukeyhsd(data.SalePrice,data.HeatingQC,alpha=0.05)\n",
    "print(tukey)"
   ]
  },
  {
   "cell_type": "code",
   "execution_count": null,
   "id": "8e61a72b",
   "metadata": {},
   "outputs": [],
   "source": []
  },
  {
   "cell_type": "markdown",
   "id": "5f82898a",
   "metadata": {},
   "source": [
    "# 10Electrical"
   ]
  },
  {
   "cell_type": "code",
   "execution_count": 72,
   "id": "877831fe",
   "metadata": {},
   "outputs": [
    {
     "data": {
      "text/plain": [
       "SBrkr    1334\n",
       "FuseA      94\n",
       "FuseF      27\n",
       "FuseP       3\n",
       "Mix         1\n",
       "Name: Electrical, dtype: int64"
      ]
     },
     "execution_count": 72,
     "metadata": {},
     "output_type": "execute_result"
    }
   ],
   "source": [
    "data.Electrical.value_counts()"
   ]
  },
  {
   "cell_type": "code",
   "execution_count": 73,
   "id": "274025ff",
   "metadata": {},
   "outputs": [
    {
     "data": {
      "text/plain": [
       "1"
      ]
     },
     "execution_count": 73,
     "metadata": {},
     "output_type": "execute_result"
    }
   ],
   "source": [
    "data.Electrical.isnull().sum()"
   ]
  },
  {
   "cell_type": "code",
   "execution_count": 74,
   "id": "361c7e77",
   "metadata": {},
   "outputs": [],
   "source": [
    "data.Electrical.fillna('SBrkr', inplace = True)"
   ]
  },
  {
   "cell_type": "code",
   "execution_count": 75,
   "id": "9da380b6",
   "metadata": {},
   "outputs": [
    {
     "data": {
      "text/plain": [
       "0"
      ]
     },
     "execution_count": 75,
     "metadata": {},
     "output_type": "execute_result"
    }
   ],
   "source": [
    "data.Electrical.isnull().sum()"
   ]
  },
  {
   "cell_type": "code",
   "execution_count": 76,
   "id": "6f21a974",
   "metadata": {},
   "outputs": [
    {
     "data": {
      "text/html": [
       "<div>\n",
       "<style scoped>\n",
       "    .dataframe tbody tr th:only-of-type {\n",
       "        vertical-align: middle;\n",
       "    }\n",
       "\n",
       "    .dataframe tbody tr th {\n",
       "        vertical-align: top;\n",
       "    }\n",
       "\n",
       "    .dataframe thead th {\n",
       "        text-align: right;\n",
       "    }\n",
       "</style>\n",
       "<table border=\"1\" class=\"dataframe\">\n",
       "  <thead>\n",
       "    <tr style=\"text-align: right;\">\n",
       "      <th></th>\n",
       "      <th>df</th>\n",
       "      <th>sum_sq</th>\n",
       "      <th>mean_sq</th>\n",
       "      <th>F</th>\n",
       "      <th>PR(&gt;F)</th>\n",
       "    </tr>\n",
       "  </thead>\n",
       "  <tbody>\n",
       "    <tr>\n",
       "      <th>Electrical</th>\n",
       "      <td>4.0</td>\n",
       "      <td>4.892899e+11</td>\n",
       "      <td>1.223225e+11</td>\n",
       "      <td>29.1747</td>\n",
       "      <td>0.0</td>\n",
       "    </tr>\n",
       "    <tr>\n",
       "      <th>Residual</th>\n",
       "      <td>1455.0</td>\n",
       "      <td>6.100465e+12</td>\n",
       "      <td>4.192760e+09</td>\n",
       "      <td>NaN</td>\n",
       "      <td>NaN</td>\n",
       "    </tr>\n",
       "  </tbody>\n",
       "</table>\n",
       "</div>"
      ],
      "text/plain": [
       "                df        sum_sq       mean_sq        F  PR(>F)\n",
       "Electrical     4.0  4.892899e+11  1.223225e+11  29.1747     0.0\n",
       "Residual    1455.0  6.100465e+12  4.192760e+09      NaN     NaN"
      ]
     },
     "execution_count": 76,
     "metadata": {},
     "output_type": "execute_result"
    }
   ],
   "source": [
    "model = ols(\"SalePrice~Electrical\", data = data).fit()\n",
    "anova = sm.stats.anova_lm(model)\n",
    "round(anova,4)"
   ]
  },
  {
   "cell_type": "code",
   "execution_count": 77,
   "id": "6df681da",
   "metadata": {},
   "outputs": [
    {
     "name": "stdout",
     "output_type": "stream",
     "text": [
      "      Multiple Comparison of Means - Tukey HSD, FWER=0.05       \n",
      "================================================================\n",
      "group1 group2   meandiff  p-adj     lower        upper    reject\n",
      "----------------------------------------------------------------\n",
      " FuseA  FuseF -14521.4492 0.8429  -53135.9434  24093.0451  False\n",
      " FuseA  FuseP -24863.5603 0.9658 -128584.1048  78856.9842  False\n",
      " FuseA    Mix -55196.8936 0.9155 -232984.4459 122590.6587  False\n",
      " FuseA  SBrkr  60687.9629    0.0   41816.0889   79559.837   True\n",
      " FuseF  FuseP -10342.1111  0.999 -117969.1998  97284.9776  False\n",
      " FuseF    Mix -40675.4444 0.9724 -220770.0102 139419.1214  False\n",
      " FuseF  SBrkr  75209.4121    0.0   40832.2902  109586.534   True\n",
      " FuseP    Mix -30333.3333 0.9943 -234541.3763 173874.7096  False\n",
      " FuseP  SBrkr  85551.5232   0.15  -16667.1575 187770.2039  False\n",
      "   Mix  SBrkr 115884.8566 0.3803  -61030.7196 292800.4327  False\n",
      "----------------------------------------------------------------\n"
     ]
    }
   ],
   "source": [
    "tukey = pairwise_tukeyhsd(data.SalePrice,data.Electrical,alpha = 0.05)\n",
    "print(tukey)"
   ]
  },
  {
   "cell_type": "code",
   "execution_count": 78,
   "id": "ec675e68",
   "metadata": {},
   "outputs": [],
   "source": [
    "data.Electrical = data.Electrical.replace({\"FuseF\":\"FuseA\",\"FuseP\":\"FuseA\",\"Mix\":\"FuseA\"})"
   ]
  },
  {
   "cell_type": "code",
   "execution_count": 79,
   "id": "c7bb9e90",
   "metadata": {},
   "outputs": [
    {
     "name": "stdout",
     "output_type": "stream",
     "text": [
      "   Multiple Comparison of Means - Tukey HSD, FWER=0.05    \n",
      "==========================================================\n",
      "group1 group2  meandiff  p-adj   lower      upper   reject\n",
      "----------------------------------------------------------\n",
      " FuseA  SBrkr 64862.8966   0.0 52986.3101 76739.483   True\n",
      "----------------------------------------------------------\n"
     ]
    }
   ],
   "source": [
    "tukey = pairwise_tukeyhsd(data.SalePrice,data.Electrical,alpha = 0.05)\n",
    "print(tukey)"
   ]
  },
  {
   "cell_type": "markdown",
   "id": "f7fa9460",
   "metadata": {},
   "source": [
    "# 11Foundation"
   ]
  },
  {
   "cell_type": "code",
   "execution_count": 80,
   "id": "3f7207f2",
   "metadata": {},
   "outputs": [
    {
     "data": {
      "text/plain": [
       "PConc     647\n",
       "CBlock    634\n",
       "BrkTil    146\n",
       "Slab       24\n",
       "Stone       6\n",
       "Wood        3\n",
       "Name: Foundation, dtype: int64"
      ]
     },
     "execution_count": 80,
     "metadata": {},
     "output_type": "execute_result"
    }
   ],
   "source": [
    "data.Foundation.value_counts()"
   ]
  },
  {
   "cell_type": "code",
   "execution_count": 81,
   "id": "3ba6e4d8",
   "metadata": {},
   "outputs": [
    {
     "data": {
      "text/plain": [
       "0"
      ]
     },
     "execution_count": 81,
     "metadata": {},
     "output_type": "execute_result"
    }
   ],
   "source": [
    "data.Foundation.isnull().sum()"
   ]
  },
  {
   "cell_type": "code",
   "execution_count": 82,
   "id": "ab2c9a2d",
   "metadata": {},
   "outputs": [
    {
     "data": {
      "text/html": [
       "<div>\n",
       "<style scoped>\n",
       "    .dataframe tbody tr th:only-of-type {\n",
       "        vertical-align: middle;\n",
       "    }\n",
       "\n",
       "    .dataframe tbody tr th {\n",
       "        vertical-align: top;\n",
       "    }\n",
       "\n",
       "    .dataframe thead th {\n",
       "        text-align: right;\n",
       "    }\n",
       "</style>\n",
       "<table border=\"1\" class=\"dataframe\">\n",
       "  <thead>\n",
       "    <tr style=\"text-align: right;\">\n",
       "      <th></th>\n",
       "      <th>df</th>\n",
       "      <th>sum_sq</th>\n",
       "      <th>mean_sq</th>\n",
       "      <th>F</th>\n",
       "      <th>PR(&gt;F)</th>\n",
       "    </tr>\n",
       "  </thead>\n",
       "  <tbody>\n",
       "    <tr>\n",
       "      <th>Foundation</th>\n",
       "      <td>5.0</td>\n",
       "      <td>1.968463e+12</td>\n",
       "      <td>3.936926e+11</td>\n",
       "      <td>123.867747</td>\n",
       "      <td>2.237763e-109</td>\n",
       "    </tr>\n",
       "    <tr>\n",
       "      <th>Residual</th>\n",
       "      <td>1454.0</td>\n",
       "      <td>4.621292e+12</td>\n",
       "      <td>3.178330e+09</td>\n",
       "      <td>NaN</td>\n",
       "      <td>NaN</td>\n",
       "    </tr>\n",
       "  </tbody>\n",
       "</table>\n",
       "</div>"
      ],
      "text/plain": [
       "                df        sum_sq       mean_sq           F         PR(>F)\n",
       "Foundation     5.0  1.968463e+12  3.936926e+11  123.867747  2.237763e-109\n",
       "Residual    1454.0  4.621292e+12  3.178330e+09         NaN            NaN"
      ]
     },
     "execution_count": 82,
     "metadata": {},
     "output_type": "execute_result"
    }
   ],
   "source": [
    "model = ols('SalePrice ~ Foundation',data= data).fit()\n",
    "anova= sm.stats.anova_lm(model)\n",
    "anova"
   ]
  },
  {
   "cell_type": "code",
   "execution_count": 83,
   "id": "591aab29",
   "metadata": {},
   "outputs": [
    {
     "name": "stdout",
     "output_type": "stream",
     "text": [
      "       Multiple Comparison of Means - Tukey HSD, FWER=0.05       \n",
      "=================================================================\n",
      "group1 group2   meandiff   p-adj     lower        upper    reject\n",
      "-----------------------------------------------------------------\n",
      "BrkTil CBlock   18141.4476 0.0062    3373.9736  32908.9216   True\n",
      "BrkTil  PConc   86263.6414    0.0   71523.9634 101003.3194   True\n",
      "BrkTil   Slab  -24001.0497 0.3824  -59435.2293    11433.13  False\n",
      "BrkTil  Stone    34592.492 0.6816  -32419.0654 101604.0495  False\n",
      "BrkTil   Wood    54299.992 0.5644  -39528.7837 148128.7677  False\n",
      "CBlock  PConc   68122.1938    0.0   59132.2337   77112.154   True\n",
      "CBlock   Slab  -42142.4972 0.0045  -75596.0825   -8688.912   True\n",
      "CBlock  Stone   16451.0444 0.9806  -49534.6367  82436.7255  False\n",
      "CBlock   Wood   36158.5444 0.8781  -56940.3301 129257.4189  False\n",
      " PConc   Slab -110264.6911    0.0 -143706.0155 -76823.3666   True\n",
      " PConc  Stone  -51671.1494 0.2224 -117650.6154  14308.3165  False\n",
      " PConc   Wood  -31963.6494 0.9244 -125058.1189  61130.8201  False\n",
      "  Slab  Stone   58593.5417 0.2041  -14834.0615 132021.1448  False\n",
      "  Slab   Wood   78301.0417 0.2079  -20212.4256 176814.5089  False\n",
      " Stone   Wood      19707.5 0.9964  -94046.0537 133461.0537  False\n",
      "-----------------------------------------------------------------\n"
     ]
    }
   ],
   "source": [
    "tukey = pairwise_tukeyhsd(data.SalePrice,data.Foundation,alpha=0.05)\n",
    "print(tukey)"
   ]
  },
  {
   "cell_type": "code",
   "execution_count": 84,
   "id": "6bccd14c",
   "metadata": {},
   "outputs": [],
   "source": [
    "data.Foundation=data.Foundation.replace({'Slab':'BrkTil','Stone':'BrkTil','Wood':'BrkTil'})"
   ]
  },
  {
   "cell_type": "code",
   "execution_count": 85,
   "id": "65e8ee80",
   "metadata": {},
   "outputs": [
    {
     "name": "stdout",
     "output_type": "stream",
     "text": [
      "    Multiple Comparison of Means - Tukey HSD, FWER=0.05     \n",
      "============================================================\n",
      "group1 group2  meandiff  p-adj    lower      upper    reject\n",
      "------------------------------------------------------------\n",
      "BrkTil CBlock 19289.8848 0.0002  8070.7286  30509.041   True\n",
      "BrkTil  PConc 87412.0786    0.0  76217.766 98606.3913   True\n",
      "CBlock  PConc 68122.1938    0.0 60714.8269 75529.5608   True\n",
      "------------------------------------------------------------\n"
     ]
    }
   ],
   "source": [
    "tukey = pairwise_tukeyhsd(data.SalePrice,data.Foundation,alpha=0.05)\n",
    "print(tukey)"
   ]
  },
  {
   "cell_type": "markdown",
   "id": "3478b0c5",
   "metadata": {},
   "source": [
    "# 12PavedDrive"
   ]
  },
  {
   "cell_type": "code",
   "execution_count": 86,
   "id": "2966c594",
   "metadata": {},
   "outputs": [
    {
     "data": {
      "text/plain": [
       "Y    1340\n",
       "N      90\n",
       "P      30\n",
       "Name: PavedDrive, dtype: int64"
      ]
     },
     "execution_count": 86,
     "metadata": {},
     "output_type": "execute_result"
    }
   ],
   "source": [
    "data.PavedDrive.value_counts()"
   ]
  },
  {
   "cell_type": "code",
   "execution_count": 87,
   "id": "393111ba",
   "metadata": {},
   "outputs": [
    {
     "data": {
      "text/plain": [
       "0"
      ]
     },
     "execution_count": 87,
     "metadata": {},
     "output_type": "execute_result"
    }
   ],
   "source": [
    "data.PavedDrive.isnull().sum()"
   ]
  },
  {
   "cell_type": "code",
   "execution_count": 88,
   "id": "f643a4b5",
   "metadata": {},
   "outputs": [
    {
     "data": {
      "text/html": [
       "<div>\n",
       "<style scoped>\n",
       "    .dataframe tbody tr th:only-of-type {\n",
       "        vertical-align: middle;\n",
       "    }\n",
       "\n",
       "    .dataframe tbody tr th {\n",
       "        vertical-align: top;\n",
       "    }\n",
       "\n",
       "    .dataframe thead th {\n",
       "        text-align: right;\n",
       "    }\n",
       "</style>\n",
       "<table border=\"1\" class=\"dataframe\">\n",
       "  <thead>\n",
       "    <tr style=\"text-align: right;\">\n",
       "      <th></th>\n",
       "      <th>df</th>\n",
       "      <th>sum_sq</th>\n",
       "      <th>mean_sq</th>\n",
       "      <th>F</th>\n",
       "      <th>PR(&gt;F)</th>\n",
       "    </tr>\n",
       "  </thead>\n",
       "  <tbody>\n",
       "    <tr>\n",
       "      <th>PavedDrive</th>\n",
       "      <td>2.0</td>\n",
       "      <td>4.460977e+11</td>\n",
       "      <td>2.230489e+11</td>\n",
       "      <td>52.897187</td>\n",
       "      <td>6.649574e-23</td>\n",
       "    </tr>\n",
       "    <tr>\n",
       "      <th>Residual</th>\n",
       "      <td>1457.0</td>\n",
       "      <td>6.143657e+12</td>\n",
       "      <td>4.216649e+09</td>\n",
       "      <td>NaN</td>\n",
       "      <td>NaN</td>\n",
       "    </tr>\n",
       "  </tbody>\n",
       "</table>\n",
       "</div>"
      ],
      "text/plain": [
       "                df        sum_sq       mean_sq          F        PR(>F)\n",
       "PavedDrive     2.0  4.460977e+11  2.230489e+11  52.897187  6.649574e-23\n",
       "Residual    1457.0  6.143657e+12  4.216649e+09        NaN           NaN"
      ]
     },
     "execution_count": 88,
     "metadata": {},
     "output_type": "execute_result"
    }
   ],
   "source": [
    "model = ols('SalePrice~PavedDrive',data=data).fit()\n",
    "anova=sm.stats.anova_lm(model)\n",
    "anova"
   ]
  },
  {
   "cell_type": "code",
   "execution_count": 89,
   "id": "78640894",
   "metadata": {},
   "outputs": [
    {
     "name": "stdout",
     "output_type": "stream",
     "text": [
      "     Multiple Comparison of Means - Tukey HSD, FWER=0.05     \n",
      "=============================================================\n",
      "group1 group2  meandiff  p-adj     lower      upper    reject\n",
      "-------------------------------------------------------------\n",
      "     N      P 17290.8778 0.4164 -14826.4567 49408.2122  False\n",
      "     N      Y 67483.7192    0.0  50894.5316 84072.9068   True\n",
      "     P      Y 50192.8414 0.0001  22068.7818 78316.9011   True\n",
      "-------------------------------------------------------------\n"
     ]
    }
   ],
   "source": [
    "tukey = pairwise_tukeyhsd(data.SalePrice,data.PavedDrive,alpha=0.05)\n",
    "print(tukey)"
   ]
  },
  {
   "cell_type": "code",
   "execution_count": 90,
   "id": "e1ea166b",
   "metadata": {},
   "outputs": [],
   "source": [
    "data.PavedDrive=data.PavedDrive.replace({'P':'N'})"
   ]
  },
  {
   "cell_type": "code",
   "execution_count": 91,
   "id": "a3ad9147",
   "metadata": {},
   "outputs": [
    {
     "name": "stdout",
     "output_type": "stream",
     "text": [
      "    Multiple Comparison of Means - Tukey HSD, FWER=0.05    \n",
      "===========================================================\n",
      "group1 group2  meandiff  p-adj   lower      upper    reject\n",
      "-----------------------------------------------------------\n",
      "     N      Y 63160.9998   0.0 51021.1159 75300.8836   True\n",
      "-----------------------------------------------------------\n"
     ]
    }
   ],
   "source": [
    "tukey = pairwise_tukeyhsd(data.SalePrice,data.PavedDrive,alpha=0.05)\n",
    "print(tukey)"
   ]
  },
  {
   "cell_type": "markdown",
   "id": "5b37a889",
   "metadata": {},
   "source": [
    "# 13SaleType"
   ]
  },
  {
   "cell_type": "code",
   "execution_count": 92,
   "id": "5bd135d5",
   "metadata": {},
   "outputs": [
    {
     "data": {
      "text/plain": [
       "WD       1267\n",
       "New       122\n",
       "COD        43\n",
       "ConLD       9\n",
       "ConLI       5\n",
       "ConLw       5\n",
       "CWD         4\n",
       "Oth         3\n",
       "Con         2\n",
       "Name: SaleType, dtype: int64"
      ]
     },
     "execution_count": 92,
     "metadata": {},
     "output_type": "execute_result"
    }
   ],
   "source": [
    "data.SaleType.value_counts()"
   ]
  },
  {
   "cell_type": "code",
   "execution_count": 93,
   "id": "cc843d1c",
   "metadata": {},
   "outputs": [
    {
     "data": {
      "text/plain": [
       "0"
      ]
     },
     "execution_count": 93,
     "metadata": {},
     "output_type": "execute_result"
    }
   ],
   "source": [
    "data.SaleType.isnull().sum()"
   ]
  },
  {
   "cell_type": "code",
   "execution_count": 94,
   "id": "e1c8e2df",
   "metadata": {},
   "outputs": [
    {
     "data": {
      "text/html": [
       "<div>\n",
       "<style scoped>\n",
       "    .dataframe tbody tr th:only-of-type {\n",
       "        vertical-align: middle;\n",
       "    }\n",
       "\n",
       "    .dataframe tbody tr th {\n",
       "        vertical-align: top;\n",
       "    }\n",
       "\n",
       "    .dataframe thead th {\n",
       "        text-align: right;\n",
       "    }\n",
       "</style>\n",
       "<table border=\"1\" class=\"dataframe\">\n",
       "  <thead>\n",
       "    <tr style=\"text-align: right;\">\n",
       "      <th></th>\n",
       "      <th>df</th>\n",
       "      <th>sum_sq</th>\n",
       "      <th>mean_sq</th>\n",
       "      <th>F</th>\n",
       "      <th>PR(&gt;F)</th>\n",
       "    </tr>\n",
       "  </thead>\n",
       "  <tbody>\n",
       "    <tr>\n",
       "      <th>SaleType</th>\n",
       "      <td>8.0</td>\n",
       "      <td>8.610576e+11</td>\n",
       "      <td>1.076322e+11</td>\n",
       "      <td>27.261753</td>\n",
       "      <td>1.116109e-39</td>\n",
       "    </tr>\n",
       "    <tr>\n",
       "      <th>Residual</th>\n",
       "      <td>1451.0</td>\n",
       "      <td>5.728697e+12</td>\n",
       "      <td>3.948103e+09</td>\n",
       "      <td>NaN</td>\n",
       "      <td>NaN</td>\n",
       "    </tr>\n",
       "  </tbody>\n",
       "</table>\n",
       "</div>"
      ],
      "text/plain": [
       "              df        sum_sq       mean_sq          F        PR(>F)\n",
       "SaleType     8.0  8.610576e+11  1.076322e+11  27.261753  1.116109e-39\n",
       "Residual  1451.0  5.728697e+12  3.948103e+09        NaN           NaN"
      ]
     },
     "execution_count": 94,
     "metadata": {},
     "output_type": "execute_result"
    }
   ],
   "source": [
    "model = ols('SalePrice~SaleType',data= data).fit()\n",
    "anova= sm.stats.anova_lm(model)\n",
    "anova"
   ]
  },
  {
   "cell_type": "code",
   "execution_count": 95,
   "id": "656b5129",
   "metadata": {},
   "outputs": [
    {
     "name": "stdout",
     "output_type": "stream",
     "text": [
      "       Multiple Comparison of Means - Tukey HSD, FWER=0.05       \n",
      "=================================================================\n",
      "group1 group2   meandiff   p-adj     lower        upper    reject\n",
      "-----------------------------------------------------------------\n",
      "   COD    CWD   66626.7442 0.5235  -35406.7561 168660.2444  False\n",
      "   COD    Con  125626.7442 0.1271  -15566.8882 266820.3766  False\n",
      "   COD  ConLD   -5192.3669    1.0  -76741.4824  66356.7485  False\n",
      "   COD  ConLI   34034.2442 0.9669  -58193.0503 126261.5386  False\n",
      "   COD  ConLw    -273.2558    1.0  -92500.5503  91954.0386  False\n",
      "   COD    New  110059.7319    0.0   75443.0124 144676.4514   True\n",
      "   COD    Oth  -24123.2558 0.9994 -140681.2702  92434.7586  False\n",
      "   COD     WD    27394.099 0.1128   -2873.0276  57661.2255  False\n",
      "   CWD    Con      59000.0 0.9765 -110039.6993 228039.6993  False\n",
      "   CWD  ConLD  -71819.1111 0.6124 -189113.8427  45475.6204  False\n",
      "   CWD  ConLI     -32592.5 0.9975 -163530.0881  98345.0881  False\n",
      "   CWD  ConLw     -66900.0  0.812 -197837.5881  64037.5881  False\n",
      "   CWD    New   43432.9877 0.9124  -55749.1447 142615.1201  False\n",
      "   CWD    Oth     -90750.0 0.6201  -239829.002   58329.002  False\n",
      "   CWD     WD  -39232.6452 0.9459 -136981.6967  58516.4063  False\n",
      "   Con  ConLD -130819.1111 0.1621 -283406.3343  21768.1121  False\n",
      "   Con  ConLI     -91592.5 0.7201 -254900.3645  71715.3645  False\n",
      "   Con  ConLw    -125900.0 0.2874 -289207.8645  37407.8645  False\n",
      "   Con    New  -15567.0123    1.0 -154714.0641 123580.0396  False\n",
      "   Con    Oth    -149750.0 0.1829 -327933.4883  28433.4883  False\n",
      "   Con     WD  -98232.6452 0.4001 -236361.8736  39896.5831  False\n",
      " ConLD  ConLI   39226.6111 0.9714  -69645.2986 148098.5208  False\n",
      " ConLD  ConLw    4919.1111    1.0 -103952.7986 113791.0208  False\n",
      " ConLD    New  115252.0988    0.0   47831.5074 182672.6902   True\n",
      " ConLD    Oth  -18930.8889    1.0 -149057.7101 111195.9323  False\n",
      " ConLD     WD   32586.4659 0.8313  -32707.6213  97880.5531  False\n",
      " ConLI  ConLw     -34307.5 0.9947 -157756.6419  89141.6419  False\n",
      " ConLI    New   76025.4877 0.1665  -13037.0412 165088.0166  False\n",
      " ConLI    Oth     -58157.5 0.9406 -200704.2906  84389.2906  False\n",
      " ConLI     WD   -6640.1452    1.0   -94103.942  80823.6515  False\n",
      " ConLw    New  110332.9877 0.0039   21270.4588 199395.5166   True\n",
      " ConLw    Oth     -23850.0 0.9999 -166396.7906 118696.7906  False\n",
      " ConLw     WD   27667.3548 0.9874   -59796.442 115131.1515  False\n",
      "   New    Oth -134182.9877 0.0082 -248253.2772 -20112.6982   True\n",
      "   New     WD  -82665.6329    0.0 -101168.5831 -64162.6827   True\n",
      "   Oth     WD   51517.3548 0.8909  -61309.1165 164343.8261  False\n",
      "-----------------------------------------------------------------\n"
     ]
    }
   ],
   "source": [
    "tukey = pairwise_tukeyhsd(data.SalePrice,data.SaleType,alpha = 0.05)\n",
    "print(tukey)"
   ]
  },
  {
   "cell_type": "code",
   "execution_count": 96,
   "id": "015757f8",
   "metadata": {},
   "outputs": [],
   "source": [
    "data.SaleType= data.SaleType.replace({'CWD':'COD','Con':'COD','ConLD':'COD','ConLI':'COD','ConLw':'COD','Oth':'COD'})"
   ]
  },
  {
   "cell_type": "code",
   "execution_count": 97,
   "id": "8134a95d",
   "metadata": {},
   "outputs": [
    {
     "name": "stdout",
     "output_type": "stream",
     "text": [
      "      Multiple Comparison of Means - Tukey HSD, FWER=0.05      \n",
      "===============================================================\n",
      "group1 group2   meandiff  p-adj     lower       upper    reject\n",
      "---------------------------------------------------------------\n",
      "   COD    New 102067.2764    0.0  80007.6481 124126.9048   True\n",
      "   COD     WD  19401.6435 0.0313   1378.1406  37425.1465   True\n",
      "   New     WD -82665.6329    0.0 -96674.7746 -68656.4913   True\n",
      "---------------------------------------------------------------\n"
     ]
    }
   ],
   "source": [
    "tukey = pairwise_tukeyhsd(data.SalePrice,data.SaleType,alpha = 0.05)\n",
    "print(tukey)"
   ]
  },
  {
   "cell_type": "markdown",
   "id": "8a20f58c",
   "metadata": {},
   "source": [
    "# 14SaleCondition"
   ]
  },
  {
   "cell_type": "code",
   "execution_count": 98,
   "id": "450a480e",
   "metadata": {},
   "outputs": [
    {
     "data": {
      "text/plain": [
       "Normal     1198\n",
       "Partial     125\n",
       "Abnorml     101\n",
       "Family       20\n",
       "Alloca       12\n",
       "AdjLand       4\n",
       "Name: SaleCondition, dtype: int64"
      ]
     },
     "execution_count": 98,
     "metadata": {},
     "output_type": "execute_result"
    }
   ],
   "source": [
    "data.SaleCondition.value_counts()"
   ]
  },
  {
   "cell_type": "code",
   "execution_count": 99,
   "id": "2056c121",
   "metadata": {},
   "outputs": [
    {
     "data": {
      "text/plain": [
       "0"
      ]
     },
     "execution_count": 99,
     "metadata": {},
     "output_type": "execute_result"
    }
   ],
   "source": [
    "data.SaleCondition.isnull().sum()"
   ]
  },
  {
   "cell_type": "code",
   "execution_count": 100,
   "id": "21655c9f",
   "metadata": {},
   "outputs": [
    {
     "data": {
      "text/html": [
       "<div>\n",
       "<style scoped>\n",
       "    .dataframe tbody tr th:only-of-type {\n",
       "        vertical-align: middle;\n",
       "    }\n",
       "\n",
       "    .dataframe tbody tr th {\n",
       "        vertical-align: top;\n",
       "    }\n",
       "\n",
       "    .dataframe thead th {\n",
       "        text-align: right;\n",
       "    }\n",
       "</style>\n",
       "<table border=\"1\" class=\"dataframe\">\n",
       "  <thead>\n",
       "    <tr style=\"text-align: right;\">\n",
       "      <th></th>\n",
       "      <th>df</th>\n",
       "      <th>sum_sq</th>\n",
       "      <th>mean_sq</th>\n",
       "      <th>F</th>\n",
       "      <th>PR(&gt;F)</th>\n",
       "    </tr>\n",
       "  </thead>\n",
       "  <tbody>\n",
       "    <tr>\n",
       "      <th>SaleCondition</th>\n",
       "      <td>5.0</td>\n",
       "      <td>8.749043e+11</td>\n",
       "      <td>1.749809e+11</td>\n",
       "      <td>44.51948</td>\n",
       "      <td>7.670924e-43</td>\n",
       "    </tr>\n",
       "    <tr>\n",
       "      <th>Residual</th>\n",
       "      <td>1454.0</td>\n",
       "      <td>5.714851e+12</td>\n",
       "      <td>3.930434e+09</td>\n",
       "      <td>NaN</td>\n",
       "      <td>NaN</td>\n",
       "    </tr>\n",
       "  </tbody>\n",
       "</table>\n",
       "</div>"
      ],
      "text/plain": [
       "                   df        sum_sq       mean_sq         F        PR(>F)\n",
       "SaleCondition     5.0  8.749043e+11  1.749809e+11  44.51948  7.670924e-43\n",
       "Residual       1454.0  5.714851e+12  3.930434e+09       NaN           NaN"
      ]
     },
     "execution_count": 100,
     "metadata": {},
     "output_type": "execute_result"
    }
   ],
   "source": [
    "model = ols('SalePrice ~ SaleCondition',data = data).fit()\n",
    "anova= sm.stats.anova_lm(model)\n",
    "anova"
   ]
  },
  {
   "cell_type": "code",
   "execution_count": 101,
   "id": "ebdaf006",
   "metadata": {},
   "outputs": [
    {
     "name": "stdout",
     "output_type": "stream",
     "text": [
      "       Multiple Comparison of Means - Tukey HSD, FWER=0.05        \n",
      "==================================================================\n",
      " group1  group2   meandiff  p-adj     lower        upper    reject\n",
      "------------------------------------------------------------------\n",
      "Abnorml AdjLand -38392.0941 0.8364 -129594.1596  52809.9715  False\n",
      "Abnorml  Alloca  23271.7809 0.8293   -31352.863  77896.4249  False\n",
      "Abnorml  Family   7082.9059 0.9974  -36701.3232  50867.1351  False\n",
      "Abnorml  Normal  30793.9936    0.0   12257.9865  49330.0007   True\n",
      "Abnorml Partial 109364.1259    0.0   85428.8062 133299.4457   True\n",
      "AdjLand  Alloca   61663.875 0.5295  -41621.7971 164949.5471  False\n",
      "AdjLand  Family     45475.0 0.7716  -52510.3921 143460.3921  False\n",
      "AdjLand  Normal  69186.0876 0.2367  -20411.1327  158783.308  False\n",
      "AdjLand Partial   147756.22 0.0001   56888.3056 238624.1344   True\n",
      " Alloca  Family  -16188.875 0.9811  -81512.4697  49134.7197  False\n",
      " Alloca  Normal   7522.2126 0.9985  -44378.6242  59423.0495  False\n",
      " Alloca Partial   86092.345 0.0001   32027.4503 140157.2397   True\n",
      " Family  Normal  23711.0876  0.547  -16623.8086  64045.9839  False\n",
      " Family Partial   102281.22    0.0   59197.3503 145365.0897   True\n",
      " Normal Partial  78570.1324    0.0   61755.1191  95385.1456   True\n",
      "------------------------------------------------------------------\n"
     ]
    }
   ],
   "source": [
    "tukey = pairwise_tukeyhsd(data.SalePrice,data.SaleCondition,alpha = 0.05)\n",
    "print(tukey)"
   ]
  },
  {
   "cell_type": "code",
   "execution_count": 102,
   "id": "e8bef2d0",
   "metadata": {},
   "outputs": [],
   "source": [
    "data.SaleCondition= data.SaleCondition.replace({'AdjLand':'Abnorml','Family':'Abnorml','Alloca':'Abnorml'})"
   ]
  },
  {
   "cell_type": "code",
   "execution_count": 103,
   "id": "f261f50f",
   "metadata": {},
   "outputs": [
    {
     "name": "stdout",
     "output_type": "stream",
     "text": [
      "     Multiple Comparison of Means - Tukey HSD, FWER=0.05      \n",
      "==============================================================\n",
      " group1  group2  meandiff  p-adj   lower       upper    reject\n",
      "--------------------------------------------------------------\n",
      "Abnorml  Normal 28842.5256   0.0 15575.9035  42109.1477   True\n",
      "Abnorml Partial 107412.658   0.0 89218.0051 125607.3108   True\n",
      " Normal Partial 78570.1324   0.0 64743.8658  92396.3989   True\n",
      "--------------------------------------------------------------\n"
     ]
    }
   ],
   "source": [
    "tukey = pairwise_tukeyhsd(data.SalePrice,data.SaleCondition,alpha = 0.05)\n",
    "print(tukey)"
   ]
  },
  {
   "cell_type": "code",
   "execution_count": 104,
   "id": "7f2a4ea4",
   "metadata": {},
   "outputs": [
    {
     "data": {
      "text/plain": [
       "(1460, 20)"
      ]
     },
     "execution_count": 104,
     "metadata": {},
     "output_type": "execute_result"
    }
   ],
   "source": [
    "data.shape"
   ]
  },
  {
   "cell_type": "code",
   "execution_count": 105,
   "id": "ba40657b",
   "metadata": {},
   "outputs": [
    {
     "data": {
      "text/plain": [
       "Index(['SalePrice', 'YearBuilt', 'LotArea', 'TotalBsmtSF', '1stFlrSF',\n",
       "       'GarageArea', 'MSZoning', 'LandContour', 'BldgType', 'RoofStyle',\n",
       "       'Foundation', 'Electrical', 'BedroomAbvGr', 'GarageType', 'GarageCars',\n",
       "       'PavedDrive', 'SaleType', 'SaleCondition', 'HeatingQC', 'LotFrontage'],\n",
       "      dtype='object')"
      ]
     },
     "execution_count": 105,
     "metadata": {},
     "output_type": "execute_result"
    }
   ],
   "source": [
    "data.columns"
   ]
  },
  {
   "cell_type": "markdown",
   "id": "4857a554",
   "metadata": {},
   "source": [
    "# 15.BedroomAbvGr"
   ]
  },
  {
   "cell_type": "code",
   "execution_count": 106,
   "id": "bd4c2f0e",
   "metadata": {},
   "outputs": [
    {
     "data": {
      "text/plain": [
       "3    804\n",
       "2    358\n",
       "4    213\n",
       "1     50\n",
       "5     21\n",
       "6      7\n",
       "0      6\n",
       "8      1\n",
       "Name: BedroomAbvGr, dtype: int64"
      ]
     },
     "execution_count": 106,
     "metadata": {},
     "output_type": "execute_result"
    }
   ],
   "source": [
    "data.BedroomAbvGr.value_counts()"
   ]
  },
  {
   "cell_type": "code",
   "execution_count": 107,
   "id": "af0dbec0",
   "metadata": {},
   "outputs": [
    {
     "data": {
      "text/plain": [
       "0"
      ]
     },
     "execution_count": 107,
     "metadata": {},
     "output_type": "execute_result"
    }
   ],
   "source": [
    "data.BedroomAbvGr.isnull().sum()"
   ]
  },
  {
   "cell_type": "code",
   "execution_count": 108,
   "id": "069d6692",
   "metadata": {},
   "outputs": [
    {
     "data": {
      "text/html": [
       "<div>\n",
       "<style scoped>\n",
       "    .dataframe tbody tr th:only-of-type {\n",
       "        vertical-align: middle;\n",
       "    }\n",
       "\n",
       "    .dataframe tbody tr th {\n",
       "        vertical-align: top;\n",
       "    }\n",
       "\n",
       "    .dataframe thead th {\n",
       "        text-align: right;\n",
       "    }\n",
       "</style>\n",
       "<table border=\"1\" class=\"dataframe\">\n",
       "  <thead>\n",
       "    <tr style=\"text-align: right;\">\n",
       "      <th></th>\n",
       "      <th>df</th>\n",
       "      <th>sum_sq</th>\n",
       "      <th>mean_sq</th>\n",
       "      <th>F</th>\n",
       "      <th>PR(&gt;F)</th>\n",
       "    </tr>\n",
       "  </thead>\n",
       "  <tbody>\n",
       "    <tr>\n",
       "      <th>BedroomAbvGr</th>\n",
       "      <td>1.0</td>\n",
       "      <td>2.165568e+11</td>\n",
       "      <td>2.165568e+11</td>\n",
       "      <td>49.541824</td>\n",
       "      <td>2.979531e-12</td>\n",
       "    </tr>\n",
       "    <tr>\n",
       "      <th>Residual</th>\n",
       "      <td>1458.0</td>\n",
       "      <td>6.373198e+12</td>\n",
       "      <td>4.371192e+09</td>\n",
       "      <td>NaN</td>\n",
       "      <td>NaN</td>\n",
       "    </tr>\n",
       "  </tbody>\n",
       "</table>\n",
       "</div>"
      ],
      "text/plain": [
       "                  df        sum_sq       mean_sq          F        PR(>F)\n",
       "BedroomAbvGr     1.0  2.165568e+11  2.165568e+11  49.541824  2.979531e-12\n",
       "Residual      1458.0  6.373198e+12  4.371192e+09        NaN           NaN"
      ]
     },
     "execution_count": 108,
     "metadata": {},
     "output_type": "execute_result"
    }
   ],
   "source": [
    "model = ols(\"SalePrice~BedroomAbvGr\",data = data).fit()\n",
    "anova = sm.stats.anova_lm(model)\n",
    "anova"
   ]
  },
  {
   "cell_type": "code",
   "execution_count": 109,
   "id": "365d7aac",
   "metadata": {},
   "outputs": [
    {
     "name": "stdout",
     "output_type": "stream",
     "text": [
      "      Multiple Comparison of Means - Tukey HSD, FWER=0.05       \n",
      "================================================================\n",
      "group1 group2   meandiff  p-adj     lower        upper    reject\n",
      "----------------------------------------------------------------\n",
      "     0      1 -47365.2567 0.7004 -132946.1563  38215.6429  False\n",
      "     0      2 -59094.8552 0.3524 -140636.0395   22446.329  False\n",
      "     0      3 -34210.3389 0.9066 -115377.8672  46957.1894  False\n",
      "     0      4  -6119.5129    1.0  -88116.9148   75877.889  False\n",
      "     0      5  -33180.369 0.9573 -124874.1901   58513.452  False\n",
      "     0      6 -70220.4167 0.5275 -180422.6744  39981.8411  False\n",
      "     0      8 -13999.4167    1.0 -227951.6657 199952.8324  False\n",
      "     1      2 -11729.5985 0.9347  -41634.8203  18175.6232  False\n",
      "     1      3  13154.9177 0.8651   -15715.919  42025.7544  False\n",
      "     1      4  41245.7438 0.0016   10118.0796  72373.4079   True\n",
      "     1      5  14184.8876  0.991  -37323.5037  65693.2789  False\n",
      "     1      6   -22855.16 0.9888 -102791.9799  57081.6599  False\n",
      "     1      8    33365.84 0.9996 -166686.4592 233418.1392  False\n",
      "     2      3  24884.5163    0.0   12298.8275   37470.205   True\n",
      "     2      4  52975.3423    0.0   35834.5773  70116.1073   True\n",
      "     2      5  25914.4862 0.6416   -18560.099  70389.0713  False\n",
      "     2      6 -11125.5615 0.9998  -86721.6561  64470.5332  False\n",
      "     2      8  45095.4385 0.9973 -153262.3109  243453.188  False\n",
      "     3      4   28090.826    0.0    12826.202    43355.45   True\n",
      "     3      5   1029.9699    1.0  -42755.7772  44815.7169  False\n",
      "     3      6 -36010.0777 0.8317 -111202.9793  39182.8239  False\n",
      "     3      8  20210.9223    1.0 -177993.5169 218415.3614  False\n",
      "     4      5 -27060.8561 0.6113  -72366.4618  18244.7496  False\n",
      "     4      6 -64100.9038 0.1728 -140188.8707  11987.0632  False\n",
      "     4      8  -7879.9038    1.0 -206425.6314 190665.8239  False\n",
      "     5      6 -37040.0476 0.8988 -123489.8111  49409.7159  False\n",
      "     5      8  19180.9524    1.0 -183561.7142  221923.619  False\n",
      "     6      8     56221.0 0.9928  -155536.809  267978.809  False\n",
      "----------------------------------------------------------------\n"
     ]
    }
   ],
   "source": [
    "tukey = pairwise_tukeyhsd(data.SalePrice,data.BedroomAbvGr, alpha=0.05)\n",
    "print(tukey)"
   ]
  },
  {
   "cell_type": "code",
   "execution_count": 110,
   "id": "43060336",
   "metadata": {},
   "outputs": [],
   "source": [
    "data.BedroomAbvGr = data.BedroomAbvGr.replace({1:0,2:0,5:0,6:0,8:0}) "
   ]
  },
  {
   "cell_type": "code",
   "execution_count": 111,
   "id": "63750f12",
   "metadata": {},
   "outputs": [
    {
     "name": "stdout",
     "output_type": "stream",
     "text": [
      "    Multiple Comparison of Means - Tukey HSD, FWER=0.05    \n",
      "===========================================================\n",
      "group1 group2  meandiff  p-adj   lower      upper    reject\n",
      "-----------------------------------------------------------\n",
      "     0      3 21605.8035   0.0 12532.9296 30678.6773   True\n",
      "     0      4 49696.6295   0.0 36911.5984 62481.6606   True\n",
      "     3      4  28090.826   0.0 16274.4532 39907.1988   True\n",
      "-----------------------------------------------------------\n"
     ]
    }
   ],
   "source": [
    "tukey = pairwise_tukeyhsd(data.SalePrice,data.BedroomAbvGr, alpha=0.05)\n",
    "print(tukey)"
   ]
  },
  {
   "cell_type": "markdown",
   "id": "99b92458",
   "metadata": {},
   "source": [
    "# 16.LandContour"
   ]
  },
  {
   "cell_type": "code",
   "execution_count": 112,
   "id": "a1d7cb8b",
   "metadata": {},
   "outputs": [
    {
     "data": {
      "text/plain": [
       "Lvl    1311\n",
       "Bnk      63\n",
       "HLS      50\n",
       "Low      36\n",
       "Name: LandContour, dtype: int64"
      ]
     },
     "execution_count": 112,
     "metadata": {},
     "output_type": "execute_result"
    }
   ],
   "source": [
    "data.LandContour.value_counts()"
   ]
  },
  {
   "cell_type": "code",
   "execution_count": 113,
   "id": "0121ad5d",
   "metadata": {},
   "outputs": [
    {
     "data": {
      "text/plain": [
       "0"
      ]
     },
     "execution_count": 113,
     "metadata": {},
     "output_type": "execute_result"
    }
   ],
   "source": [
    "data.LandContour.isnull().sum()"
   ]
  },
  {
   "cell_type": "code",
   "execution_count": 114,
   "id": "197ba10f",
   "metadata": {},
   "outputs": [
    {
     "data": {
      "text/html": [
       "<div>\n",
       "<style scoped>\n",
       "    .dataframe tbody tr th:only-of-type {\n",
       "        vertical-align: middle;\n",
       "    }\n",
       "\n",
       "    .dataframe tbody tr th {\n",
       "        vertical-align: top;\n",
       "    }\n",
       "\n",
       "    .dataframe thead th {\n",
       "        text-align: right;\n",
       "    }\n",
       "</style>\n",
       "<table border=\"1\" class=\"dataframe\">\n",
       "  <thead>\n",
       "    <tr style=\"text-align: right;\">\n",
       "      <th></th>\n",
       "      <th>df</th>\n",
       "      <th>sum_sq</th>\n",
       "      <th>mean_sq</th>\n",
       "      <th>F</th>\n",
       "      <th>PR(&gt;F)</th>\n",
       "    </tr>\n",
       "  </thead>\n",
       "  <tbody>\n",
       "    <tr>\n",
       "      <th>LandContour</th>\n",
       "      <td>3.0</td>\n",
       "      <td>1.871070e+11</td>\n",
       "      <td>6.236900e+10</td>\n",
       "      <td>14.18308</td>\n",
       "      <td>4.103846e-09</td>\n",
       "    </tr>\n",
       "    <tr>\n",
       "      <th>Residual</th>\n",
       "      <td>1456.0</td>\n",
       "      <td>6.402648e+12</td>\n",
       "      <td>4.397423e+09</td>\n",
       "      <td>NaN</td>\n",
       "      <td>NaN</td>\n",
       "    </tr>\n",
       "  </tbody>\n",
       "</table>\n",
       "</div>"
      ],
      "text/plain": [
       "                 df        sum_sq       mean_sq         F        PR(>F)\n",
       "LandContour     3.0  1.871070e+11  6.236900e+10  14.18308  4.103846e-09\n",
       "Residual     1456.0  6.402648e+12  4.397423e+09       NaN           NaN"
      ]
     },
     "execution_count": 114,
     "metadata": {},
     "output_type": "execute_result"
    }
   ],
   "source": [
    "model = ols(\"SalePrice~LandContour\",data = data).fit()\n",
    "anova = sm.stats.anova_lm(model)\n",
    "anova"
   ]
  },
  {
   "cell_type": "code",
   "execution_count": 115,
   "id": "026f57a4",
   "metadata": {},
   "outputs": [
    {
     "name": "stdout",
     "output_type": "stream",
     "text": [
      "      Multiple Comparison of Means - Tukey HSD, FWER=0.05      \n",
      "===============================================================\n",
      "group1 group2   meandiff  p-adj     lower       upper    reject\n",
      "---------------------------------------------------------------\n",
      "   Bnk    HLS  77080.4906    0.0  44776.6506 109384.3306   True\n",
      "   Bnk    Low  58336.8929 0.0002  22702.7532  93971.0325   True\n",
      "   Bnk    Lvl  33575.8352 0.0005  11577.3918  55574.2786   True\n",
      "   HLS    Low -18743.5978 0.5674 -56024.2223  18537.0267  False\n",
      "   HLS    Lvl -43504.6554    0.0 -68080.7529  -18928.558   True\n",
      "   Low    Lvl -24761.0577 0.1209 -53574.9154   4052.8001  False\n",
      "---------------------------------------------------------------\n"
     ]
    }
   ],
   "source": [
    "tukey = pairwise_tukeyhsd(data.SalePrice,data.LandContour, alpha=0.05)\n",
    "print(tukey)"
   ]
  },
  {
   "cell_type": "code",
   "execution_count": 116,
   "id": "9d46b3b3",
   "metadata": {},
   "outputs": [],
   "source": [
    "data.LandContour = data.LandContour.replace({'Low':'HLS'}) "
   ]
  },
  {
   "cell_type": "code",
   "execution_count": 117,
   "id": "5cb98cc3",
   "metadata": {},
   "outputs": [
    {
     "name": "stdout",
     "output_type": "stream",
     "text": [
      "      Multiple Comparison of Means - Tukey HSD, FWER=0.05      \n",
      "===============================================================\n",
      "group1 group2   meandiff  p-adj     lower       upper    reject\n",
      "---------------------------------------------------------------\n",
      "   Bnk    HLS  69234.3334    0.0  43428.3774  95040.2895   True\n",
      "   Bnk    Lvl  33575.8352 0.0003  13504.8789  53646.7915   True\n",
      "   HLS    Lvl -35658.4982    0.0 -52980.3354 -18336.6611   True\n",
      "---------------------------------------------------------------\n"
     ]
    }
   ],
   "source": [
    "tukey = pairwise_tukeyhsd(data.SalePrice,data.LandContour, alpha=0.05)\n",
    "print(tukey)"
   ]
  },
  {
   "cell_type": "code",
   "execution_count": null,
   "id": "f3aeecbd",
   "metadata": {},
   "outputs": [],
   "source": []
  },
  {
   "cell_type": "code",
   "execution_count": null,
   "id": "ecf4ec3d",
   "metadata": {},
   "outputs": [],
   "source": []
  },
  {
   "cell_type": "markdown",
   "id": "a95cfc80",
   "metadata": {},
   "source": [
    "# Continous"
   ]
  },
  {
   "cell_type": "markdown",
   "id": "b5f0ff26",
   "metadata": {},
   "source": [
    "# 1.YearBuilt"
   ]
  },
  {
   "cell_type": "code",
   "execution_count": 118,
   "id": "894679e5",
   "metadata": {},
   "outputs": [
    {
     "data": {
      "text/plain": [
       "2006    67\n",
       "2005    64\n",
       "2004    54\n",
       "2007    49\n",
       "2003    45\n",
       "        ..\n",
       "1875     1\n",
       "1911     1\n",
       "1917     1\n",
       "1872     1\n",
       "1905     1\n",
       "Name: YearBuilt, Length: 112, dtype: int64"
      ]
     },
     "execution_count": 118,
     "metadata": {},
     "output_type": "execute_result"
    }
   ],
   "source": [
    "data.YearBuilt.value_counts()"
   ]
  },
  {
   "cell_type": "code",
   "execution_count": 119,
   "id": "fc4cadd9",
   "metadata": {},
   "outputs": [
    {
     "data": {
      "text/plain": [
       "0"
      ]
     },
     "execution_count": 119,
     "metadata": {},
     "output_type": "execute_result"
    }
   ],
   "source": [
    "data.YearBuilt.isnull().sum()"
   ]
  },
  {
   "cell_type": "code",
   "execution_count": 120,
   "id": "948f3bb2",
   "metadata": {},
   "outputs": [
    {
     "data": {
      "text/plain": [
       "<AxesSubplot:>"
      ]
     },
     "execution_count": 120,
     "metadata": {},
     "output_type": "execute_result"
    },
    {
     "data": {
      "image/png": "[encoded data removed]",
      "text/plain": [
       "<Figure size 640x480 with 1 Axes>"
      ]
     },
     "metadata": {},
     "output_type": "display_data"
    }
   ],
   "source": [
    "data.boxplot(\"YearBuilt\", vert = False)"
   ]
  },
  {
   "cell_type": "code",
   "execution_count": 121,
   "id": "fb5d3b60",
   "metadata": {},
   "outputs": [
    {
     "name": "stdout",
     "output_type": "stream",
     "text": [
      "1954.0 2000.0 46.0\n"
     ]
    }
   ],
   "source": [
    "iqr = stats.iqr(data.YearBuilt)\n",
    "\n",
    "q1 = data.YearBuilt.quantile(0.25)\n",
    "\n",
    "q3 = data.YearBuilt.quantile(0.75)\n",
    "\n",
    "print(q1,q3,iqr)\n"
   ]
  },
  {
   "cell_type": "code",
   "execution_count": 122,
   "id": "2198f70a",
   "metadata": {},
   "outputs": [
    {
     "data": {
      "text/plain": [
       "1885.0"
      ]
     },
     "execution_count": 122,
     "metadata": {},
     "output_type": "execute_result"
    }
   ],
   "source": [
    "lower = q1 - 1.5*iqr\n",
    "lower"
   ]
  },
  {
   "cell_type": "code",
   "execution_count": 123,
   "id": "6d05e171",
   "metadata": {},
   "outputs": [],
   "source": [
    "data.YearBuilt = np.where(data.YearBuilt<lower,lower,data.YearBuilt)"
   ]
  },
  {
   "cell_type": "code",
   "execution_count": 124,
   "id": "f092e749",
   "metadata": {},
   "outputs": [
    {
     "data": {
      "text/plain": [
       "<AxesSubplot:>"
      ]
     },
     "execution_count": 124,
     "metadata": {},
     "output_type": "execute_result"
    },
    {
     "data": {
      "image/png": "[encoded data removed]",
      "text/plain": [
       "<Figure size 640x480 with 1 Axes>"
      ]
     },
     "metadata": {},
     "output_type": "display_data"
    }
   ],
   "source": [
    "data.boxplot(\"YearBuilt\", vert = False)"
   ]
  },
  {
   "cell_type": "markdown",
   "id": "6f23e4a1",
   "metadata": {},
   "source": [
    "# 2.LotArea"
   ]
  },
  {
   "cell_type": "code",
   "execution_count": 125,
   "id": "6782ae19",
   "metadata": {},
   "outputs": [
    {
     "data": {
      "text/plain": [
       "7200     25\n",
       "9600     24\n",
       "6000     17\n",
       "9000     14\n",
       "8400     14\n",
       "         ..\n",
       "14601     1\n",
       "13682     1\n",
       "4058      1\n",
       "17104     1\n",
       "9717      1\n",
       "Name: LotArea, Length: 1073, dtype: int64"
      ]
     },
     "execution_count": 125,
     "metadata": {},
     "output_type": "execute_result"
    }
   ],
   "source": [
    "data.LotArea.value_counts()"
   ]
  },
  {
   "cell_type": "code",
   "execution_count": 126,
   "id": "63f1a1e5",
   "metadata": {},
   "outputs": [
    {
     "data": {
      "text/plain": [
       "0"
      ]
     },
     "execution_count": 126,
     "metadata": {},
     "output_type": "execute_result"
    }
   ],
   "source": [
    "data.LotArea.isnull().sum()"
   ]
  },
  {
   "cell_type": "code",
   "execution_count": 127,
   "id": "66c8fce2",
   "metadata": {},
   "outputs": [
    {
     "data": {
      "text/plain": [
       "<AxesSubplot:>"
      ]
     },
     "execution_count": 127,
     "metadata": {},
     "output_type": "execute_result"
    },
    {
     "data": {
      "image/png": "[encoded data removed]",
      "text/plain": [
       "<Figure size 640x480 with 1 Axes>"
      ]
     },
     "metadata": {},
     "output_type": "display_data"
    }
   ],
   "source": [
    "data.boxplot(\"LotArea\",vert = False)"
   ]
  },
  {
   "cell_type": "code",
   "execution_count": 128,
   "id": "63d7c4b5",
   "metadata": {},
   "outputs": [
    {
     "name": "stdout",
     "output_type": "stream",
     "text": [
      "7553.5 11601.5 4048.0\n"
     ]
    }
   ],
   "source": [
    "iqr = stats.iqr(data.LotArea)\n",
    "\n",
    "q1 = data.LotArea.quantile(0.25)\n",
    "\n",
    "q3 = data.LotArea.quantile(0.75)\n",
    "\n",
    "print(q1,q3,iqr)"
   ]
  },
  {
   "cell_type": "code",
   "execution_count": 129,
   "id": "bee99099",
   "metadata": {},
   "outputs": [
    {
     "data": {
      "text/plain": [
       "17673.5"
      ]
     },
     "execution_count": 129,
     "metadata": {},
     "output_type": "execute_result"
    }
   ],
   "source": [
    "upper = q3 + 1.5*iqr\n",
    "upper"
   ]
  },
  {
   "cell_type": "code",
   "execution_count": 130,
   "id": "ff8aa0c3",
   "metadata": {},
   "outputs": [
    {
     "data": {
      "text/plain": [
       "1481.5"
      ]
     },
     "execution_count": 130,
     "metadata": {},
     "output_type": "execute_result"
    }
   ],
   "source": [
    "lower = q1 - 1.5*iqr\n",
    "lower"
   ]
  },
  {
   "cell_type": "code",
   "execution_count": 131,
   "id": "3a4f6f73",
   "metadata": {},
   "outputs": [],
   "source": [
    "data.LotArea = np.where(data.LotArea<lower,lower,data.LotArea)\n",
    "data.LotArea = np.where(data.LotArea>upper,upper,data.LotArea)"
   ]
  },
  {
   "cell_type": "code",
   "execution_count": 132,
   "id": "a7cbe918",
   "metadata": {},
   "outputs": [
    {
     "data": {
      "text/plain": [
       "<AxesSubplot:>"
      ]
     },
     "execution_count": 132,
     "metadata": {},
     "output_type": "execute_result"
    },
    {
     "data": {
      "image/png": "[encoded data removed]",
      "text/plain": [
       "<Figure size 640x480 with 1 Axes>"
      ]
     },
     "metadata": {},
     "output_type": "display_data"
    }
   ],
   "source": [
    "data.boxplot(\"LotArea\", vert = False)"
   ]
  },
  {
   "cell_type": "markdown",
   "id": "8ac6f12a",
   "metadata": {},
   "source": [
    "# 3.TotalBsmtSF"
   ]
  },
  {
   "cell_type": "code",
   "execution_count": 133,
   "id": "42731457",
   "metadata": {},
   "outputs": [
    {
     "data": {
      "text/plain": [
       "0       37\n",
       "864     35\n",
       "672     17\n",
       "912     15\n",
       "1040    14\n",
       "        ..\n",
       "1838     1\n",
       "1581     1\n",
       "707      1\n",
       "611      1\n",
       "1542     1\n",
       "Name: TotalBsmtSF, Length: 721, dtype: int64"
      ]
     },
     "execution_count": 133,
     "metadata": {},
     "output_type": "execute_result"
    }
   ],
   "source": [
    "data.TotalBsmtSF.value_counts()"
   ]
  },
  {
   "cell_type": "code",
   "execution_count": 134,
   "id": "bfbf17ad",
   "metadata": {},
   "outputs": [
    {
     "data": {
      "text/plain": [
       "0"
      ]
     },
     "execution_count": 134,
     "metadata": {},
     "output_type": "execute_result"
    }
   ],
   "source": [
    "data.TotalBsmtSF.isnull().sum()"
   ]
  },
  {
   "cell_type": "code",
   "execution_count": 135,
   "id": "c1a0f930",
   "metadata": {},
   "outputs": [
    {
     "data": {
      "text/plain": [
       "<AxesSubplot:>"
      ]
     },
     "execution_count": 135,
     "metadata": {},
     "output_type": "execute_result"
    },
    {
     "data": {
      "image/png": "[encoded data removed]",
      "text/plain": [
       "<Figure size 640x480 with 1 Axes>"
      ]
     },
     "metadata": {},
     "output_type": "display_data"
    }
   ],
   "source": [
    "data.boxplot(\"TotalBsmtSF\")"
   ]
  },
  {
   "cell_type": "code",
   "execution_count": 136,
   "id": "2516d32b",
   "metadata": {},
   "outputs": [
    {
     "name": "stdout",
     "output_type": "stream",
     "text": [
      "795.75 1298.25 502.5\n"
     ]
    }
   ],
   "source": [
    "iqr = stats.iqr(data.TotalBsmtSF)\n",
    "\n",
    "q1 = data.TotalBsmtSF.quantile(0.25)\n",
    "\n",
    "q3 = data.TotalBsmtSF.quantile(0.75)\n",
    "\n",
    "print(q1,q3,iqr)"
   ]
  },
  {
   "cell_type": "code",
   "execution_count": 137,
   "id": "bf090025",
   "metadata": {},
   "outputs": [
    {
     "name": "stdout",
     "output_type": "stream",
     "text": [
      "42.0 2052.0\n"
     ]
    }
   ],
   "source": [
    "upper = q3 + 1.5*iqr\n",
    "\n",
    "lower = q1 - 1.5*iqr\n",
    "print(lower,upper)"
   ]
  },
  {
   "cell_type": "code",
   "execution_count": 138,
   "id": "3ae272c2",
   "metadata": {},
   "outputs": [],
   "source": [
    "data.TotalBsmtSF = np.where(data.TotalBsmtSF<lower,lower,data.TotalBsmtSF)\n",
    "data.TotalBsmtSF = np.where(data.TotalBsmtSF>upper,upper,data.TotalBsmtSF)"
   ]
  },
  {
   "cell_type": "code",
   "execution_count": 139,
   "id": "cebf88b8",
   "metadata": {},
   "outputs": [
    {
     "data": {
      "text/plain": [
       "<AxesSubplot:>"
      ]
     },
     "execution_count": 139,
     "metadata": {},
     "output_type": "execute_result"
    },
    {
     "data": {
      "image/png": "[encoded data removed]",
      "text/plain": [
       "<Figure size 640x480 with 1 Axes>"
      ]
     },
     "metadata": {},
     "output_type": "display_data"
    }
   ],
   "source": [
    "data.boxplot(\"TotalBsmtSF\",vert=False)"
   ]
  },
  {
   "cell_type": "markdown",
   "id": "9edf5a89",
   "metadata": {},
   "source": [
    "# 4.1stFlrSF"
   ]
  },
  {
   "cell_type": "code",
   "execution_count": 140,
   "id": "6948e5de",
   "metadata": {},
   "outputs": [
    {
     "data": {
      "text/plain": [
       "0"
      ]
     },
     "execution_count": 140,
     "metadata": {},
     "output_type": "execute_result"
    }
   ],
   "source": [
    "data[\"1stFlrSF\"].isnull().sum()"
   ]
  },
  {
   "cell_type": "code",
   "execution_count": 141,
   "id": "7eb89df3",
   "metadata": {},
   "outputs": [
    {
     "data": {
      "text/plain": [
       "864     25\n",
       "1040    16\n",
       "912     14\n",
       "894     12\n",
       "848     12\n",
       "        ..\n",
       "1509     1\n",
       "2515     1\n",
       "605      1\n",
       "3138     1\n",
       "1256     1\n",
       "Name: 1stFlrSF, Length: 753, dtype: int64"
      ]
     },
     "execution_count": 141,
     "metadata": {},
     "output_type": "execute_result"
    }
   ],
   "source": [
    "data[\"1stFlrSF\"].value_counts()"
   ]
  },
  {
   "cell_type": "code",
   "execution_count": 142,
   "id": "91b7c743",
   "metadata": {},
   "outputs": [
    {
     "data": {
      "text/plain": [
       "<AxesSubplot:>"
      ]
     },
     "execution_count": 142,
     "metadata": {},
     "output_type": "execute_result"
    },
    {
     "data": {
      "image/png": "[encoded data removed]",
      "text/plain": [
       "<Figure size 640x480 with 1 Axes>"
      ]
     },
     "metadata": {},
     "output_type": "display_data"
    }
   ],
   "source": [
    "data.boxplot(\"1stFlrSF\")"
   ]
  },
  {
   "cell_type": "code",
   "execution_count": 143,
   "id": "552d82cf",
   "metadata": {},
   "outputs": [
    {
     "name": "stdout",
     "output_type": "stream",
     "text": [
      "509.25 1391.25\n"
     ]
    }
   ],
   "source": [
    "iqr = stats.iqr(data['1stFlrSF'])\n",
    "\n",
    "q3 = data['1stFlrSF'].quantile(0.75)\n",
    "\n",
    "print(iqr,q3)"
   ]
  },
  {
   "cell_type": "code",
   "execution_count": 144,
   "id": "b0241c1e",
   "metadata": {},
   "outputs": [
    {
     "data": {
      "text/plain": [
       "2155.125"
      ]
     },
     "execution_count": 144,
     "metadata": {},
     "output_type": "execute_result"
    }
   ],
   "source": [
    "upper = q3 + 1.5*iqr\n",
    "upper"
   ]
  },
  {
   "cell_type": "code",
   "execution_count": 145,
   "id": "8a8345f2",
   "metadata": {},
   "outputs": [],
   "source": [
    "data['1stFlrSF'] = np.where(data['1stFlrSF']>upper,upper,data['1stFlrSF'])"
   ]
  },
  {
   "cell_type": "code",
   "execution_count": 146,
   "id": "e07f62b8",
   "metadata": {},
   "outputs": [
    {
     "data": {
      "text/plain": [
       "<AxesSubplot:>"
      ]
     },
     "execution_count": 146,
     "metadata": {},
     "output_type": "execute_result"
    },
    {
     "data": {
      "image/png": "[encoded data removed]",
      "text/plain": [
       "<Figure size 640x480 with 1 Axes>"
      ]
     },
     "metadata": {},
     "output_type": "display_data"
    }
   ],
   "source": [
    "data.boxplot(\"1stFlrSF\", vert = False)"
   ]
  },
  {
   "cell_type": "markdown",
   "id": "84f18432",
   "metadata": {},
   "source": [
    "# 5.LotFontage"
   ]
  },
  {
   "cell_type": "code",
   "execution_count": 147,
   "id": "d6332d2a",
   "metadata": {},
   "outputs": [
    {
     "data": {
      "text/plain": [
       "60.0     143\n",
       "70.0      70\n",
       "80.0      69\n",
       "50.0      57\n",
       "75.0      53\n",
       "        ... \n",
       "137.0      1\n",
       "141.0      1\n",
       "38.0       1\n",
       "140.0      1\n",
       "46.0       1\n",
       "Name: LotFrontage, Length: 110, dtype: int64"
      ]
     },
     "execution_count": 147,
     "metadata": {},
     "output_type": "execute_result"
    }
   ],
   "source": [
    "data.LotFrontage.value_counts()"
   ]
  },
  {
   "cell_type": "code",
   "execution_count": 148,
   "id": "6db2b159",
   "metadata": {},
   "outputs": [
    {
     "data": {
      "text/plain": [
       "259"
      ]
     },
     "execution_count": 148,
     "metadata": {},
     "output_type": "execute_result"
    }
   ],
   "source": [
    "data.LotFrontage.isnull().sum()"
   ]
  },
  {
   "cell_type": "code",
   "execution_count": 149,
   "id": "4cef06bb",
   "metadata": {},
   "outputs": [
    {
     "data": {
      "text/plain": [
       "<AxesSubplot:>"
      ]
     },
     "execution_count": 149,
     "metadata": {},
     "output_type": "execute_result"
    },
    {
     "data": {
      "image/png": "[encoded data removed]",
      "text/plain": [
       "<Figure size 640x480 with 1 Axes>"
      ]
     },
     "metadata": {},
     "output_type": "display_data"
    }
   ],
   "source": [
    "data.boxplot(\"LotFrontage\", vert = False)"
   ]
  },
  {
   "cell_type": "code",
   "execution_count": 150,
   "id": "9745f865",
   "metadata": {},
   "outputs": [
    {
     "data": {
      "text/plain": [
       "69.0"
      ]
     },
     "execution_count": 150,
     "metadata": {},
     "output_type": "execute_result"
    }
   ],
   "source": [
    "data.LotFrontage.median()"
   ]
  },
  {
   "cell_type": "code",
   "execution_count": 151,
   "id": "191bce22",
   "metadata": {},
   "outputs": [],
   "source": [
    "data.LotFrontage.fillna(69.0,inplace = True)"
   ]
  },
  {
   "cell_type": "code",
   "execution_count": 152,
   "id": "bfd10aa0",
   "metadata": {},
   "outputs": [
    {
     "data": {
      "text/plain": [
       "0"
      ]
     },
     "execution_count": 152,
     "metadata": {},
     "output_type": "execute_result"
    }
   ],
   "source": [
    "data.LotFrontage.isnull().sum()"
   ]
  },
  {
   "cell_type": "code",
   "execution_count": 153,
   "id": "55c8b042",
   "metadata": {},
   "outputs": [
    {
     "data": {
      "text/plain": [
       "<AxesSubplot:>"
      ]
     },
     "execution_count": 153,
     "metadata": {},
     "output_type": "execute_result"
    },
    {
     "data": {
      "image/png": "[encoded data removed]",
      "text/plain": [
       "<Figure size 640x480 with 1 Axes>"
      ]
     },
     "metadata": {},
     "output_type": "display_data"
    }
   ],
   "source": [
    "sns.boxplot(data=data.LotFrontage,orient = \"h\")"
   ]
  },
  {
   "cell_type": "code",
   "execution_count": 154,
   "id": "be2e256e",
   "metadata": {},
   "outputs": [],
   "source": [
    "iqr = stats.iqr(data.LotFrontage)\n",
    "\n",
    "Q1 = data.LotFrontage.quantile(0.25)\n",
    "\n",
    "Q3 = data.LotFrontage.quantile(0.75)\n",
    "\n",
    "lower_bound_LotFrontage = Q1-1.5*iqr \n",
    "\n",
    "upper_bound_LotFrontage = Q3+1.5*iqr"
   ]
  },
  {
   "cell_type": "code",
   "execution_count": 155,
   "id": "5938f068",
   "metadata": {},
   "outputs": [],
   "source": [
    "data.LotFrontage = np.where(data.LotFrontage>upper_bound_LotFrontage,upper_bound_LotFrontage,data.LotFrontage)"
   ]
  },
  {
   "cell_type": "code",
   "execution_count": 156,
   "id": "3b18a2cf",
   "metadata": {},
   "outputs": [],
   "source": [
    "data.LotFrontage = np.where(data.LotFrontage<lower_bound_LotFrontage,lower_bound_LotFrontage,data.LotFrontage)"
   ]
  },
  {
   "cell_type": "code",
   "execution_count": 157,
   "id": "9eae12f9",
   "metadata": {},
   "outputs": [
    {
     "data": {
      "text/plain": [
       "<AxesSubplot:>"
      ]
     },
     "execution_count": 157,
     "metadata": {},
     "output_type": "execute_result"
    },
    {
     "data": {
      "image/png": "[encoded data removed]",
      "text/plain": [
       "<Figure size 640x480 with 1 Axes>"
      ]
     },
     "metadata": {},
     "output_type": "display_data"
    }
   ],
   "source": [
    "data.boxplot('LotFrontage',vert = False)"
   ]
  },
  {
   "cell_type": "code",
   "execution_count": 158,
   "id": "6288c0ae",
   "metadata": {},
   "outputs": [],
   "source": [
    "numeric = data.select_dtypes(include='number')"
   ]
  },
  {
   "cell_type": "code",
   "execution_count": 159,
   "id": "a79befc9",
   "metadata": {},
   "outputs": [
    {
     "name": "stdout",
     "output_type": "stream",
     "text": [
      "<class 'pandas.core.frame.DataFrame'>\n",
      "RangeIndex: 1460 entries, 0 to 1459\n",
      "Data columns (total 9 columns):\n",
      " #   Column        Non-Null Count  Dtype  \n",
      "---  ------        --------------  -----  \n",
      " 0   SalePrice     1460 non-null   float64\n",
      " 1   YearBuilt     1460 non-null   float64\n",
      " 2   LotArea       1460 non-null   float64\n",
      " 3   TotalBsmtSF   1460 non-null   float64\n",
      " 4   1stFlrSF      1460 non-null   float64\n",
      " 5   GarageArea    1460 non-null   float64\n",
      " 6   BedroomAbvGr  1460 non-null   int64  \n",
      " 7   GarageCars    1460 non-null   int64  \n",
      " 8   LotFrontage   1460 non-null   float64\n",
      "dtypes: float64(7), int64(2)\n",
      "memory usage: 102.8 KB\n"
     ]
    }
   ],
   "source": [
    "numeric.info()"
   ]
  },
  {
   "cell_type": "code",
   "execution_count": 160,
   "id": "0b85a30f",
   "metadata": {},
   "outputs": [
    {
     "data": {
      "text/plain": [
       "Index(['SalePrice', 'YearBuilt', 'LotArea', 'TotalBsmtSF', '1stFlrSF',\n",
       "       'GarageArea', 'BedroomAbvGr', 'GarageCars', 'LotFrontage'],\n",
       "      dtype='object')"
      ]
     },
     "execution_count": 160,
     "metadata": {},
     "output_type": "execute_result"
    }
   ],
   "source": [
    "numeric.columns"
   ]
  },
  {
   "cell_type": "code",
   "execution_count": 161,
   "id": "6201f199",
   "metadata": {},
   "outputs": [],
   "source": [
    "b = []\n",
    "\n",
    "for i in numeric:\n",
    "    if len(data[i].unique())>25:\n",
    "        b.append(i)"
   ]
  },
  {
   "cell_type": "code",
   "execution_count": 162,
   "id": "fbd9e292",
   "metadata": {},
   "outputs": [
    {
     "name": "stdout",
     "output_type": "stream",
     "text": [
      "['SalePrice', 'YearBuilt', 'LotArea', 'TotalBsmtSF', '1stFlrSF', 'GarageArea', 'LotFrontage']\n"
     ]
    }
   ],
   "source": [
    "print(b)"
   ]
  },
  {
   "cell_type": "code",
   "execution_count": 163,
   "id": "144569f7",
   "metadata": {},
   "outputs": [],
   "source": [
    "data_conti = data[b]"
   ]
  },
  {
   "cell_type": "code",
   "execution_count": 164,
   "id": "8a0d2cd3",
   "metadata": {},
   "outputs": [
    {
     "data": {
      "text/html": [
       "<div>\n",
       "<style scoped>\n",
       "    .dataframe tbody tr th:only-of-type {\n",
       "        vertical-align: middle;\n",
       "    }\n",
       "\n",
       "    .dataframe tbody tr th {\n",
       "        vertical-align: top;\n",
       "    }\n",
       "\n",
       "    .dataframe thead th {\n",
       "        text-align: right;\n",
       "    }\n",
       "</style>\n",
       "<table border=\"1\" class=\"dataframe\">\n",
       "  <thead>\n",
       "    <tr style=\"text-align: right;\">\n",
       "      <th></th>\n",
       "      <th>SalePrice</th>\n",
       "      <th>YearBuilt</th>\n",
       "      <th>LotArea</th>\n",
       "      <th>TotalBsmtSF</th>\n",
       "      <th>1stFlrSF</th>\n",
       "      <th>GarageArea</th>\n",
       "      <th>LotFrontage</th>\n",
       "    </tr>\n",
       "  </thead>\n",
       "  <tbody>\n",
       "    <tr>\n",
       "      <th>0</th>\n",
       "      <td>208500.0</td>\n",
       "      <td>2003.0</td>\n",
       "      <td>8450.0</td>\n",
       "      <td>856.0</td>\n",
       "      <td>856.0</td>\n",
       "      <td>548.0</td>\n",
       "      <td>65.0</td>\n",
       "    </tr>\n",
       "    <tr>\n",
       "      <th>1</th>\n",
       "      <td>181500.0</td>\n",
       "      <td>1976.0</td>\n",
       "      <td>9600.0</td>\n",
       "      <td>1262.0</td>\n",
       "      <td>1262.0</td>\n",
       "      <td>460.0</td>\n",
       "      <td>80.0</td>\n",
       "    </tr>\n",
       "    <tr>\n",
       "      <th>2</th>\n",
       "      <td>223500.0</td>\n",
       "      <td>2001.0</td>\n",
       "      <td>11250.0</td>\n",
       "      <td>920.0</td>\n",
       "      <td>920.0</td>\n",
       "      <td>608.0</td>\n",
       "      <td>68.0</td>\n",
       "    </tr>\n",
       "    <tr>\n",
       "      <th>3</th>\n",
       "      <td>140000.0</td>\n",
       "      <td>1915.0</td>\n",
       "      <td>9550.0</td>\n",
       "      <td>756.0</td>\n",
       "      <td>961.0</td>\n",
       "      <td>642.0</td>\n",
       "      <td>60.0</td>\n",
       "    </tr>\n",
       "    <tr>\n",
       "      <th>4</th>\n",
       "      <td>250000.0</td>\n",
       "      <td>2000.0</td>\n",
       "      <td>14260.0</td>\n",
       "      <td>1145.0</td>\n",
       "      <td>1145.0</td>\n",
       "      <td>836.0</td>\n",
       "      <td>84.0</td>\n",
       "    </tr>\n",
       "    <tr>\n",
       "      <th>...</th>\n",
       "      <td>...</td>\n",
       "      <td>...</td>\n",
       "      <td>...</td>\n",
       "      <td>...</td>\n",
       "      <td>...</td>\n",
       "      <td>...</td>\n",
       "      <td>...</td>\n",
       "    </tr>\n",
       "    <tr>\n",
       "      <th>1455</th>\n",
       "      <td>175000.0</td>\n",
       "      <td>1999.0</td>\n",
       "      <td>7917.0</td>\n",
       "      <td>953.0</td>\n",
       "      <td>953.0</td>\n",
       "      <td>460.0</td>\n",
       "      <td>62.0</td>\n",
       "    </tr>\n",
       "    <tr>\n",
       "      <th>1456</th>\n",
       "      <td>210000.0</td>\n",
       "      <td>1978.0</td>\n",
       "      <td>13175.0</td>\n",
       "      <td>1542.0</td>\n",
       "      <td>2073.0</td>\n",
       "      <td>500.0</td>\n",
       "      <td>85.0</td>\n",
       "    </tr>\n",
       "    <tr>\n",
       "      <th>1457</th>\n",
       "      <td>266500.0</td>\n",
       "      <td>1941.0</td>\n",
       "      <td>9042.0</td>\n",
       "      <td>1152.0</td>\n",
       "      <td>1188.0</td>\n",
       "      <td>252.0</td>\n",
       "      <td>66.0</td>\n",
       "    </tr>\n",
       "    <tr>\n",
       "      <th>1458</th>\n",
       "      <td>142125.0</td>\n",
       "      <td>1950.0</td>\n",
       "      <td>9717.0</td>\n",
       "      <td>1078.0</td>\n",
       "      <td>1078.0</td>\n",
       "      <td>240.0</td>\n",
       "      <td>68.0</td>\n",
       "    </tr>\n",
       "    <tr>\n",
       "      <th>1459</th>\n",
       "      <td>147500.0</td>\n",
       "      <td>1965.0</td>\n",
       "      <td>9937.0</td>\n",
       "      <td>1256.0</td>\n",
       "      <td>1256.0</td>\n",
       "      <td>276.0</td>\n",
       "      <td>75.0</td>\n",
       "    </tr>\n",
       "  </tbody>\n",
       "</table>\n",
       "<p>1460 rows × 7 columns</p>\n",
       "</div>"
      ],
      "text/plain": [
       "      SalePrice  YearBuilt  LotArea  TotalBsmtSF  1stFlrSF  GarageArea  \\\n",
       "0      208500.0     2003.0   8450.0        856.0     856.0       548.0   \n",
       "1      181500.0     1976.0   9600.0       1262.0    1262.0       460.0   \n",
       "2      223500.0     2001.0  11250.0        920.0     920.0       608.0   \n",
       "3      140000.0     1915.0   9550.0        756.0     961.0       642.0   \n",
       "4      250000.0     2000.0  14260.0       1145.0    1145.0       836.0   \n",
       "...         ...        ...      ...          ...       ...         ...   \n",
       "1455   175000.0     1999.0   7917.0        953.0     953.0       460.0   \n",
       "1456   210000.0     1978.0  13175.0       1542.0    2073.0       500.0   \n",
       "1457   266500.0     1941.0   9042.0       1152.0    1188.0       252.0   \n",
       "1458   142125.0     1950.0   9717.0       1078.0    1078.0       240.0   \n",
       "1459   147500.0     1965.0   9937.0       1256.0    1256.0       276.0   \n",
       "\n",
       "      LotFrontage  \n",
       "0            65.0  \n",
       "1            80.0  \n",
       "2            68.0  \n",
       "3            60.0  \n",
       "4            84.0  \n",
       "...           ...  \n",
       "1455         62.0  \n",
       "1456         85.0  \n",
       "1457         66.0  \n",
       "1458         68.0  \n",
       "1459         75.0  \n",
       "\n",
       "[1460 rows x 7 columns]"
      ]
     },
     "execution_count": 164,
     "metadata": {},
     "output_type": "execute_result"
    }
   ],
   "source": [
    "data_conti"
   ]
  },
  {
   "cell_type": "code",
   "execution_count": 165,
   "id": "ff7ffe93",
   "metadata": {},
   "outputs": [
    {
     "data": {
      "text/html": [
       "<div>\n",
       "<style scoped>\n",
       "    .dataframe tbody tr th:only-of-type {\n",
       "        vertical-align: middle;\n",
       "    }\n",
       "\n",
       "    .dataframe tbody tr th {\n",
       "        vertical-align: top;\n",
       "    }\n",
       "\n",
       "    .dataframe thead th {\n",
       "        text-align: right;\n",
       "    }\n",
       "</style>\n",
       "<table border=\"1\" class=\"dataframe\">\n",
       "  <thead>\n",
       "    <tr style=\"text-align: right;\">\n",
       "      <th></th>\n",
       "      <th>SalePrice</th>\n",
       "      <th>YearBuilt</th>\n",
       "      <th>LotArea</th>\n",
       "      <th>TotalBsmtSF</th>\n",
       "      <th>1stFlrSF</th>\n",
       "      <th>GarageArea</th>\n",
       "      <th>LotFrontage</th>\n",
       "    </tr>\n",
       "  </thead>\n",
       "  <tbody>\n",
       "    <tr>\n",
       "      <th>SalePrice</th>\n",
       "      <td>1.000000</td>\n",
       "      <td>0.570327</td>\n",
       "      <td>0.435876</td>\n",
       "      <td>0.645251</td>\n",
       "      <td>0.621873</td>\n",
       "      <td>0.660029</td>\n",
       "      <td>0.375850</td>\n",
       "    </tr>\n",
       "    <tr>\n",
       "      <th>YearBuilt</th>\n",
       "      <td>0.570327</td>\n",
       "      <td>1.000000</td>\n",
       "      <td>0.065765</td>\n",
       "      <td>0.410450</td>\n",
       "      <td>0.288418</td>\n",
       "      <td>0.487439</td>\n",
       "      <td>0.140115</td>\n",
       "    </tr>\n",
       "    <tr>\n",
       "      <th>LotArea</th>\n",
       "      <td>0.435876</td>\n",
       "      <td>0.065765</td>\n",
       "      <td>1.000000</td>\n",
       "      <td>0.361769</td>\n",
       "      <td>0.458118</td>\n",
       "      <td>0.344650</td>\n",
       "      <td>0.579385</td>\n",
       "    </tr>\n",
       "    <tr>\n",
       "      <th>TotalBsmtSF</th>\n",
       "      <td>0.645251</td>\n",
       "      <td>0.410450</td>\n",
       "      <td>0.361769</td>\n",
       "      <td>1.000000</td>\n",
       "      <td>0.807158</td>\n",
       "      <td>0.485659</td>\n",
       "      <td>0.336444</td>\n",
       "    </tr>\n",
       "    <tr>\n",
       "      <th>1stFlrSF</th>\n",
       "      <td>0.621873</td>\n",
       "      <td>0.288418</td>\n",
       "      <td>0.458118</td>\n",
       "      <td>0.807158</td>\n",
       "      <td>1.000000</td>\n",
       "      <td>0.487426</td>\n",
       "      <td>0.392061</td>\n",
       "    </tr>\n",
       "    <tr>\n",
       "      <th>GarageArea</th>\n",
       "      <td>0.660029</td>\n",
       "      <td>0.487439</td>\n",
       "      <td>0.344650</td>\n",
       "      <td>0.485659</td>\n",
       "      <td>0.487426</td>\n",
       "      <td>1.000000</td>\n",
       "      <td>0.345119</td>\n",
       "    </tr>\n",
       "    <tr>\n",
       "      <th>LotFrontage</th>\n",
       "      <td>0.375850</td>\n",
       "      <td>0.140115</td>\n",
       "      <td>0.579385</td>\n",
       "      <td>0.336444</td>\n",
       "      <td>0.392061</td>\n",
       "      <td>0.345119</td>\n",
       "      <td>1.000000</td>\n",
       "    </tr>\n",
       "  </tbody>\n",
       "</table>\n",
       "</div>"
      ],
      "text/plain": [
       "             SalePrice  YearBuilt   LotArea  TotalBsmtSF  1stFlrSF  \\\n",
       "SalePrice     1.000000   0.570327  0.435876     0.645251  0.621873   \n",
       "YearBuilt     0.570327   1.000000  0.065765     0.410450  0.288418   \n",
       "LotArea       0.435876   0.065765  1.000000     0.361769  0.458118   \n",
       "TotalBsmtSF   0.645251   0.410450  0.361769     1.000000  0.807158   \n",
       "1stFlrSF      0.621873   0.288418  0.458118     0.807158  1.000000   \n",
       "GarageArea    0.660029   0.487439  0.344650     0.485659  0.487426   \n",
       "LotFrontage   0.375850   0.140115  0.579385     0.336444  0.392061   \n",
       "\n",
       "             GarageArea  LotFrontage  \n",
       "SalePrice      0.660029     0.375850  \n",
       "YearBuilt      0.487439     0.140115  \n",
       "LotArea        0.344650     0.579385  \n",
       "TotalBsmtSF    0.485659     0.336444  \n",
       "1stFlrSF       0.487426     0.392061  \n",
       "GarageArea     1.000000     0.345119  \n",
       "LotFrontage    0.345119     1.000000  "
      ]
     },
     "execution_count": 165,
     "metadata": {},
     "output_type": "execute_result"
    }
   ],
   "source": [
    "data_conti.corr()"
   ]
  },
  {
   "cell_type": "code",
   "execution_count": 166,
   "id": "3dbe3b6a",
   "metadata": {},
   "outputs": [
    {
     "data": {
      "text/plain": [
       "<AxesSubplot:>"
      ]
     },
     "execution_count": 166,
     "metadata": {},
     "output_type": "execute_result"
    },
    {
     "data": {
      "image/png": "[encoded data removed]",
      "text/plain": [
       "<Figure size 1000x1000 with 2 Axes>"
      ]
     },
     "metadata": {},
     "output_type": "display_data"
    }
   ],
   "source": [
    "plt.figure(figsize=(10,10))\n",
    "\n",
    "sns.heatmap(data_conti.corr(), annot=True, vmin= -1, vmax=1)"
   ]
  },
  {
   "cell_type": "code",
   "execution_count": 167,
   "id": "8ffa2a49",
   "metadata": {},
   "outputs": [
    {
     "data": {
      "text/plain": [
       "Index(['SalePrice', 'YearBuilt', 'LotArea', 'TotalBsmtSF', '1stFlrSF',\n",
       "       'GarageArea', 'LotFrontage'],\n",
       "      dtype='object')"
      ]
     },
     "execution_count": 167,
     "metadata": {},
     "output_type": "execute_result"
    }
   ],
   "source": [
    "data_conti.columns"
   ]
  },
  {
   "cell_type": "code",
   "execution_count": 168,
   "id": "51a8ae4e",
   "metadata": {},
   "outputs": [],
   "source": [
    "x = ['YearBuilt', 'LotArea', 'TotalBsmtSF', '1stFlrSF','GarageArea', 'LotFrontage']"
   ]
  },
  {
   "cell_type": "code",
   "execution_count": 169,
   "id": "cc374d34",
   "metadata": {},
   "outputs": [],
   "source": [
    "vif_da = data[x]"
   ]
  },
  {
   "cell_type": "code",
   "execution_count": 170,
   "id": "13fe59b9",
   "metadata": {},
   "outputs": [
    {
     "name": "stdout",
     "output_type": "stream",
     "text": [
      "       feature        VIF\n",
      "0    YearBuilt  20.908933\n",
      "1      LotArea  13.770347\n",
      "2  TotalBsmtSF  23.688105\n",
      "3     1stFlrSF  35.940961\n",
      "4   GarageArea   8.753981\n",
      "5  LotFrontage  27.035334\n"
     ]
    }
   ],
   "source": [
    "vif_data = pd.DataFrame()\n",
    "vif_data[\"feature\"] = vif_da.columns\n",
    "  \n",
    "# calculating VIF for each feature\n",
    "vif_data[\"VIF\"] = [variance_inflation_factor(vif_da.values,i) for i in range(len(vif_da.columns))]\n",
    "  \n",
    "print(vif_data)"
   ]
  },
  {
   "cell_type": "code",
   "execution_count": 184,
   "id": "bcf83278",
   "metadata": {},
   "outputs": [
    {
     "ename": "KeyError",
     "evalue": "\"['YearBuilt', 'TotalBsmtSF', '1stFlrSF', 'LotFrontage', 'LotArea'] not found in axis\"",
     "output_type": "error",
     "traceback": [
      "\u001b[1;31m---------------------------------------------------------------------------\u001b[0m",
      "\u001b[1;31mKeyError\u001b[0m                                  Traceback (most recent call last)",
      "\u001b[1;32m~\\AppData\\Local\\Temp\\ipykernel_12008\\611379988.py\u001b[0m in \u001b[0;36m<module>\u001b[1;34m\u001b[0m\n\u001b[1;32m----> 1\u001b[1;33m \u001b[0mdata\u001b[0m\u001b[1;33m.\u001b[0m\u001b[0mdrop\u001b[0m\u001b[1;33m(\u001b[0m\u001b[0mcolumns\u001b[0m\u001b[1;33m=\u001b[0m\u001b[1;33m[\u001b[0m\u001b[1;34m'YearBuilt'\u001b[0m\u001b[1;33m,\u001b[0m\u001b[1;34m'TotalBsmtSF'\u001b[0m\u001b[1;33m,\u001b[0m\u001b[1;34m'1stFlrSF'\u001b[0m\u001b[1;33m,\u001b[0m\u001b[1;34m'LotFrontage'\u001b[0m\u001b[1;33m,\u001b[0m\u001b[1;34m'LotArea'\u001b[0m\u001b[1;33m]\u001b[0m\u001b[1;33m,\u001b[0m\u001b[0maxis\u001b[0m\u001b[1;33m=\u001b[0m\u001b[1;36m1\u001b[0m\u001b[1;33m,\u001b[0m\u001b[0minplace\u001b[0m\u001b[1;33m=\u001b[0m\u001b[1;32mTrue\u001b[0m\u001b[1;33m)\u001b[0m\u001b[1;33m\u001b[0m\u001b[1;33m\u001b[0m\u001b[0m\n\u001b[0m",
      "\u001b[1;32m~\\anaconda3\\lib\\site-packages\\pandas\\util\\_decorators.py\u001b[0m in \u001b[0;36mwrapper\u001b[1;34m(*args, **kwargs)\u001b[0m\n\u001b[0;32m    309\u001b[0m                     \u001b[0mstacklevel\u001b[0m\u001b[1;33m=\u001b[0m\u001b[0mstacklevel\u001b[0m\u001b[1;33m,\u001b[0m\u001b[1;33m\u001b[0m\u001b[1;33m\u001b[0m\u001b[0m\n\u001b[0;32m    310\u001b[0m                 )\n\u001b[1;32m--> 311\u001b[1;33m             \u001b[1;32mreturn\u001b[0m \u001b[0mfunc\u001b[0m\u001b[1;33m(\u001b[0m\u001b[1;33m*\u001b[0m\u001b[0margs\u001b[0m\u001b[1;33m,\u001b[0m \u001b[1;33m**\u001b[0m\u001b[0mkwargs\u001b[0m\u001b[1;33m)\u001b[0m\u001b[1;33m\u001b[0m\u001b[1;33m\u001b[0m\u001b[0m\n\u001b[0m\u001b[0;32m    312\u001b[0m \u001b[1;33m\u001b[0m\u001b[0m\n\u001b[0;32m    313\u001b[0m         \u001b[1;32mreturn\u001b[0m \u001b[0mwrapper\u001b[0m\u001b[1;33m\u001b[0m\u001b[1;33m\u001b[0m\u001b[0m\n",
      "\u001b[1;32m~\\anaconda3\\lib\\site-packages\\pandas\\core\\frame.py\u001b[0m in \u001b[0;36mdrop\u001b[1;34m(self, labels, axis, index, columns, level, inplace, errors)\u001b[0m\n\u001b[0;32m   4955\u001b[0m                 \u001b[0mweight\u001b[0m  \u001b[1;36m1.0\u001b[0m     \u001b[1;36m0.8\u001b[0m\u001b[1;33m\u001b[0m\u001b[1;33m\u001b[0m\u001b[0m\n\u001b[0;32m   4956\u001b[0m         \"\"\"\n\u001b[1;32m-> 4957\u001b[1;33m         return super().drop(\n\u001b[0m\u001b[0;32m   4958\u001b[0m             \u001b[0mlabels\u001b[0m\u001b[1;33m=\u001b[0m\u001b[0mlabels\u001b[0m\u001b[1;33m,\u001b[0m\u001b[1;33m\u001b[0m\u001b[1;33m\u001b[0m\u001b[0m\n\u001b[0;32m   4959\u001b[0m             \u001b[0maxis\u001b[0m\u001b[1;33m=\u001b[0m\u001b[0maxis\u001b[0m\u001b[1;33m,\u001b[0m\u001b[1;33m\u001b[0m\u001b[1;33m\u001b[0m\u001b[0m\n",
      "\u001b[1;32m~\\anaconda3\\lib\\site-packages\\pandas\\core\\generic.py\u001b[0m in \u001b[0;36mdrop\u001b[1;34m(self, labels, axis, index, columns, level, inplace, errors)\u001b[0m\n\u001b[0;32m   4265\u001b[0m         \u001b[1;32mfor\u001b[0m \u001b[0maxis\u001b[0m\u001b[1;33m,\u001b[0m \u001b[0mlabels\u001b[0m \u001b[1;32min\u001b[0m \u001b[0maxes\u001b[0m\u001b[1;33m.\u001b[0m\u001b[0mitems\u001b[0m\u001b[1;33m(\u001b[0m\u001b[1;33m)\u001b[0m\u001b[1;33m:\u001b[0m\u001b[1;33m\u001b[0m\u001b[1;33m\u001b[0m\u001b[0m\n\u001b[0;32m   4266\u001b[0m             \u001b[1;32mif\u001b[0m \u001b[0mlabels\u001b[0m \u001b[1;32mis\u001b[0m \u001b[1;32mnot\u001b[0m \u001b[1;32mNone\u001b[0m\u001b[1;33m:\u001b[0m\u001b[1;33m\u001b[0m\u001b[1;33m\u001b[0m\u001b[0m\n\u001b[1;32m-> 4267\u001b[1;33m                 \u001b[0mobj\u001b[0m \u001b[1;33m=\u001b[0m \u001b[0mobj\u001b[0m\u001b[1;33m.\u001b[0m\u001b[0m_drop_axis\u001b[0m\u001b[1;33m(\u001b[0m\u001b[0mlabels\u001b[0m\u001b[1;33m,\u001b[0m \u001b[0maxis\u001b[0m\u001b[1;33m,\u001b[0m \u001b[0mlevel\u001b[0m\u001b[1;33m=\u001b[0m\u001b[0mlevel\u001b[0m\u001b[1;33m,\u001b[0m \u001b[0merrors\u001b[0m\u001b[1;33m=\u001b[0m\u001b[0merrors\u001b[0m\u001b[1;33m)\u001b[0m\u001b[1;33m\u001b[0m\u001b[1;33m\u001b[0m\u001b[0m\n\u001b[0m\u001b[0;32m   4268\u001b[0m \u001b[1;33m\u001b[0m\u001b[0m\n\u001b[0;32m   4269\u001b[0m         \u001b[1;32mif\u001b[0m \u001b[0minplace\u001b[0m\u001b[1;33m:\u001b[0m\u001b[1;33m\u001b[0m\u001b[1;33m\u001b[0m\u001b[0m\n",
      "\u001b[1;32m~\\anaconda3\\lib\\site-packages\\pandas\\core\\generic.py\u001b[0m in \u001b[0;36m_drop_axis\u001b[1;34m(self, labels, axis, level, errors, consolidate, only_slice)\u001b[0m\n\u001b[0;32m   4309\u001b[0m                 \u001b[0mnew_axis\u001b[0m \u001b[1;33m=\u001b[0m \u001b[0maxis\u001b[0m\u001b[1;33m.\u001b[0m\u001b[0mdrop\u001b[0m\u001b[1;33m(\u001b[0m\u001b[0mlabels\u001b[0m\u001b[1;33m,\u001b[0m \u001b[0mlevel\u001b[0m\u001b[1;33m=\u001b[0m\u001b[0mlevel\u001b[0m\u001b[1;33m,\u001b[0m \u001b[0merrors\u001b[0m\u001b[1;33m=\u001b[0m\u001b[0merrors\u001b[0m\u001b[1;33m)\u001b[0m\u001b[1;33m\u001b[0m\u001b[1;33m\u001b[0m\u001b[0m\n\u001b[0;32m   4310\u001b[0m             \u001b[1;32melse\u001b[0m\u001b[1;33m:\u001b[0m\u001b[1;33m\u001b[0m\u001b[1;33m\u001b[0m\u001b[0m\n\u001b[1;32m-> 4311\u001b[1;33m                 \u001b[0mnew_axis\u001b[0m \u001b[1;33m=\u001b[0m \u001b[0maxis\u001b[0m\u001b[1;33m.\u001b[0m\u001b[0mdrop\u001b[0m\u001b[1;33m(\u001b[0m\u001b[0mlabels\u001b[0m\u001b[1;33m,\u001b[0m \u001b[0merrors\u001b[0m\u001b[1;33m=\u001b[0m\u001b[0merrors\u001b[0m\u001b[1;33m)\u001b[0m\u001b[1;33m\u001b[0m\u001b[1;33m\u001b[0m\u001b[0m\n\u001b[0m\u001b[0;32m   4312\u001b[0m             \u001b[0mindexer\u001b[0m \u001b[1;33m=\u001b[0m \u001b[0maxis\u001b[0m\u001b[1;33m.\u001b[0m\u001b[0mget_indexer\u001b[0m\u001b[1;33m(\u001b[0m\u001b[0mnew_axis\u001b[0m\u001b[1;33m)\u001b[0m\u001b[1;33m\u001b[0m\u001b[1;33m\u001b[0m\u001b[0m\n\u001b[0;32m   4313\u001b[0m \u001b[1;33m\u001b[0m\u001b[0m\n",
      "\u001b[1;32m~\\anaconda3\\lib\\site-packages\\pandas\\core\\indexes\\base.py\u001b[0m in \u001b[0;36mdrop\u001b[1;34m(self, labels, errors)\u001b[0m\n\u001b[0;32m   6659\u001b[0m         \u001b[1;32mif\u001b[0m \u001b[0mmask\u001b[0m\u001b[1;33m.\u001b[0m\u001b[0many\u001b[0m\u001b[1;33m(\u001b[0m\u001b[1;33m)\u001b[0m\u001b[1;33m:\u001b[0m\u001b[1;33m\u001b[0m\u001b[1;33m\u001b[0m\u001b[0m\n\u001b[0;32m   6660\u001b[0m             \u001b[1;32mif\u001b[0m \u001b[0merrors\u001b[0m \u001b[1;33m!=\u001b[0m \u001b[1;34m\"ignore\"\u001b[0m\u001b[1;33m:\u001b[0m\u001b[1;33m\u001b[0m\u001b[1;33m\u001b[0m\u001b[0m\n\u001b[1;32m-> 6661\u001b[1;33m                 \u001b[1;32mraise\u001b[0m \u001b[0mKeyError\u001b[0m\u001b[1;33m(\u001b[0m\u001b[1;34mf\"{list(labels[mask])} not found in axis\"\u001b[0m\u001b[1;33m)\u001b[0m\u001b[1;33m\u001b[0m\u001b[1;33m\u001b[0m\u001b[0m\n\u001b[0m\u001b[0;32m   6662\u001b[0m             \u001b[0mindexer\u001b[0m \u001b[1;33m=\u001b[0m \u001b[0mindexer\u001b[0m\u001b[1;33m[\u001b[0m\u001b[1;33m~\u001b[0m\u001b[0mmask\u001b[0m\u001b[1;33m]\u001b[0m\u001b[1;33m\u001b[0m\u001b[1;33m\u001b[0m\u001b[0m\n\u001b[0;32m   6663\u001b[0m         \u001b[1;32mreturn\u001b[0m \u001b[0mself\u001b[0m\u001b[1;33m.\u001b[0m\u001b[0mdelete\u001b[0m\u001b[1;33m(\u001b[0m\u001b[0mindexer\u001b[0m\u001b[1;33m)\u001b[0m\u001b[1;33m\u001b[0m\u001b[1;33m\u001b[0m\u001b[0m\n",
      "\u001b[1;31mKeyError\u001b[0m: \"['YearBuilt', 'TotalBsmtSF', '1stFlrSF', 'LotFrontage', 'LotArea'] not found in axis\""
     ]
    }
   ],
   "source": [
    "data.drop(columns=['YearBuilt','TotalBsmtSF','1stFlrSF','LotFrontage','LotArea'],axis=1,inplace=True)"
   ]
  },
  {
   "cell_type": "code",
   "execution_count": 185,
   "id": "4970f803",
   "metadata": {},
   "outputs": [],
   "source": [
    "numeric = data.select_dtypes(include='number')"
   ]
  },
  {
   "cell_type": "code",
   "execution_count": 186,
   "id": "f7bbd1aa",
   "metadata": {},
   "outputs": [],
   "source": [
    "b = []\n",
    "\n",
    "for i in numeric:\n",
    "    if len(data[i].unique())>25:\n",
    "        b.append(i)"
   ]
  },
  {
   "cell_type": "code",
   "execution_count": 187,
   "id": "84a2d44d",
   "metadata": {},
   "outputs": [
    {
     "data": {
      "text/plain": [
       "['SalePrice', 'GarageArea']"
      ]
     },
     "execution_count": 187,
     "metadata": {},
     "output_type": "execute_result"
    }
   ],
   "source": [
    "b"
   ]
  },
  {
   "cell_type": "code",
   "execution_count": 188,
   "id": "9cfb42b5",
   "metadata": {},
   "outputs": [],
   "source": [
    "x = ['GarageArea']"
   ]
  },
  {
   "cell_type": "code",
   "execution_count": 189,
   "id": "24319b7a",
   "metadata": {},
   "outputs": [],
   "source": [
    "vif_da = data[x]"
   ]
  },
  {
   "cell_type": "code",
   "execution_count": 190,
   "id": "c83cc2ff",
   "metadata": {},
   "outputs": [
    {
     "ename": "ValueError",
     "evalue": "zero-size array to reduction operation maximum which has no identity",
     "output_type": "error",
     "traceback": [
      "\u001b[1;31m---------------------------------------------------------------------------\u001b[0m",
      "\u001b[1;31mValueError\u001b[0m                                Traceback (most recent call last)",
      "\u001b[1;32m~\\AppData\\Local\\Temp\\ipykernel_12008\\2916921781.py\u001b[0m in \u001b[0;36m<module>\u001b[1;34m\u001b[0m\n\u001b[0;32m      3\u001b[0m \u001b[1;33m\u001b[0m\u001b[0m\n\u001b[0;32m      4\u001b[0m \u001b[1;31m# calculating VIF for each feature\u001b[0m\u001b[1;33m\u001b[0m\u001b[1;33m\u001b[0m\u001b[0m\n\u001b[1;32m----> 5\u001b[1;33m \u001b[0mvif_data\u001b[0m\u001b[1;33m[\u001b[0m\u001b[1;34m\"VIF\"\u001b[0m\u001b[1;33m]\u001b[0m \u001b[1;33m=\u001b[0m \u001b[1;33m[\u001b[0m\u001b[0mvariance_inflation_factor\u001b[0m\u001b[1;33m(\u001b[0m\u001b[0mvif_da\u001b[0m\u001b[1;33m.\u001b[0m\u001b[0mvalues\u001b[0m\u001b[1;33m,\u001b[0m\u001b[0mi\u001b[0m\u001b[1;33m)\u001b[0m \u001b[1;32mfor\u001b[0m \u001b[0mi\u001b[0m \u001b[1;32min\u001b[0m \u001b[0mrange\u001b[0m\u001b[1;33m(\u001b[0m\u001b[0mlen\u001b[0m\u001b[1;33m(\u001b[0m\u001b[0mvif_da\u001b[0m\u001b[1;33m.\u001b[0m\u001b[0mcolumns\u001b[0m\u001b[1;33m)\u001b[0m\u001b[1;33m)\u001b[0m\u001b[1;33m]\u001b[0m\u001b[1;33m\u001b[0m\u001b[1;33m\u001b[0m\u001b[0m\n\u001b[0m\u001b[0;32m      6\u001b[0m \u001b[1;33m\u001b[0m\u001b[0m\n\u001b[0;32m      7\u001b[0m \u001b[0mprint\u001b[0m\u001b[1;33m(\u001b[0m\u001b[0mvif_data\u001b[0m\u001b[1;33m)\u001b[0m\u001b[1;33m\u001b[0m\u001b[1;33m\u001b[0m\u001b[0m\n",
      "\u001b[1;32m~\\AppData\\Local\\Temp\\ipykernel_12008\\2916921781.py\u001b[0m in \u001b[0;36m<listcomp>\u001b[1;34m(.0)\u001b[0m\n\u001b[0;32m      3\u001b[0m \u001b[1;33m\u001b[0m\u001b[0m\n\u001b[0;32m      4\u001b[0m \u001b[1;31m# calculating VIF for each feature\u001b[0m\u001b[1;33m\u001b[0m\u001b[1;33m\u001b[0m\u001b[0m\n\u001b[1;32m----> 5\u001b[1;33m \u001b[0mvif_data\u001b[0m\u001b[1;33m[\u001b[0m\u001b[1;34m\"VIF\"\u001b[0m\u001b[1;33m]\u001b[0m \u001b[1;33m=\u001b[0m \u001b[1;33m[\u001b[0m\u001b[0mvariance_inflation_factor\u001b[0m\u001b[1;33m(\u001b[0m\u001b[0mvif_da\u001b[0m\u001b[1;33m.\u001b[0m\u001b[0mvalues\u001b[0m\u001b[1;33m,\u001b[0m\u001b[0mi\u001b[0m\u001b[1;33m)\u001b[0m \u001b[1;32mfor\u001b[0m \u001b[0mi\u001b[0m \u001b[1;32min\u001b[0m \u001b[0mrange\u001b[0m\u001b[1;33m(\u001b[0m\u001b[0mlen\u001b[0m\u001b[1;33m(\u001b[0m\u001b[0mvif_da\u001b[0m\u001b[1;33m.\u001b[0m\u001b[0mcolumns\u001b[0m\u001b[1;33m)\u001b[0m\u001b[1;33m)\u001b[0m\u001b[1;33m]\u001b[0m\u001b[1;33m\u001b[0m\u001b[1;33m\u001b[0m\u001b[0m\n\u001b[0m\u001b[0;32m      6\u001b[0m \u001b[1;33m\u001b[0m\u001b[0m\n\u001b[0;32m      7\u001b[0m \u001b[0mprint\u001b[0m\u001b[1;33m(\u001b[0m\u001b[0mvif_data\u001b[0m\u001b[1;33m)\u001b[0m\u001b[1;33m\u001b[0m\u001b[1;33m\u001b[0m\u001b[0m\n",
      "\u001b[1;32m~\\anaconda3\\lib\\site-packages\\statsmodels\\stats\\outliers_influence.py\u001b[0m in \u001b[0;36mvariance_inflation_factor\u001b[1;34m(exog, exog_idx)\u001b[0m\n\u001b[0;32m    192\u001b[0m     \u001b[0mmask\u001b[0m \u001b[1;33m=\u001b[0m \u001b[0mnp\u001b[0m\u001b[1;33m.\u001b[0m\u001b[0marange\u001b[0m\u001b[1;33m(\u001b[0m\u001b[0mk_vars\u001b[0m\u001b[1;33m)\u001b[0m \u001b[1;33m!=\u001b[0m \u001b[0mexog_idx\u001b[0m\u001b[1;33m\u001b[0m\u001b[1;33m\u001b[0m\u001b[0m\n\u001b[0;32m    193\u001b[0m     \u001b[0mx_noti\u001b[0m \u001b[1;33m=\u001b[0m \u001b[0mexog\u001b[0m\u001b[1;33m[\u001b[0m\u001b[1;33m:\u001b[0m\u001b[1;33m,\u001b[0m \u001b[0mmask\u001b[0m\u001b[1;33m]\u001b[0m\u001b[1;33m\u001b[0m\u001b[1;33m\u001b[0m\u001b[0m\n\u001b[1;32m--> 194\u001b[1;33m     \u001b[0mr_squared_i\u001b[0m \u001b[1;33m=\u001b[0m \u001b[0mOLS\u001b[0m\u001b[1;33m(\u001b[0m\u001b[0mx_i\u001b[0m\u001b[1;33m,\u001b[0m \u001b[0mx_noti\u001b[0m\u001b[1;33m)\u001b[0m\u001b[1;33m.\u001b[0m\u001b[0mfit\u001b[0m\u001b[1;33m(\u001b[0m\u001b[1;33m)\u001b[0m\u001b[1;33m.\u001b[0m\u001b[0mrsquared\u001b[0m\u001b[1;33m\u001b[0m\u001b[1;33m\u001b[0m\u001b[0m\n\u001b[0m\u001b[0;32m    195\u001b[0m     \u001b[0mvif\u001b[0m \u001b[1;33m=\u001b[0m \u001b[1;36m1.\u001b[0m \u001b[1;33m/\u001b[0m \u001b[1;33m(\u001b[0m\u001b[1;36m1.\u001b[0m \u001b[1;33m-\u001b[0m \u001b[0mr_squared_i\u001b[0m\u001b[1;33m)\u001b[0m\u001b[1;33m\u001b[0m\u001b[1;33m\u001b[0m\u001b[0m\n\u001b[0;32m    196\u001b[0m     \u001b[1;32mreturn\u001b[0m \u001b[0mvif\u001b[0m\u001b[1;33m\u001b[0m\u001b[1;33m\u001b[0m\u001b[0m\n",
      "\u001b[1;32m~\\anaconda3\\lib\\site-packages\\statsmodels\\regression\\linear_model.py\u001b[0m in \u001b[0;36m__init__\u001b[1;34m(self, endog, exog, missing, hasconst, **kwargs)\u001b[0m\n\u001b[0;32m    888\u001b[0m                    \"An exception will be raised in the next version.\")\n\u001b[0;32m    889\u001b[0m             \u001b[0mwarnings\u001b[0m\u001b[1;33m.\u001b[0m\u001b[0mwarn\u001b[0m\u001b[1;33m(\u001b[0m\u001b[0mmsg\u001b[0m\u001b[1;33m,\u001b[0m \u001b[0mValueWarning\u001b[0m\u001b[1;33m)\u001b[0m\u001b[1;33m\u001b[0m\u001b[1;33m\u001b[0m\u001b[0m\n\u001b[1;32m--> 890\u001b[1;33m         super(OLS, self).__init__(endog, exog, missing=missing,\n\u001b[0m\u001b[0;32m    891\u001b[0m                                   hasconst=hasconst, **kwargs)\n\u001b[0;32m    892\u001b[0m         \u001b[1;32mif\u001b[0m \u001b[1;34m\"weights\"\u001b[0m \u001b[1;32min\u001b[0m \u001b[0mself\u001b[0m\u001b[1;33m.\u001b[0m\u001b[0m_init_keys\u001b[0m\u001b[1;33m:\u001b[0m\u001b[1;33m\u001b[0m\u001b[1;33m\u001b[0m\u001b[0m\n",
      "\u001b[1;32m~\\anaconda3\\lib\\site-packages\\statsmodels\\regression\\linear_model.py\u001b[0m in \u001b[0;36m__init__\u001b[1;34m(self, endog, exog, weights, missing, hasconst, **kwargs)\u001b[0m\n\u001b[0;32m    715\u001b[0m         \u001b[1;32melse\u001b[0m\u001b[1;33m:\u001b[0m\u001b[1;33m\u001b[0m\u001b[1;33m\u001b[0m\u001b[0m\n\u001b[0;32m    716\u001b[0m             \u001b[0mweights\u001b[0m \u001b[1;33m=\u001b[0m \u001b[0mweights\u001b[0m\u001b[1;33m.\u001b[0m\u001b[0msqueeze\u001b[0m\u001b[1;33m(\u001b[0m\u001b[1;33m)\u001b[0m\u001b[1;33m\u001b[0m\u001b[1;33m\u001b[0m\u001b[0m\n\u001b[1;32m--> 717\u001b[1;33m         super(WLS, self).__init__(endog, exog, missing=missing,\n\u001b[0m\u001b[0;32m    718\u001b[0m                                   weights=weights, hasconst=hasconst, **kwargs)\n\u001b[0;32m    719\u001b[0m         \u001b[0mnobs\u001b[0m \u001b[1;33m=\u001b[0m \u001b[0mself\u001b[0m\u001b[1;33m.\u001b[0m\u001b[0mexog\u001b[0m\u001b[1;33m.\u001b[0m\u001b[0mshape\u001b[0m\u001b[1;33m[\u001b[0m\u001b[1;36m0\u001b[0m\u001b[1;33m]\u001b[0m\u001b[1;33m\u001b[0m\u001b[1;33m\u001b[0m\u001b[0m\n",
      "\u001b[1;32m~\\anaconda3\\lib\\site-packages\\statsmodels\\regression\\linear_model.py\u001b[0m in \u001b[0;36m__init__\u001b[1;34m(self, endog, exog, **kwargs)\u001b[0m\n\u001b[0;32m    189\u001b[0m     \"\"\"\n\u001b[0;32m    190\u001b[0m     \u001b[1;32mdef\u001b[0m \u001b[0m__init__\u001b[0m\u001b[1;33m(\u001b[0m\u001b[0mself\u001b[0m\u001b[1;33m,\u001b[0m \u001b[0mendog\u001b[0m\u001b[1;33m,\u001b[0m \u001b[0mexog\u001b[0m\u001b[1;33m,\u001b[0m \u001b[1;33m**\u001b[0m\u001b[0mkwargs\u001b[0m\u001b[1;33m)\u001b[0m\u001b[1;33m:\u001b[0m\u001b[1;33m\u001b[0m\u001b[1;33m\u001b[0m\u001b[0m\n\u001b[1;32m--> 191\u001b[1;33m         \u001b[0msuper\u001b[0m\u001b[1;33m(\u001b[0m\u001b[0mRegressionModel\u001b[0m\u001b[1;33m,\u001b[0m \u001b[0mself\u001b[0m\u001b[1;33m)\u001b[0m\u001b[1;33m.\u001b[0m\u001b[0m__init__\u001b[0m\u001b[1;33m(\u001b[0m\u001b[0mendog\u001b[0m\u001b[1;33m,\u001b[0m \u001b[0mexog\u001b[0m\u001b[1;33m,\u001b[0m \u001b[1;33m**\u001b[0m\u001b[0mkwargs\u001b[0m\u001b[1;33m)\u001b[0m\u001b[1;33m\u001b[0m\u001b[1;33m\u001b[0m\u001b[0m\n\u001b[0m\u001b[0;32m    192\u001b[0m         \u001b[0mself\u001b[0m\u001b[1;33m.\u001b[0m\u001b[0m_data_attr\u001b[0m\u001b[1;33m.\u001b[0m\u001b[0mextend\u001b[0m\u001b[1;33m(\u001b[0m\u001b[1;33m[\u001b[0m\u001b[1;34m'pinv_wexog'\u001b[0m\u001b[1;33m,\u001b[0m \u001b[1;34m'wendog'\u001b[0m\u001b[1;33m,\u001b[0m \u001b[1;34m'wexog'\u001b[0m\u001b[1;33m,\u001b[0m \u001b[1;34m'weights'\u001b[0m\u001b[1;33m]\u001b[0m\u001b[1;33m)\u001b[0m\u001b[1;33m\u001b[0m\u001b[1;33m\u001b[0m\u001b[0m\n\u001b[0;32m    193\u001b[0m \u001b[1;33m\u001b[0m\u001b[0m\n",
      "\u001b[1;32m~\\anaconda3\\lib\\site-packages\\statsmodels\\base\\model.py\u001b[0m in \u001b[0;36m__init__\u001b[1;34m(self, endog, exog, **kwargs)\u001b[0m\n\u001b[0;32m    265\u001b[0m \u001b[1;33m\u001b[0m\u001b[0m\n\u001b[0;32m    266\u001b[0m     \u001b[1;32mdef\u001b[0m \u001b[0m__init__\u001b[0m\u001b[1;33m(\u001b[0m\u001b[0mself\u001b[0m\u001b[1;33m,\u001b[0m \u001b[0mendog\u001b[0m\u001b[1;33m,\u001b[0m \u001b[0mexog\u001b[0m\u001b[1;33m=\u001b[0m\u001b[1;32mNone\u001b[0m\u001b[1;33m,\u001b[0m \u001b[1;33m**\u001b[0m\u001b[0mkwargs\u001b[0m\u001b[1;33m)\u001b[0m\u001b[1;33m:\u001b[0m\u001b[1;33m\u001b[0m\u001b[1;33m\u001b[0m\u001b[0m\n\u001b[1;32m--> 267\u001b[1;33m         \u001b[0msuper\u001b[0m\u001b[1;33m(\u001b[0m\u001b[1;33m)\u001b[0m\u001b[1;33m.\u001b[0m\u001b[0m__init__\u001b[0m\u001b[1;33m(\u001b[0m\u001b[0mendog\u001b[0m\u001b[1;33m,\u001b[0m \u001b[0mexog\u001b[0m\u001b[1;33m,\u001b[0m \u001b[1;33m**\u001b[0m\u001b[0mkwargs\u001b[0m\u001b[1;33m)\u001b[0m\u001b[1;33m\u001b[0m\u001b[1;33m\u001b[0m\u001b[0m\n\u001b[0m\u001b[0;32m    268\u001b[0m         \u001b[0mself\u001b[0m\u001b[1;33m.\u001b[0m\u001b[0minitialize\u001b[0m\u001b[1;33m(\u001b[0m\u001b[1;33m)\u001b[0m\u001b[1;33m\u001b[0m\u001b[1;33m\u001b[0m\u001b[0m\n\u001b[0;32m    269\u001b[0m \u001b[1;33m\u001b[0m\u001b[0m\n",
      "\u001b[1;32m~\\anaconda3\\lib\\site-packages\\statsmodels\\base\\model.py\u001b[0m in \u001b[0;36m__init__\u001b[1;34m(self, endog, exog, **kwargs)\u001b[0m\n\u001b[0;32m     90\u001b[0m         \u001b[0mmissing\u001b[0m \u001b[1;33m=\u001b[0m \u001b[0mkwargs\u001b[0m\u001b[1;33m.\u001b[0m\u001b[0mpop\u001b[0m\u001b[1;33m(\u001b[0m\u001b[1;34m'missing'\u001b[0m\u001b[1;33m,\u001b[0m \u001b[1;34m'none'\u001b[0m\u001b[1;33m)\u001b[0m\u001b[1;33m\u001b[0m\u001b[1;33m\u001b[0m\u001b[0m\n\u001b[0;32m     91\u001b[0m         \u001b[0mhasconst\u001b[0m \u001b[1;33m=\u001b[0m \u001b[0mkwargs\u001b[0m\u001b[1;33m.\u001b[0m\u001b[0mpop\u001b[0m\u001b[1;33m(\u001b[0m\u001b[1;34m'hasconst'\u001b[0m\u001b[1;33m,\u001b[0m \u001b[1;32mNone\u001b[0m\u001b[1;33m)\u001b[0m\u001b[1;33m\u001b[0m\u001b[1;33m\u001b[0m\u001b[0m\n\u001b[1;32m---> 92\u001b[1;33m         self.data = self._handle_data(endog, exog, missing, hasconst,\n\u001b[0m\u001b[0;32m     93\u001b[0m                                       **kwargs)\n\u001b[0;32m     94\u001b[0m         \u001b[0mself\u001b[0m\u001b[1;33m.\u001b[0m\u001b[0mk_constant\u001b[0m \u001b[1;33m=\u001b[0m \u001b[0mself\u001b[0m\u001b[1;33m.\u001b[0m\u001b[0mdata\u001b[0m\u001b[1;33m.\u001b[0m\u001b[0mk_constant\u001b[0m\u001b[1;33m\u001b[0m\u001b[1;33m\u001b[0m\u001b[0m\n",
      "\u001b[1;32m~\\anaconda3\\lib\\site-packages\\statsmodels\\base\\model.py\u001b[0m in \u001b[0;36m_handle_data\u001b[1;34m(self, endog, exog, missing, hasconst, **kwargs)\u001b[0m\n\u001b[0;32m    130\u001b[0m \u001b[1;33m\u001b[0m\u001b[0m\n\u001b[0;32m    131\u001b[0m     \u001b[1;32mdef\u001b[0m \u001b[0m_handle_data\u001b[0m\u001b[1;33m(\u001b[0m\u001b[0mself\u001b[0m\u001b[1;33m,\u001b[0m \u001b[0mendog\u001b[0m\u001b[1;33m,\u001b[0m \u001b[0mexog\u001b[0m\u001b[1;33m,\u001b[0m \u001b[0mmissing\u001b[0m\u001b[1;33m,\u001b[0m \u001b[0mhasconst\u001b[0m\u001b[1;33m,\u001b[0m \u001b[1;33m**\u001b[0m\u001b[0mkwargs\u001b[0m\u001b[1;33m)\u001b[0m\u001b[1;33m:\u001b[0m\u001b[1;33m\u001b[0m\u001b[1;33m\u001b[0m\u001b[0m\n\u001b[1;32m--> 132\u001b[1;33m         \u001b[0mdata\u001b[0m \u001b[1;33m=\u001b[0m \u001b[0mhandle_data\u001b[0m\u001b[1;33m(\u001b[0m\u001b[0mendog\u001b[0m\u001b[1;33m,\u001b[0m \u001b[0mexog\u001b[0m\u001b[1;33m,\u001b[0m \u001b[0mmissing\u001b[0m\u001b[1;33m,\u001b[0m \u001b[0mhasconst\u001b[0m\u001b[1;33m,\u001b[0m \u001b[1;33m**\u001b[0m\u001b[0mkwargs\u001b[0m\u001b[1;33m)\u001b[0m\u001b[1;33m\u001b[0m\u001b[1;33m\u001b[0m\u001b[0m\n\u001b[0m\u001b[0;32m    133\u001b[0m         \u001b[1;31m# kwargs arrays could have changed, easier to just attach here\u001b[0m\u001b[1;33m\u001b[0m\u001b[1;33m\u001b[0m\u001b[0m\n\u001b[0;32m    134\u001b[0m         \u001b[1;32mfor\u001b[0m \u001b[0mkey\u001b[0m \u001b[1;32min\u001b[0m \u001b[0mkwargs\u001b[0m\u001b[1;33m:\u001b[0m\u001b[1;33m\u001b[0m\u001b[1;33m\u001b[0m\u001b[0m\n",
      "\u001b[1;32m~\\anaconda3\\lib\\site-packages\\statsmodels\\base\\data.py\u001b[0m in \u001b[0;36mhandle_data\u001b[1;34m(endog, exog, missing, hasconst, **kwargs)\u001b[0m\n\u001b[0;32m    671\u001b[0m \u001b[1;33m\u001b[0m\u001b[0m\n\u001b[0;32m    672\u001b[0m     \u001b[0mklass\u001b[0m \u001b[1;33m=\u001b[0m \u001b[0mhandle_data_class_factory\u001b[0m\u001b[1;33m(\u001b[0m\u001b[0mendog\u001b[0m\u001b[1;33m,\u001b[0m \u001b[0mexog\u001b[0m\u001b[1;33m)\u001b[0m\u001b[1;33m\u001b[0m\u001b[1;33m\u001b[0m\u001b[0m\n\u001b[1;32m--> 673\u001b[1;33m     return klass(endog, exog=exog, missing=missing, hasconst=hasconst,\n\u001b[0m\u001b[0;32m    674\u001b[0m                  **kwargs)\n",
      "\u001b[1;32m~\\anaconda3\\lib\\site-packages\\statsmodels\\base\\data.py\u001b[0m in \u001b[0;36m__init__\u001b[1;34m(self, endog, exog, missing, hasconst, **kwargs)\u001b[0m\n\u001b[0;32m     84\u001b[0m         \u001b[0mself\u001b[0m\u001b[1;33m.\u001b[0m\u001b[0mconst_idx\u001b[0m \u001b[1;33m=\u001b[0m \u001b[1;32mNone\u001b[0m\u001b[1;33m\u001b[0m\u001b[1;33m\u001b[0m\u001b[0m\n\u001b[0;32m     85\u001b[0m         \u001b[0mself\u001b[0m\u001b[1;33m.\u001b[0m\u001b[0mk_constant\u001b[0m \u001b[1;33m=\u001b[0m \u001b[1;36m0\u001b[0m\u001b[1;33m\u001b[0m\u001b[1;33m\u001b[0m\u001b[0m\n\u001b[1;32m---> 86\u001b[1;33m         \u001b[0mself\u001b[0m\u001b[1;33m.\u001b[0m\u001b[0m_handle_constant\u001b[0m\u001b[1;33m(\u001b[0m\u001b[0mhasconst\u001b[0m\u001b[1;33m)\u001b[0m\u001b[1;33m\u001b[0m\u001b[1;33m\u001b[0m\u001b[0m\n\u001b[0m\u001b[0;32m     87\u001b[0m         \u001b[0mself\u001b[0m\u001b[1;33m.\u001b[0m\u001b[0m_check_integrity\u001b[0m\u001b[1;33m(\u001b[0m\u001b[1;33m)\u001b[0m\u001b[1;33m\u001b[0m\u001b[1;33m\u001b[0m\u001b[0m\n\u001b[0;32m     88\u001b[0m         \u001b[0mself\u001b[0m\u001b[1;33m.\u001b[0m\u001b[0m_cache\u001b[0m \u001b[1;33m=\u001b[0m \u001b[1;33m{\u001b[0m\u001b[1;33m}\u001b[0m\u001b[1;33m\u001b[0m\u001b[1;33m\u001b[0m\u001b[0m\n",
      "\u001b[1;32m~\\anaconda3\\lib\\site-packages\\statsmodels\\base\\data.py\u001b[0m in \u001b[0;36m_handle_constant\u001b[1;34m(self, hasconst)\u001b[0m\n\u001b[0;32m    174\u001b[0m                             (np.ones(self.exog.shape[0]), self.exog))\n\u001b[0;32m    175\u001b[0m                 \u001b[0mrank_augm\u001b[0m \u001b[1;33m=\u001b[0m \u001b[0mnp\u001b[0m\u001b[1;33m.\u001b[0m\u001b[0mlinalg\u001b[0m\u001b[1;33m.\u001b[0m\u001b[0mmatrix_rank\u001b[0m\u001b[1;33m(\u001b[0m\u001b[0maugmented_exog\u001b[0m\u001b[1;33m)\u001b[0m\u001b[1;33m\u001b[0m\u001b[1;33m\u001b[0m\u001b[0m\n\u001b[1;32m--> 176\u001b[1;33m                 \u001b[0mrank_orig\u001b[0m \u001b[1;33m=\u001b[0m \u001b[0mnp\u001b[0m\u001b[1;33m.\u001b[0m\u001b[0mlinalg\u001b[0m\u001b[1;33m.\u001b[0m\u001b[0mmatrix_rank\u001b[0m\u001b[1;33m(\u001b[0m\u001b[0mself\u001b[0m\u001b[1;33m.\u001b[0m\u001b[0mexog\u001b[0m\u001b[1;33m)\u001b[0m\u001b[1;33m\u001b[0m\u001b[1;33m\u001b[0m\u001b[0m\n\u001b[0m\u001b[0;32m    177\u001b[0m                 \u001b[0mself\u001b[0m\u001b[1;33m.\u001b[0m\u001b[0mk_constant\u001b[0m \u001b[1;33m=\u001b[0m \u001b[0mint\u001b[0m\u001b[1;33m(\u001b[0m\u001b[0mrank_orig\u001b[0m \u001b[1;33m==\u001b[0m \u001b[0mrank_augm\u001b[0m\u001b[1;33m)\u001b[0m\u001b[1;33m\u001b[0m\u001b[1;33m\u001b[0m\u001b[0m\n\u001b[0;32m    178\u001b[0m                 \u001b[0mself\u001b[0m\u001b[1;33m.\u001b[0m\u001b[0mconst_idx\u001b[0m \u001b[1;33m=\u001b[0m \u001b[1;32mNone\u001b[0m\u001b[1;33m\u001b[0m\u001b[1;33m\u001b[0m\u001b[0m\n",
      "\u001b[1;32m<__array_function__ internals>\u001b[0m in \u001b[0;36mmatrix_rank\u001b[1;34m(*args, **kwargs)\u001b[0m\n",
      "\u001b[1;32m~\\anaconda3\\lib\\site-packages\\numpy\\linalg\\linalg.py\u001b[0m in \u001b[0;36mmatrix_rank\u001b[1;34m(M, tol, hermitian)\u001b[0m\n\u001b[0;32m   1901\u001b[0m     \u001b[0mS\u001b[0m \u001b[1;33m=\u001b[0m \u001b[0msvd\u001b[0m\u001b[1;33m(\u001b[0m\u001b[0mM\u001b[0m\u001b[1;33m,\u001b[0m \u001b[0mcompute_uv\u001b[0m\u001b[1;33m=\u001b[0m\u001b[1;32mFalse\u001b[0m\u001b[1;33m,\u001b[0m \u001b[0mhermitian\u001b[0m\u001b[1;33m=\u001b[0m\u001b[0mhermitian\u001b[0m\u001b[1;33m)\u001b[0m\u001b[1;33m\u001b[0m\u001b[1;33m\u001b[0m\u001b[0m\n\u001b[0;32m   1902\u001b[0m     \u001b[1;32mif\u001b[0m \u001b[0mtol\u001b[0m \u001b[1;32mis\u001b[0m \u001b[1;32mNone\u001b[0m\u001b[1;33m:\u001b[0m\u001b[1;33m\u001b[0m\u001b[1;33m\u001b[0m\u001b[0m\n\u001b[1;32m-> 1903\u001b[1;33m         \u001b[0mtol\u001b[0m \u001b[1;33m=\u001b[0m \u001b[0mS\u001b[0m\u001b[1;33m.\u001b[0m\u001b[0mmax\u001b[0m\u001b[1;33m(\u001b[0m\u001b[0maxis\u001b[0m\u001b[1;33m=\u001b[0m\u001b[1;33m-\u001b[0m\u001b[1;36m1\u001b[0m\u001b[1;33m,\u001b[0m \u001b[0mkeepdims\u001b[0m\u001b[1;33m=\u001b[0m\u001b[1;32mTrue\u001b[0m\u001b[1;33m)\u001b[0m \u001b[1;33m*\u001b[0m \u001b[0mmax\u001b[0m\u001b[1;33m(\u001b[0m\u001b[0mM\u001b[0m\u001b[1;33m.\u001b[0m\u001b[0mshape\u001b[0m\u001b[1;33m[\u001b[0m\u001b[1;33m-\u001b[0m\u001b[1;36m2\u001b[0m\u001b[1;33m:\u001b[0m\u001b[1;33m]\u001b[0m\u001b[1;33m)\u001b[0m \u001b[1;33m*\u001b[0m \u001b[0mfinfo\u001b[0m\u001b[1;33m(\u001b[0m\u001b[0mS\u001b[0m\u001b[1;33m.\u001b[0m\u001b[0mdtype\u001b[0m\u001b[1;33m)\u001b[0m\u001b[1;33m.\u001b[0m\u001b[0meps\u001b[0m\u001b[1;33m\u001b[0m\u001b[1;33m\u001b[0m\u001b[0m\n\u001b[0m\u001b[0;32m   1904\u001b[0m     \u001b[1;32melse\u001b[0m\u001b[1;33m:\u001b[0m\u001b[1;33m\u001b[0m\u001b[1;33m\u001b[0m\u001b[0m\n\u001b[0;32m   1905\u001b[0m         \u001b[0mtol\u001b[0m \u001b[1;33m=\u001b[0m \u001b[0masarray\u001b[0m\u001b[1;33m(\u001b[0m\u001b[0mtol\u001b[0m\u001b[1;33m)\u001b[0m\u001b[1;33m[\u001b[0m\u001b[1;33m...\u001b[0m\u001b[1;33m,\u001b[0m \u001b[0mnewaxis\u001b[0m\u001b[1;33m]\u001b[0m\u001b[1;33m\u001b[0m\u001b[1;33m\u001b[0m\u001b[0m\n",
      "\u001b[1;32m~\\anaconda3\\lib\\site-packages\\numpy\\core\\_methods.py\u001b[0m in \u001b[0;36m_amax\u001b[1;34m(a, axis, out, keepdims, initial, where)\u001b[0m\n\u001b[0;32m     38\u001b[0m def _amax(a, axis=None, out=None, keepdims=False,\n\u001b[0;32m     39\u001b[0m           initial=_NoValue, where=True):\n\u001b[1;32m---> 40\u001b[1;33m     \u001b[1;32mreturn\u001b[0m \u001b[0mumr_maximum\u001b[0m\u001b[1;33m(\u001b[0m\u001b[0ma\u001b[0m\u001b[1;33m,\u001b[0m \u001b[0maxis\u001b[0m\u001b[1;33m,\u001b[0m \u001b[1;32mNone\u001b[0m\u001b[1;33m,\u001b[0m \u001b[0mout\u001b[0m\u001b[1;33m,\u001b[0m \u001b[0mkeepdims\u001b[0m\u001b[1;33m,\u001b[0m \u001b[0minitial\u001b[0m\u001b[1;33m,\u001b[0m \u001b[0mwhere\u001b[0m\u001b[1;33m)\u001b[0m\u001b[1;33m\u001b[0m\u001b[1;33m\u001b[0m\u001b[0m\n\u001b[0m\u001b[0;32m     41\u001b[0m \u001b[1;33m\u001b[0m\u001b[0m\n\u001b[0;32m     42\u001b[0m def _amin(a, axis=None, out=None, keepdims=False,\n",
      "\u001b[1;31mValueError\u001b[0m: zero-size array to reduction operation maximum which has no identity"
     ]
    }
   ],
   "source": [
    "vif_data = pd.DataFrame()\n",
    "vif_data[\"feature\"] = vif_da.columns\n",
    "  \n",
    "# calculating VIF for each feature\n",
    "vif_data[\"VIF\"] = [variance_inflation_factor(vif_da.values,i) for i in range(len(vif_da.columns))]\n",
    "  \n",
    "print(vif_data)"
   ]
  },
  {
   "cell_type": "code",
   "execution_count": 191,
   "id": "193f3e18",
   "metadata": {},
   "outputs": [],
   "source": [
    "a=[]\n",
    "for i in data.columns:\n",
    "    if i not in b:\n",
    "        a.append(i)"
   ]
  },
  {
   "cell_type": "code",
   "execution_count": 192,
   "id": "36a09810",
   "metadata": {},
   "outputs": [],
   "source": [
    "data_cate = data[a]"
   ]
  },
  {
   "cell_type": "code",
   "execution_count": 194,
   "id": "3510f9b1",
   "metadata": {},
   "outputs": [
    {
     "name": "stdout",
     "output_type": "stream",
     "text": [
      "MSZoning + LandContour + BldgType + RoofStyle + Foundation + Electrical + BedroomAbvGr + GarageType + GarageCars + PavedDrive + SaleType + SaleCondition + HeatingQC + "
     ]
    }
   ],
   "source": [
    "for i in a:\n",
    "    print(i,\"+\", end=\" \")"
   ]
  },
  {
   "cell_type": "code",
   "execution_count": 195,
   "id": "0125567c",
   "metadata": {},
   "outputs": [
    {
     "name": "stdout",
     "output_type": "stream",
     "text": [
      "                   df        sum_sq       mean_sq           F    PR(>F)\n",
      "MSZoning          2.0  8.849738e+11  4.424869e+11  273.214916  0.000000\n",
      "LandContour       2.0  1.281766e+11  6.408829e+10   39.571514  0.000000\n",
      "BldgType          1.0  1.356774e+11  1.356774e+11   83.774444  0.000000\n",
      "RoofStyle         1.0  2.149205e+11  2.149205e+11  132.703346  0.000000\n",
      "Foundation        2.0  1.323901e+12  6.619503e+11  408.723307  0.000000\n",
      "Electrical        1.0  8.732713e+10  8.732713e+10   53.920407  0.000000\n",
      "GarageType        2.0  2.387519e+11  1.193759e+11   73.709050  0.000000\n",
      "PavedDrive        1.0  5.022565e+10  5.022565e+10   31.011985  0.000000\n",
      "SaleType          2.0  1.060049e+11  5.300244e+10   32.726523  0.000000\n",
      "SaleCondition     2.0  2.303538e+10  1.151769e+10    7.111633  0.000845\n",
      "HeatingQC         2.0  1.276440e+11  6.382202e+10   39.407105  0.000000\n",
      "BedroomAbvGr      1.0  1.093093e+11  1.093093e+11   67.493373  0.000000\n",
      "GarageCars        1.0  8.292665e+11  8.292665e+11  512.033190  0.000000\n",
      "Residual       1439.0  2.330541e+12  1.619556e+09         NaN       NaN\n"
     ]
    }
   ],
   "source": [
    "model = ols(\"SalePrice ~ MSZoning + LandContour + BldgType + RoofStyle + Foundation + Electrical + BedroomAbvGr +GarageType + GarageCars + PavedDrive + SaleType + SaleCondition + HeatingQC\", data=data).fit()\n",
    "anova = sm.stats.anova_lm(model)\n",
    "ano = anova.round(decimals=6)\n",
    "            \n",
    "print(ano)"
   ]
  },
  {
   "cell_type": "markdown",
   "id": "59e368ba",
   "metadata": {},
   "source": [
    "# model1 "
   ]
  },
  {
   "cell_type": "code",
   "execution_count": 196,
   "id": "91818f70",
   "metadata": {},
   "outputs": [
    {
     "data": {
      "text/plain": [
       "(1460, 15)"
      ]
     },
     "execution_count": 196,
     "metadata": {},
     "output_type": "execute_result"
    }
   ],
   "source": [
    "data.shape"
   ]
  },
  {
   "cell_type": "code",
   "execution_count": 197,
   "id": "aa8c26d6",
   "metadata": {},
   "outputs": [],
   "source": [
    "col = data.columns"
   ]
  },
  {
   "cell_type": "code",
   "execution_count": 198,
   "id": "541d4c05",
   "metadata": {},
   "outputs": [
    {
     "name": "stdout",
     "output_type": "stream",
     "text": [
      "SalePrice + GarageArea + MSZoning + LandContour + BldgType + RoofStyle + Foundation + Electrical + BedroomAbvGr + GarageType + GarageCars + PavedDrive + SaleType + SaleCondition + HeatingQC + "
     ]
    }
   ],
   "source": [
    "for i in col: print(i, \"+\", end=\" \")"
   ]
  },
  {
   "cell_type": "code",
   "execution_count": 199,
   "id": "5ae84b04",
   "metadata": {},
   "outputs": [],
   "source": [
    "trn = data.iloc[0:1000]\n",
    "tst = data.iloc[1000:1460]"
   ]
  },
  {
   "cell_type": "code",
   "execution_count": 200,
   "id": "590c8f5b",
   "metadata": {},
   "outputs": [],
   "source": [
    "model_1 = smf.ols(formula= 'SalePrice ~ GarageArea + MSZoning + LandContour + BldgType + RoofStyle + Foundation + Electrical + BedroomAbvGr + GarageType + GarageCars + PavedDrive + SaleType + SaleCondition + HeatingQC ', data = trn).fit()"
   ]
  },
  {
   "cell_type": "code",
   "execution_count": 201,
   "id": "45196121",
   "metadata": {},
   "outputs": [
    {
     "name": "stdout",
     "output_type": "stream",
     "text": [
      "                            OLS Regression Results                            \n",
      "==============================================================================\n",
      "Dep. Variable:              SalePrice   R-squared:                       0.674\n",
      "Model:                            OLS   Adj. R-squared:                  0.667\n",
      "Method:                 Least Squares   F-statistic:                     96.48\n",
      "Date:                Mon, 19 Dec 2022   Prob (F-statistic):          3.88e-221\n",
      "Time:                        20:48:52   Log-Likelihood:                -11991.\n",
      "No. Observations:                1000   AIC:                         2.403e+04\n",
      "Df Residuals:                     978   BIC:                         2.413e+04\n",
      "Df Model:                          21                                         \n",
      "Covariance Type:            nonrobust                                         \n",
      "============================================================================================\n",
      "                               coef    std err          t      P>|t|      [0.025      0.975]\n",
      "--------------------------------------------------------------------------------------------\n",
      "Intercept                  9.64e+04   1.27e+04      7.563      0.000    7.14e+04    1.21e+05\n",
      "MSZoning[T.RH]           -1.994e+04   6991.795     -2.852      0.004   -3.37e+04   -6222.519\n",
      "MSZoning[T.RL]           -3034.2217   6183.554     -0.491      0.624   -1.52e+04    9100.338\n",
      "LandContour[T.HLS]        1.704e+04   8278.707      2.058      0.040     795.609    3.33e+04\n",
      "LandContour[T.Lvl]       -4907.7311   6620.954     -0.741      0.459   -1.79e+04    8085.179\n",
      "BldgType[T.2fmCon]       -5378.3380   4640.272     -1.159      0.247   -1.45e+04    3727.697\n",
      "RoofStyle[T.Hip]          1.932e+04   3308.128      5.840      0.000    1.28e+04    2.58e+04\n",
      "Foundation[T.CBlock]     -9717.5767   4689.001     -2.072      0.038   -1.89e+04    -515.917\n",
      "Foundation[T.PConc]       6240.9738   5164.442      1.208      0.227   -3893.689    1.64e+04\n",
      "Electrical[T.SBrkr]       6162.1281   4737.431      1.301      0.194   -3134.572    1.55e+04\n",
      "GarageType[T.BuiltIn]     1.951e+04   5509.609      3.541      0.000    8700.124    3.03e+04\n",
      "GarageType[T.CarPort]    -2.715e+04   3294.251     -8.241      0.000   -3.36e+04   -2.07e+04\n",
      "PavedDrive[T.Y]           2779.2344   5190.986      0.535      0.592   -7407.517     1.3e+04\n",
      "SaleType[T.New]           3.329e+04   2.93e+04      1.136      0.256   -2.42e+04    9.08e+04\n",
      "SaleType[T.WD]            3445.3798   5857.460      0.588      0.557   -8049.255    1.49e+04\n",
      "SaleCondition[T.Normal]   9823.1097   4438.809      2.213      0.027    1112.423    1.85e+04\n",
      "SaleCondition[T.Partial] -1290.8341   2.86e+04     -0.045      0.964   -5.74e+04    5.48e+04\n",
      "HeatingQC[T.Fa]          -2.522e+04   3449.483     -7.310      0.000    -3.2e+04   -1.84e+04\n",
      "HeatingQC[T.Gd]          -1.546e+04   3749.700     -4.124      0.000   -2.28e+04   -8104.774\n",
      "GarageArea                  90.7676     13.645      6.652      0.000      63.991     117.544\n",
      "BedroomAbvGr              4269.9066    876.260      4.873      0.000    2550.340    5989.474\n",
      "GarageCars                1.836e+04   3934.455      4.666      0.000    1.06e+04    2.61e+04\n",
      "==============================================================================\n",
      "Omnibus:                       94.035   Durbin-Watson:                   2.124\n",
      "Prob(Omnibus):                  0.000   Jarque-Bera (JB):              147.789\n",
      "Skew:                           0.672   Prob(JB):                     8.09e-33\n",
      "Kurtosis:                       4.319   Cond. No.                     1.67e+04\n",
      "==============================================================================\n",
      "\n",
      "Notes:\n",
      "[1] Standard Errors assume that the covariance matrix of the errors is correctly specified.\n",
      "[2] The condition number is large, 1.67e+04. This might indicate that there are\n",
      "strong multicollinearity or other numerical problems.\n"
     ]
    }
   ],
   "source": [
    "\n",
    "print(model_1.summary())"
   ]
  },
  {
   "cell_type": "code",
   "execution_count": 202,
   "id": "0a95621e",
   "metadata": {},
   "outputs": [],
   "source": [
    "droppy = ['LandContour','BldgType','Electrical','PavedDrive','SaleType']"
   ]
  },
  {
   "cell_type": "code",
   "execution_count": 203,
   "id": "6a212045",
   "metadata": {},
   "outputs": [],
   "source": [
    "data.drop(columns=droppy, axis=1, inplace=True)"
   ]
  },
  {
   "cell_type": "code",
   "execution_count": 204,
   "id": "8259948e",
   "metadata": {},
   "outputs": [
    {
     "data": {
      "text/plain": [
       "Index(['SalePrice', 'GarageArea', 'MSZoning', 'RoofStyle', 'Foundation',\n",
       "       'BedroomAbvGr', 'GarageType', 'GarageCars', 'SaleCondition',\n",
       "       'HeatingQC'],\n",
       "      dtype='object')"
      ]
     },
     "execution_count": 204,
     "metadata": {},
     "output_type": "execute_result"
    }
   ],
   "source": [
    "data.columns"
   ]
  },
  {
   "cell_type": "code",
   "execution_count": 205,
   "id": "530f1978",
   "metadata": {},
   "outputs": [
    {
     "data": {
      "text/plain": [
       "array(['Normal', 'Abnorml', 'Partial'], dtype=object)"
      ]
     },
     "execution_count": 205,
     "metadata": {},
     "output_type": "execute_result"
    }
   ],
   "source": [
    "data.SaleCondition.unique()"
   ]
  },
  {
   "cell_type": "code",
   "execution_count": 206,
   "id": "3210ccd0",
   "metadata": {},
   "outputs": [],
   "source": [
    "data.Foundation.replace({\"CBlock\":\"BrkTil\"}, inplace = True)\n",
    "data.SaleCondition.replace({\"Partial\":\"Abnorml\"}, inplace = True)"
   ]
  },
  {
   "cell_type": "code",
   "execution_count": null,
   "id": "a204d7d1",
   "metadata": {},
   "outputs": [],
   "source": []
  },
  {
   "cell_type": "markdown",
   "id": "2e026c9f",
   "metadata": {},
   "source": [
    "# model 2"
   ]
  },
  {
   "cell_type": "code",
   "execution_count": 207,
   "id": "a20a3075",
   "metadata": {},
   "outputs": [
    {
     "data": {
      "text/plain": [
       "(1460, 10)"
      ]
     },
     "execution_count": 207,
     "metadata": {},
     "output_type": "execute_result"
    }
   ],
   "source": [
    "data.shape"
   ]
  },
  {
   "cell_type": "code",
   "execution_count": 208,
   "id": "f28c5bb5",
   "metadata": {},
   "outputs": [],
   "source": [
    "trn = data.iloc[0:1000]\n",
    "tst = data.iloc[1000:1460]"
   ]
  },
  {
   "cell_type": "code",
   "execution_count": 209,
   "id": "4497d0dc",
   "metadata": {},
   "outputs": [],
   "source": [
    "col = data.columns"
   ]
  },
  {
   "cell_type": "code",
   "execution_count": 210,
   "id": "148fae1e",
   "metadata": {},
   "outputs": [
    {
     "name": "stdout",
     "output_type": "stream",
     "text": [
      "SalePrice + GarageArea + MSZoning + RoofStyle + Foundation + BedroomAbvGr + GarageType + GarageCars + SaleCondition + HeatingQC + "
     ]
    }
   ],
   "source": [
    "for i in col: print(i, \"+\", end=\" \")"
   ]
  },
  {
   "cell_type": "code",
   "execution_count": 211,
   "id": "e867713e",
   "metadata": {},
   "outputs": [
    {
     "name": "stdout",
     "output_type": "stream",
     "text": [
      "                            OLS Regression Results                            \n",
      "==============================================================================\n",
      "Dep. Variable:              SalePrice   R-squared:                       0.659\n",
      "Model:                            OLS   Adj. R-squared:                  0.655\n",
      "Method:                 Least Squares   F-statistic:                     159.1\n",
      "Date:                Mon, 19 Dec 2022   Prob (F-statistic):          5.96e-221\n",
      "Time:                        20:49:32   Log-Likelihood:                -12014.\n",
      "No. Observations:                1000   AIC:                         2.405e+04\n",
      "Df Residuals:                     987   BIC:                         2.412e+04\n",
      "Df Model:                          12                                         \n",
      "Covariance Type:            nonrobust                                         \n",
      "===========================================================================================\n",
      "                              coef    std err          t      P>|t|      [0.025      0.975]\n",
      "-------------------------------------------------------------------------------------------\n",
      "Intercept                1.055e+05   7929.128     13.301      0.000    8.99e+04    1.21e+05\n",
      "MSZoning[T.RH]           -2.15e+04   6911.654     -3.110      0.002   -3.51e+04   -7933.353\n",
      "MSZoning[T.RL]          -3675.2326   6208.887     -0.592      0.554   -1.59e+04    8508.903\n",
      "RoofStyle[T.Hip]         1.911e+04   3337.301      5.726      0.000    1.26e+04    2.57e+04\n",
      "Foundation[T.PConc]      1.621e+04   3430.346      4.726      0.000    9481.763    2.29e+04\n",
      "GarageType[T.BuiltIn]    1.954e+04   5597.526      3.491      0.001    8556.131    3.05e+04\n",
      "GarageType[T.CarPort]   -2.717e+04   3250.028     -8.359      0.000   -3.35e+04   -2.08e+04\n",
      "SaleCondition[T.Normal] -2918.4191   3351.770     -0.871      0.384   -9495.833    3658.995\n",
      "HeatingQC[T.Fa]         -2.814e+04   3414.715     -8.242      0.000   -3.48e+04   -2.14e+04\n",
      "HeatingQC[T.Gd]         -1.485e+04   3790.330     -3.917      0.000   -2.23e+04   -7409.270\n",
      "GarageArea                 96.3406     13.796      6.983      0.000      69.268     123.413\n",
      "BedroomAbvGr             3886.4430    881.693      4.408      0.000    2156.234    5616.652\n",
      "GarageCars               1.984e+04   3976.862      4.988      0.000     1.2e+04    2.76e+04\n",
      "==============================================================================\n",
      "Omnibus:                      107.609   Durbin-Watson:                   2.143\n",
      "Prob(Omnibus):                  0.000   Jarque-Bera (JB):              172.252\n",
      "Skew:                           0.742   Prob(JB):                     3.94e-38\n",
      "Kurtosis:                       4.390   Cond. No.                     4.51e+03\n",
      "==============================================================================\n",
      "\n",
      "Notes:\n",
      "[1] Standard Errors assume that the covariance matrix of the errors is correctly specified.\n",
      "[2] The condition number is large, 4.51e+03. This might indicate that there are\n",
      "strong multicollinearity or other numerical problems.\n"
     ]
    }
   ],
   "source": [
    "model_2 = smf.ols(formula= 'SalePrice ~ GarageArea + MSZoning + RoofStyle + Foundation + BedroomAbvGr + GarageType + GarageCars + SaleCondition + HeatingQC', data = trn).fit()\n",
    "print(model_2.summary())"
   ]
  },
  {
   "cell_type": "code",
   "execution_count": 212,
   "id": "8ca28101",
   "metadata": {},
   "outputs": [
    {
     "data": {
      "text/plain": [
       "array(['Normal', 'Abnorml'], dtype=object)"
      ]
     },
     "execution_count": 212,
     "metadata": {},
     "output_type": "execute_result"
    }
   ],
   "source": [
    "data.SaleCondition.unique()"
   ]
  },
  {
   "cell_type": "code",
   "execution_count": 213,
   "id": "9c1af9bc",
   "metadata": {},
   "outputs": [],
   "source": [
    "data.drop(columns=[\"SaleCondition\"], axis=1, inplace=True)"
   ]
  },
  {
   "cell_type": "code",
   "execution_count": 214,
   "id": "c7627718",
   "metadata": {},
   "outputs": [
    {
     "data": {
      "text/plain": [
       "(9,)"
      ]
     },
     "execution_count": 214,
     "metadata": {},
     "output_type": "execute_result"
    }
   ],
   "source": [
    "data.columns.shape"
   ]
  },
  {
   "cell_type": "code",
   "execution_count": 215,
   "id": "84e138ce",
   "metadata": {},
   "outputs": [],
   "source": [
    "trn = data.iloc[0:1000]\n",
    "tst = data.iloc[1000:1460]"
   ]
  },
  {
   "cell_type": "code",
   "execution_count": 216,
   "id": "93c7bcc3",
   "metadata": {},
   "outputs": [],
   "source": [
    "col = data.columns"
   ]
  },
  {
   "cell_type": "code",
   "execution_count": 217,
   "id": "16dd63ab",
   "metadata": {},
   "outputs": [
    {
     "name": "stdout",
     "output_type": "stream",
     "text": [
      "SalePrice + GarageArea + MSZoning + RoofStyle + Foundation + BedroomAbvGr + GarageType + GarageCars + HeatingQC + "
     ]
    }
   ],
   "source": [
    "for i in col: print(i, \"+\", end=\" \")"
   ]
  },
  {
   "cell_type": "code",
   "execution_count": 218,
   "id": "d30c82d3",
   "metadata": {},
   "outputs": [
    {
     "name": "stdout",
     "output_type": "stream",
     "text": [
      "                            OLS Regression Results                            \n",
      "==============================================================================\n",
      "Dep. Variable:              SalePrice   R-squared:                       0.659\n",
      "Model:                            OLS   Adj. R-squared:                  0.655\n",
      "Method:                 Least Squares   F-statistic:                     173.5\n",
      "Date:                Mon, 19 Dec 2022   Prob (F-statistic):          6.44e-222\n",
      "Time:                        20:49:58   Log-Likelihood:                -12015.\n",
      "No. Observations:                1000   AIC:                         2.405e+04\n",
      "Df Residuals:                     988   BIC:                         2.411e+04\n",
      "Df Model:                          11                                         \n",
      "Covariance Type:            nonrobust                                         \n",
      "=========================================================================================\n",
      "                            coef    std err          t      P>|t|      [0.025      0.975]\n",
      "-----------------------------------------------------------------------------------------\n",
      "Intercept              1.035e+05   7604.319     13.612      0.000    8.86e+04    1.18e+05\n",
      "MSZoning[T.RH]        -2.202e+04   6884.431     -3.199      0.001   -3.55e+04   -8512.096\n",
      "MSZoning[T.RL]        -4339.0272   6161.151     -0.704      0.481   -1.64e+04    7751.419\n",
      "RoofStyle[T.Hip]       1.919e+04   3335.542      5.754      0.000    1.26e+04    2.57e+04\n",
      "Foundation[T.PConc]    1.642e+04   3421.890      4.798      0.000    9702.696    2.31e+04\n",
      "GarageType[T.BuiltIn]   1.97e+04   5593.669      3.523      0.000    8727.773    3.07e+04\n",
      "GarageType[T.CarPort] -2.728e+04   3246.837     -8.403      0.000   -3.37e+04   -2.09e+04\n",
      "HeatingQC[T.Fa]       -2.803e+04   3411.591     -8.215      0.000   -3.47e+04   -2.13e+04\n",
      "HeatingQC[T.Gd]       -1.497e+04   3787.123     -3.954      0.000   -2.24e+04   -7541.096\n",
      "GarageArea               96.7641     13.786      7.019      0.000      69.711     123.817\n",
      "BedroomAbvGr           3827.8993    879.018      4.355      0.000    2102.942    5552.857\n",
      "GarageCars             1.985e+04   3976.360      4.991      0.000     1.2e+04    2.76e+04\n",
      "==============================================================================\n",
      "Omnibus:                      109.200   Durbin-Watson:                   2.144\n",
      "Prob(Omnibus):                  0.000   Jarque-Bera (JB):              173.759\n",
      "Skew:                           0.754   Prob(JB):                     1.86e-38\n",
      "Kurtosis:                       4.378   Cond. No.                     4.50e+03\n",
      "==============================================================================\n",
      "\n",
      "Notes:\n",
      "[1] Standard Errors assume that the covariance matrix of the errors is correctly specified.\n",
      "[2] The condition number is large, 4.5e+03. This might indicate that there are\n",
      "strong multicollinearity or other numerical problems.\n"
     ]
    }
   ],
   "source": [
    "model_3 = smf.ols(formula= 'SalePrice ~  GarageArea + MSZoning + RoofStyle + Foundation + BedroomAbvGr + GarageType + GarageCars + HeatingQC', data = trn).fit()\n",
    "print(model_3.summary())"
   ]
  },
  {
   "cell_type": "code",
   "execution_count": 219,
   "id": "4c508031",
   "metadata": {},
   "outputs": [
    {
     "name": "stdout",
     "output_type": "stream",
     "text": [
      "                            OLS Regression Results                            \n",
      "==============================================================================\n",
      "Dep. Variable:              SalePrice   R-squared:                       0.631\n",
      "Model:                            OLS   Adj. R-squared:                  0.622\n",
      "Method:                 Least Squares   F-statistic:                     69.79\n",
      "Date:                Mon, 19 Dec 2022   Prob (F-statistic):           7.45e-90\n",
      "Time:                        20:50:09   Log-Likelihood:                -5516.0\n",
      "No. Observations:                 460   AIC:                         1.106e+04\n",
      "Df Residuals:                     448   BIC:                         1.111e+04\n",
      "Df Model:                          11                                         \n",
      "Covariance Type:            nonrobust                                         \n",
      "=========================================================================================\n",
      "                            coef    std err          t      P>|t|      [0.025      0.975]\n",
      "-----------------------------------------------------------------------------------------\n",
      "Intercept              8.986e+04   1.26e+04      7.111      0.000     6.5e+04    1.15e+05\n",
      "MSZoning[T.RH]        -3971.5676   1.17e+04     -0.340      0.734    -2.7e+04     1.9e+04\n",
      "MSZoning[T.RL]         5270.9176   1.09e+04      0.485      0.628   -1.61e+04    2.66e+04\n",
      "RoofStyle[T.Hip]       1.632e+04   4606.087      3.543      0.000    7267.433    2.54e+04\n",
      "Foundation[T.PConc]    2.795e+04   4958.143      5.638      0.000    1.82e+04    3.77e+04\n",
      "GarageType[T.BuiltIn]  1678.2170   8055.494      0.208      0.835   -1.42e+04    1.75e+04\n",
      "GarageType[T.CarPort] -3.245e+04   4622.865     -7.021      0.000   -4.15e+04   -2.34e+04\n",
      "HeatingQC[T.Fa]       -1.213e+04   5014.387     -2.418      0.016    -2.2e+04   -2270.440\n",
      "HeatingQC[T.Gd]       -1.896e+04   5864.488     -3.233      0.001   -3.05e+04   -7432.868\n",
      "GarageArea               78.6925     19.856      3.963      0.000      39.670     117.715\n",
      "BedroomAbvGr           3952.3574   1280.916      3.086      0.002    1435.007    6469.708\n",
      "GarageCars             1.998e+04   5985.554      3.338      0.001    8219.026    3.17e+04\n",
      "==============================================================================\n",
      "Omnibus:                       34.681   Durbin-Watson:                   1.845\n",
      "Prob(Omnibus):                  0.000   Jarque-Bera (JB):               42.743\n",
      "Skew:                           0.633   Prob(JB):                     5.23e-10\n",
      "Kurtosis:                       3.793   Cond. No.                     5.37e+03\n",
      "==============================================================================\n",
      "\n",
      "Notes:\n",
      "[1] Standard Errors assume that the covariance matrix of the errors is correctly specified.\n",
      "[2] The condition number is large, 5.37e+03. This might indicate that there are\n",
      "strong multicollinearity or other numerical problems.\n"
     ]
    }
   ],
   "source": [
    "model_3 = smf.ols(formula= 'SalePrice ~ GarageArea + MSZoning + RoofStyle + Foundation + BedroomAbvGr + GarageType + GarageCars + HeatingQC', data = tst).fit()\n",
    "print(model_3.summary())"
   ]
  },
  {
   "cell_type": "code",
   "execution_count": 220,
   "id": "3c97d297",
   "metadata": {},
   "outputs": [],
   "source": [
    "droppy = [\"MSZoning\",\"BedroomAbvGr\"]"
   ]
  },
  {
   "cell_type": "code",
   "execution_count": 221,
   "id": "bbd4de6e",
   "metadata": {},
   "outputs": [],
   "source": [
    "data.drop(columns = droppy, axis = 1, inplace = True)"
   ]
  },
  {
   "cell_type": "code",
   "execution_count": 222,
   "id": "07725ff0",
   "metadata": {},
   "outputs": [
    {
     "data": {
      "text/plain": [
       "array(['2Types', 'CarPort', 'BuiltIn'], dtype=object)"
      ]
     },
     "execution_count": 222,
     "metadata": {},
     "output_type": "execute_result"
    }
   ],
   "source": [
    "data.GarageType.unique()"
   ]
  },
  {
   "cell_type": "code",
   "execution_count": 223,
   "id": "68b9dc89",
   "metadata": {},
   "outputs": [],
   "source": [
    "data.GarageType.replace({\"BuiltIn\":\"2Types\"}, inplace = True)"
   ]
  },
  {
   "cell_type": "markdown",
   "id": "c7b732f3",
   "metadata": {},
   "source": [
    "# model 4"
   ]
  },
  {
   "cell_type": "code",
   "execution_count": 224,
   "id": "b445b735",
   "metadata": {},
   "outputs": [],
   "source": [
    "trn = data.iloc[0:1000]\n",
    "tst = data.iloc[1000:1460]"
   ]
  },
  {
   "cell_type": "code",
   "execution_count": 225,
   "id": "4151fe96",
   "metadata": {},
   "outputs": [],
   "source": [
    "col = data.columns"
   ]
  },
  {
   "cell_type": "code",
   "execution_count": 226,
   "id": "f42019d0",
   "metadata": {},
   "outputs": [
    {
     "name": "stdout",
     "output_type": "stream",
     "text": [
      "SalePrice + GarageArea + RoofStyle + Foundation + GarageType + GarageCars + HeatingQC + "
     ]
    }
   ],
   "source": [
    "for i in col: print(i, \"+\", end=\" \")"
   ]
  },
  {
   "cell_type": "code",
   "execution_count": 227,
   "id": "68840a42",
   "metadata": {},
   "outputs": [
    {
     "name": "stdout",
     "output_type": "stream",
     "text": [
      "                            OLS Regression Results                            \n",
      "==============================================================================\n",
      "Dep. Variable:              SalePrice   R-squared:                       0.637\n",
      "Model:                            OLS   Adj. R-squared:                  0.634\n",
      "Method:                 Least Squares   F-statistic:                     248.3\n",
      "Date:                Mon, 19 Dec 2022   Prob (F-statistic):          4.65e-213\n",
      "Time:                        20:50:44   Log-Likelihood:                -12046.\n",
      "No. Observations:                1000   AIC:                         2.411e+04\n",
      "Df Residuals:                     992   BIC:                         2.415e+04\n",
      "Df Model:                           7                                         \n",
      "Covariance Type:            nonrobust                                         \n",
      "=========================================================================================\n",
      "                            coef    std err          t      P>|t|      [0.025      0.975]\n",
      "-----------------------------------------------------------------------------------------\n",
      "Intercept              1.015e+05   4504.808     22.524      0.000    9.26e+04     1.1e+05\n",
      "RoofStyle[T.Hip]       1.892e+04   3422.587      5.528      0.000    1.22e+04    2.56e+04\n",
      "Foundation[T.PConc]    1.757e+04   3433.459      5.119      0.000    1.08e+04    2.43e+04\n",
      "GarageType[T.CarPort] -3.473e+04   3123.406    -11.118      0.000   -4.09e+04   -2.86e+04\n",
      "HeatingQC[T.Fa]        -2.84e+04   3497.010     -8.122      0.000   -3.53e+04   -2.15e+04\n",
      "HeatingQC[T.Gd]       -1.615e+04   3892.878     -4.149      0.000   -2.38e+04   -8513.915\n",
      "GarageArea              104.1883     14.113      7.383      0.000      76.494     131.882\n",
      "GarageCars             2.155e+04   4078.556      5.284      0.000    1.35e+04    2.96e+04\n",
      "==============================================================================\n",
      "Omnibus:                       87.210   Durbin-Watson:                   2.142\n",
      "Prob(Omnibus):                  0.000   Jarque-Bera (JB):              129.452\n",
      "Skew:                           0.655   Prob(JB):                     7.76e-29\n",
      "Kurtosis:                       4.180   Cond. No.                     2.29e+03\n",
      "==============================================================================\n",
      "\n",
      "Notes:\n",
      "[1] Standard Errors assume that the covariance matrix of the errors is correctly specified.\n",
      "[2] The condition number is large, 2.29e+03. This might indicate that there are\n",
      "strong multicollinearity or other numerical problems.\n"
     ]
    }
   ],
   "source": [
    "model_4 = smf.ols(formula= 'SalePrice ~ GarageArea + RoofStyle + Foundation + GarageType + GarageCars + HeatingQC', data = trn).fit()\n",
    "print(model_4.summary())"
   ]
  },
  {
   "cell_type": "code",
   "execution_count": 228,
   "id": "39928eda",
   "metadata": {},
   "outputs": [
    {
     "name": "stdout",
     "output_type": "stream",
     "text": [
      "                            OLS Regression Results                            \n",
      "==============================================================================\n",
      "Dep. Variable:              SalePrice   R-squared:                       0.619\n",
      "Model:                            OLS   Adj. R-squared:                  0.613\n",
      "Method:                 Least Squares   F-statistic:                     104.9\n",
      "Date:                Mon, 19 Dec 2022   Prob (F-statistic):           1.37e-90\n",
      "Time:                        20:50:55   Log-Likelihood:                -5523.7\n",
      "No. Observations:                 460   AIC:                         1.106e+04\n",
      "Df Residuals:                     452   BIC:                         1.110e+04\n",
      "Df Model:                           7                                         \n",
      "Covariance Type:            nonrobust                                         \n",
      "=========================================================================================\n",
      "                            coef    std err          t      P>|t|      [0.025      0.975]\n",
      "-----------------------------------------------------------------------------------------\n",
      "Intercept              1.008e+05   6356.537     15.851      0.000    8.83e+04    1.13e+05\n",
      "RoofStyle[T.Hip]       1.703e+04   4644.052      3.667      0.000    7902.807    2.62e+04\n",
      "Foundation[T.PConc]    2.571e+04   4940.909      5.204      0.000     1.6e+04    3.54e+04\n",
      "GarageType[T.CarPort] -3.716e+04   4441.076     -8.368      0.000   -4.59e+04   -2.84e+04\n",
      "HeatingQC[T.Fa]       -1.208e+04   5034.642     -2.399      0.017    -2.2e+04   -2184.931\n",
      "HeatingQC[T.Gd]       -1.875e+04   5897.113     -3.179      0.002   -3.03e+04   -7156.693\n",
      "GarageArea               73.4185     19.950      3.680      0.000      34.211     112.626\n",
      "GarageCars             2.354e+04   5973.800      3.941      0.000    1.18e+04    3.53e+04\n",
      "==============================================================================\n",
      "Omnibus:                       30.271   Durbin-Watson:                   1.809\n",
      "Prob(Omnibus):                  0.000   Jarque-Bera (JB):               36.436\n",
      "Skew:                           0.581   Prob(JB):                     1.22e-08\n",
      "Kurtosis:                       3.742   Cond. No.                     2.32e+03\n",
      "==============================================================================\n",
      "\n",
      "Notes:\n",
      "[1] Standard Errors assume that the covariance matrix of the errors is correctly specified.\n",
      "[2] The condition number is large, 2.32e+03. This might indicate that there are\n",
      "strong multicollinearity or other numerical problems.\n"
     ]
    }
   ],
   "source": [
    "model_4 = smf.ols(formula= 'SalePrice ~ GarageArea + RoofStyle + Foundation + GarageType + GarageCars + HeatingQC', data = tst).fit()\n",
    "print(model_4.summary())"
   ]
  },
  {
   "cell_type": "code",
   "execution_count": 229,
   "id": "7956dc8b",
   "metadata": {},
   "outputs": [
    {
     "data": {
      "text/plain": [
       "Index(['SalePrice', 'GarageArea', 'RoofStyle', 'Foundation', 'GarageType',\n",
       "       'GarageCars', 'HeatingQC'],\n",
       "      dtype='object')"
      ]
     },
     "execution_count": 229,
     "metadata": {},
     "output_type": "execute_result"
    }
   ],
   "source": [
    "data.columns"
   ]
  },
  {
   "cell_type": "code",
   "execution_count": 230,
   "id": "d8873f8d",
   "metadata": {},
   "outputs": [
    {
     "data": {
      "text/html": [
       "<div>\n",
       "<style scoped>\n",
       "    .dataframe tbody tr th:only-of-type {\n",
       "        vertical-align: middle;\n",
       "    }\n",
       "\n",
       "    .dataframe tbody tr th {\n",
       "        vertical-align: top;\n",
       "    }\n",
       "\n",
       "    .dataframe thead th {\n",
       "        text-align: right;\n",
       "    }\n",
       "</style>\n",
       "<table border=\"1\" class=\"dataframe\">\n",
       "  <thead>\n",
       "    <tr style=\"text-align: right;\">\n",
       "      <th></th>\n",
       "      <th>SalePrice</th>\n",
       "      <th>GarageArea</th>\n",
       "      <th>RoofStyle</th>\n",
       "      <th>Foundation</th>\n",
       "      <th>GarageType</th>\n",
       "      <th>GarageCars</th>\n",
       "      <th>HeatingQC</th>\n",
       "    </tr>\n",
       "  </thead>\n",
       "  <tbody>\n",
       "    <tr>\n",
       "      <th>0</th>\n",
       "      <td>208500.0</td>\n",
       "      <td>548.0</td>\n",
       "      <td>Flat</td>\n",
       "      <td>PConc</td>\n",
       "      <td>2Types</td>\n",
       "      <td>2</td>\n",
       "      <td>Ex</td>\n",
       "    </tr>\n",
       "    <tr>\n",
       "      <th>1</th>\n",
       "      <td>181500.0</td>\n",
       "      <td>460.0</td>\n",
       "      <td>Flat</td>\n",
       "      <td>BrkTil</td>\n",
       "      <td>2Types</td>\n",
       "      <td>2</td>\n",
       "      <td>Ex</td>\n",
       "    </tr>\n",
       "    <tr>\n",
       "      <th>2</th>\n",
       "      <td>223500.0</td>\n",
       "      <td>608.0</td>\n",
       "      <td>Flat</td>\n",
       "      <td>PConc</td>\n",
       "      <td>2Types</td>\n",
       "      <td>2</td>\n",
       "      <td>Ex</td>\n",
       "    </tr>\n",
       "    <tr>\n",
       "      <th>3</th>\n",
       "      <td>140000.0</td>\n",
       "      <td>642.0</td>\n",
       "      <td>Flat</td>\n",
       "      <td>BrkTil</td>\n",
       "      <td>CarPort</td>\n",
       "      <td>3</td>\n",
       "      <td>Gd</td>\n",
       "    </tr>\n",
       "    <tr>\n",
       "      <th>4</th>\n",
       "      <td>250000.0</td>\n",
       "      <td>836.0</td>\n",
       "      <td>Flat</td>\n",
       "      <td>PConc</td>\n",
       "      <td>2Types</td>\n",
       "      <td>3</td>\n",
       "      <td>Ex</td>\n",
       "    </tr>\n",
       "    <tr>\n",
       "      <th>...</th>\n",
       "      <td>...</td>\n",
       "      <td>...</td>\n",
       "      <td>...</td>\n",
       "      <td>...</td>\n",
       "      <td>...</td>\n",
       "      <td>...</td>\n",
       "      <td>...</td>\n",
       "    </tr>\n",
       "    <tr>\n",
       "      <th>1455</th>\n",
       "      <td>175000.0</td>\n",
       "      <td>460.0</td>\n",
       "      <td>Flat</td>\n",
       "      <td>PConc</td>\n",
       "      <td>2Types</td>\n",
       "      <td>2</td>\n",
       "      <td>Ex</td>\n",
       "    </tr>\n",
       "    <tr>\n",
       "      <th>1456</th>\n",
       "      <td>210000.0</td>\n",
       "      <td>500.0</td>\n",
       "      <td>Flat</td>\n",
       "      <td>BrkTil</td>\n",
       "      <td>2Types</td>\n",
       "      <td>2</td>\n",
       "      <td>Fa</td>\n",
       "    </tr>\n",
       "    <tr>\n",
       "      <th>1457</th>\n",
       "      <td>266500.0</td>\n",
       "      <td>252.0</td>\n",
       "      <td>Flat</td>\n",
       "      <td>BrkTil</td>\n",
       "      <td>2Types</td>\n",
       "      <td>1</td>\n",
       "      <td>Ex</td>\n",
       "    </tr>\n",
       "    <tr>\n",
       "      <th>1458</th>\n",
       "      <td>142125.0</td>\n",
       "      <td>240.0</td>\n",
       "      <td>Hip</td>\n",
       "      <td>BrkTil</td>\n",
       "      <td>2Types</td>\n",
       "      <td>1</td>\n",
       "      <td>Gd</td>\n",
       "    </tr>\n",
       "    <tr>\n",
       "      <th>1459</th>\n",
       "      <td>147500.0</td>\n",
       "      <td>276.0</td>\n",
       "      <td>Flat</td>\n",
       "      <td>BrkTil</td>\n",
       "      <td>2Types</td>\n",
       "      <td>1</td>\n",
       "      <td>Gd</td>\n",
       "    </tr>\n",
       "  </tbody>\n",
       "</table>\n",
       "<p>1460 rows × 7 columns</p>\n",
       "</div>"
      ],
      "text/plain": [
       "      SalePrice  GarageArea RoofStyle Foundation GarageType  GarageCars  \\\n",
       "0      208500.0       548.0      Flat      PConc     2Types           2   \n",
       "1      181500.0       460.0      Flat     BrkTil     2Types           2   \n",
       "2      223500.0       608.0      Flat      PConc     2Types           2   \n",
       "3      140000.0       642.0      Flat     BrkTil    CarPort           3   \n",
       "4      250000.0       836.0      Flat      PConc     2Types           3   \n",
       "...         ...         ...       ...        ...        ...         ...   \n",
       "1455   175000.0       460.0      Flat      PConc     2Types           2   \n",
       "1456   210000.0       500.0      Flat     BrkTil     2Types           2   \n",
       "1457   266500.0       252.0      Flat     BrkTil     2Types           1   \n",
       "1458   142125.0       240.0       Hip     BrkTil     2Types           1   \n",
       "1459   147500.0       276.0      Flat     BrkTil     2Types           1   \n",
       "\n",
       "     HeatingQC  \n",
       "0           Ex  \n",
       "1           Ex  \n",
       "2           Ex  \n",
       "3           Gd  \n",
       "4           Ex  \n",
       "...        ...  \n",
       "1455        Ex  \n",
       "1456        Fa  \n",
       "1457        Ex  \n",
       "1458        Gd  \n",
       "1459        Gd  \n",
       "\n",
       "[1460 rows x 7 columns]"
      ]
     },
     "execution_count": 230,
     "metadata": {},
     "output_type": "execute_result"
    }
   ],
   "source": [
    "data"
   ]
  },
  {
   "cell_type": "code",
   "execution_count": 231,
   "id": "bfd8f776",
   "metadata": {},
   "outputs": [
    {
     "data": {
      "text/plain": [
       "Index(['SalePrice', 'GarageArea', 'RoofStyle', 'Foundation', 'GarageType',\n",
       "       'GarageCars', 'HeatingQC'],\n",
       "      dtype='object')"
      ]
     },
     "execution_count": 231,
     "metadata": {},
     "output_type": "execute_result"
    }
   ],
   "source": [
    "tst.columns"
   ]
  },
  {
   "cell_type": "code",
   "execution_count": 232,
   "id": "4f8ba665",
   "metadata": {},
   "outputs": [],
   "source": [
    "tst_x = tst.loc[:,tst.columns != 'SalePrice']\n",
    "tst_y = tst.loc[:,tst.columns == 'SalePrice']"
   ]
  },
  {
   "cell_type": "code",
   "execution_count": 233,
   "id": "ff16937e",
   "metadata": {},
   "outputs": [
    {
     "data": {
      "text/html": [
       "<div>\n",
       "<style scoped>\n",
       "    .dataframe tbody tr th:only-of-type {\n",
       "        vertical-align: middle;\n",
       "    }\n",
       "\n",
       "    .dataframe tbody tr th {\n",
       "        vertical-align: top;\n",
       "    }\n",
       "\n",
       "    .dataframe thead th {\n",
       "        text-align: right;\n",
       "    }\n",
       "</style>\n",
       "<table border=\"1\" class=\"dataframe\">\n",
       "  <thead>\n",
       "    <tr style=\"text-align: right;\">\n",
       "      <th></th>\n",
       "      <th>GarageArea</th>\n",
       "      <th>RoofStyle</th>\n",
       "      <th>Foundation</th>\n",
       "      <th>GarageType</th>\n",
       "      <th>GarageCars</th>\n",
       "      <th>HeatingQC</th>\n",
       "    </tr>\n",
       "  </thead>\n",
       "  <tbody>\n",
       "    <tr>\n",
       "      <th>1000</th>\n",
       "      <td>528.0</td>\n",
       "      <td>Flat</td>\n",
       "      <td>BrkTil</td>\n",
       "      <td>CarPort</td>\n",
       "      <td>2</td>\n",
       "      <td>Fa</td>\n",
       "    </tr>\n",
       "    <tr>\n",
       "      <th>1001</th>\n",
       "      <td>216.0</td>\n",
       "      <td>Flat</td>\n",
       "      <td>BrkTil</td>\n",
       "      <td>CarPort</td>\n",
       "      <td>1</td>\n",
       "      <td>Ex</td>\n",
       "    </tr>\n",
       "    <tr>\n",
       "      <th>1002</th>\n",
       "      <td>824.0</td>\n",
       "      <td>Flat</td>\n",
       "      <td>PConc</td>\n",
       "      <td>2Types</td>\n",
       "      <td>3</td>\n",
       "      <td>Ex</td>\n",
       "    </tr>\n",
       "    <tr>\n",
       "      <th>1003</th>\n",
       "      <td>528.0</td>\n",
       "      <td>Flat</td>\n",
       "      <td>BrkTil</td>\n",
       "      <td>CarPort</td>\n",
       "      <td>2</td>\n",
       "      <td>Fa</td>\n",
       "    </tr>\n",
       "    <tr>\n",
       "      <th>1004</th>\n",
       "      <td>457.0</td>\n",
       "      <td>Flat</td>\n",
       "      <td>PConc</td>\n",
       "      <td>2Types</td>\n",
       "      <td>2</td>\n",
       "      <td>Ex</td>\n",
       "    </tr>\n",
       "    <tr>\n",
       "      <th>...</th>\n",
       "      <td>...</td>\n",
       "      <td>...</td>\n",
       "      <td>...</td>\n",
       "      <td>...</td>\n",
       "      <td>...</td>\n",
       "      <td>...</td>\n",
       "    </tr>\n",
       "    <tr>\n",
       "      <th>1455</th>\n",
       "      <td>460.0</td>\n",
       "      <td>Flat</td>\n",
       "      <td>PConc</td>\n",
       "      <td>2Types</td>\n",
       "      <td>2</td>\n",
       "      <td>Ex</td>\n",
       "    </tr>\n",
       "    <tr>\n",
       "      <th>1456</th>\n",
       "      <td>500.0</td>\n",
       "      <td>Flat</td>\n",
       "      <td>BrkTil</td>\n",
       "      <td>2Types</td>\n",
       "      <td>2</td>\n",
       "      <td>Fa</td>\n",
       "    </tr>\n",
       "    <tr>\n",
       "      <th>1457</th>\n",
       "      <td>252.0</td>\n",
       "      <td>Flat</td>\n",
       "      <td>BrkTil</td>\n",
       "      <td>2Types</td>\n",
       "      <td>1</td>\n",
       "      <td>Ex</td>\n",
       "    </tr>\n",
       "    <tr>\n",
       "      <th>1458</th>\n",
       "      <td>240.0</td>\n",
       "      <td>Hip</td>\n",
       "      <td>BrkTil</td>\n",
       "      <td>2Types</td>\n",
       "      <td>1</td>\n",
       "      <td>Gd</td>\n",
       "    </tr>\n",
       "    <tr>\n",
       "      <th>1459</th>\n",
       "      <td>276.0</td>\n",
       "      <td>Flat</td>\n",
       "      <td>BrkTil</td>\n",
       "      <td>2Types</td>\n",
       "      <td>1</td>\n",
       "      <td>Gd</td>\n",
       "    </tr>\n",
       "  </tbody>\n",
       "</table>\n",
       "<p>460 rows × 6 columns</p>\n",
       "</div>"
      ],
      "text/plain": [
       "      GarageArea RoofStyle Foundation GarageType  GarageCars HeatingQC\n",
       "1000       528.0      Flat     BrkTil    CarPort           2        Fa\n",
       "1001       216.0      Flat     BrkTil    CarPort           1        Ex\n",
       "1002       824.0      Flat      PConc     2Types           3        Ex\n",
       "1003       528.0      Flat     BrkTil    CarPort           2        Fa\n",
       "1004       457.0      Flat      PConc     2Types           2        Ex\n",
       "...          ...       ...        ...        ...         ...       ...\n",
       "1455       460.0      Flat      PConc     2Types           2        Ex\n",
       "1456       500.0      Flat     BrkTil     2Types           2        Fa\n",
       "1457       252.0      Flat     BrkTil     2Types           1        Ex\n",
       "1458       240.0       Hip     BrkTil     2Types           1        Gd\n",
       "1459       276.0      Flat     BrkTil     2Types           1        Gd\n",
       "\n",
       "[460 rows x 6 columns]"
      ]
     },
     "execution_count": 233,
     "metadata": {},
     "output_type": "execute_result"
    }
   ],
   "source": [
    "tst_x"
   ]
  },
  {
   "cell_type": "code",
   "execution_count": 234,
   "id": "63a68e99",
   "metadata": {},
   "outputs": [
    {
     "data": {
      "text/html": [
       "<div>\n",
       "<style scoped>\n",
       "    .dataframe tbody tr th:only-of-type {\n",
       "        vertical-align: middle;\n",
       "    }\n",
       "\n",
       "    .dataframe tbody tr th {\n",
       "        vertical-align: top;\n",
       "    }\n",
       "\n",
       "    .dataframe thead th {\n",
       "        text-align: right;\n",
       "    }\n",
       "</style>\n",
       "<table border=\"1\" class=\"dataframe\">\n",
       "  <thead>\n",
       "    <tr style=\"text-align: right;\">\n",
       "      <th></th>\n",
       "      <th>SalePrice</th>\n",
       "    </tr>\n",
       "  </thead>\n",
       "  <tbody>\n",
       "    <tr>\n",
       "      <th>1000</th>\n",
       "      <td>82000.0</td>\n",
       "    </tr>\n",
       "    <tr>\n",
       "      <th>1001</th>\n",
       "      <td>86000.0</td>\n",
       "    </tr>\n",
       "    <tr>\n",
       "      <th>1002</th>\n",
       "      <td>232000.0</td>\n",
       "    </tr>\n",
       "    <tr>\n",
       "      <th>1003</th>\n",
       "      <td>136905.0</td>\n",
       "    </tr>\n",
       "    <tr>\n",
       "      <th>1004</th>\n",
       "      <td>181000.0</td>\n",
       "    </tr>\n",
       "    <tr>\n",
       "      <th>...</th>\n",
       "      <td>...</td>\n",
       "    </tr>\n",
       "    <tr>\n",
       "      <th>1455</th>\n",
       "      <td>175000.0</td>\n",
       "    </tr>\n",
       "    <tr>\n",
       "      <th>1456</th>\n",
       "      <td>210000.0</td>\n",
       "    </tr>\n",
       "    <tr>\n",
       "      <th>1457</th>\n",
       "      <td>266500.0</td>\n",
       "    </tr>\n",
       "    <tr>\n",
       "      <th>1458</th>\n",
       "      <td>142125.0</td>\n",
       "    </tr>\n",
       "    <tr>\n",
       "      <th>1459</th>\n",
       "      <td>147500.0</td>\n",
       "    </tr>\n",
       "  </tbody>\n",
       "</table>\n",
       "<p>460 rows × 1 columns</p>\n",
       "</div>"
      ],
      "text/plain": [
       "      SalePrice\n",
       "1000    82000.0\n",
       "1001    86000.0\n",
       "1002   232000.0\n",
       "1003   136905.0\n",
       "1004   181000.0\n",
       "...         ...\n",
       "1455   175000.0\n",
       "1456   210000.0\n",
       "1457   266500.0\n",
       "1458   142125.0\n",
       "1459   147500.0\n",
       "\n",
       "[460 rows x 1 columns]"
      ]
     },
     "execution_count": 234,
     "metadata": {},
     "output_type": "execute_result"
    }
   ],
   "source": [
    "tst_y"
   ]
  },
  {
   "cell_type": "code",
   "execution_count": 235,
   "id": "5585ea7d",
   "metadata": {},
   "outputs": [],
   "source": [
    "pred_1 = model_4.predict(tst_x)  #Prediction on test data"
   ]
  },
  {
   "cell_type": "code",
   "execution_count": 236,
   "id": "b4ce097a",
   "metadata": {},
   "outputs": [
    {
     "data": {
      "text/plain": [
       "1000    137364.751215\n",
       "1001    102994.151445\n",
       "1002    257593.693703\n",
       "1003    137364.751215\n",
       "1004    207105.934944\n",
       "            ...      \n",
       "1455    207326.190409\n",
       "1456    172471.584024\n",
       "1457    142799.767505\n",
       "1458    140202.309905\n",
       "1459    125815.956319\n",
       "Length: 460, dtype: float64"
      ]
     },
     "execution_count": 236,
     "metadata": {},
     "output_type": "execute_result"
    }
   ],
   "source": [
    "pred_1"
   ]
  },
  {
   "cell_type": "code",
   "execution_count": 237,
   "id": "77924d5c",
   "metadata": {},
   "outputs": [],
   "source": [
    "y_test_series = tst_y.iloc[:,0] "
   ]
  },
  {
   "cell_type": "code",
   "execution_count": 238,
   "id": "2707b50e",
   "metadata": {},
   "outputs": [],
   "source": [
    "resd_1 = y_test_series - pred_1 #Residuals"
   ]
  },
  {
   "cell_type": "code",
   "execution_count": 239,
   "id": "dd3ed060",
   "metadata": {},
   "outputs": [
    {
     "data": {
      "text/plain": [
       "1000    -55364.751215\n",
       "1001    -16994.151445\n",
       "1002    -25593.693703\n",
       "1003      -459.751215\n",
       "1004    -26105.934944\n",
       "            ...      \n",
       "1455    -32326.190409\n",
       "1456     37528.415976\n",
       "1457    123700.232495\n",
       "1458      1922.690095\n",
       "1459     21684.043681\n",
       "Length: 460, dtype: float64"
      ]
     },
     "execution_count": 239,
     "metadata": {},
     "output_type": "execute_result"
    }
   ],
   "source": [
    "resd_1"
   ]
  },
  {
   "cell_type": "code",
   "execution_count": 240,
   "id": "dd101e10",
   "metadata": {},
   "outputs": [
    {
     "data": {
      "text/plain": [
       "1000    3.065256e+09\n",
       "1001    2.888012e+08\n",
       "1002    6.550372e+08\n",
       "1003    2.113712e+05\n",
       "1004    6.815198e+08\n",
       "            ...     \n",
       "1455    1.044983e+09\n",
       "1456    1.408382e+09\n",
       "1457    1.530175e+10\n",
       "1458    3.696737e+06\n",
       "1459    4.701978e+08\n",
       "Length: 460, dtype: float64"
      ]
     },
     "execution_count": 240,
     "metadata": {},
     "output_type": "execute_result"
    }
   ],
   "source": [
    "se_1=resd_1.pow(2) #Square of errors\n",
    "se_1"
   ]
  },
  {
   "cell_type": "code",
   "execution_count": 241,
   "id": "b1c4e580",
   "metadata": {},
   "outputs": [
    {
     "data": {
      "text/plain": [
       "724883805184.4763"
      ]
     },
     "execution_count": 241,
     "metadata": {},
     "output_type": "execute_result"
    }
   ],
   "source": [
    "#Sum of Squared errors/residuals\n",
    "sse_1 = se_1.sum()\n",
    "sse_1"
   ]
  },
  {
   "cell_type": "code",
   "execution_count": 242,
   "id": "f46a4eaa",
   "metadata": {},
   "outputs": [
    {
     "data": {
      "text/plain": [
       "1575834359.0966876"
      ]
     },
     "execution_count": 242,
     "metadata": {},
     "output_type": "execute_result"
    }
   ],
   "source": [
    "#Mean sum squared errors\n",
    "msse_1=sse_1/len(se_1)\n",
    "msse_1"
   ]
  },
  {
   "cell_type": "code",
   "execution_count": 243,
   "id": "5712f498",
   "metadata": {},
   "outputs": [
    {
     "data": {
      "text/plain": [
       "39696.78021070081"
      ]
     },
     "execution_count": 243,
     "metadata": {},
     "output_type": "execute_result"
    }
   ],
   "source": [
    "import math\n",
    "\n",
    "#sqr root of mean sum squared errors\n",
    "math.sqrt(msse_1)"
   ]
  },
  {
   "cell_type": "code",
   "execution_count": 244,
   "id": "acd8b884",
   "metadata": {},
   "outputs": [
    {
     "name": "stderr",
     "output_type": "stream",
     "text": [
      "C:\\Users\\Acer\\anaconda3\\lib\\site-packages\\seaborn\\distributions.py:2619: FutureWarning: `distplot` is a deprecated function and will be removed in a future version. Please adapt your code to use either `displot` (a figure-level function with similar flexibility) or `histplot` (an axes-level function for histograms).\n",
      "  warnings.warn(msg, FutureWarning)\n"
     ]
    },
    {
     "data": {
      "text/plain": [
       "<AxesSubplot:ylabel='Density'>"
      ]
     },
     "execution_count": 244,
     "metadata": {},
     "output_type": "execute_result"
    },
    {
     "data": {
      "image/png": "[encoded data removed]",
      "text/plain": [
       "<Figure size 640x480 with 1 Axes>"
      ]
     },
     "metadata": {},
     "output_type": "display_data"
    }
   ],
   "source": [
    "sns.distplot(resd_1)"
   ]
  },
  {
   "cell_type": "code",
   "execution_count": 245,
   "id": "31b13d3b",
   "metadata": {},
   "outputs": [
    {
     "name": "stderr",
     "output_type": "stream",
     "text": [
      "C:\\Users\\Acer\\anaconda3\\lib\\site-packages\\seaborn\\_decorators.py:36: FutureWarning: Pass the following variable as a keyword arg: x. From version 0.12, the only valid positional argument will be `data`, and passing other arguments without an explicit keyword will result in an error or misinterpretation.\n",
      "  warnings.warn(\n"
     ]
    },
    {
     "data": {
      "text/plain": [
       "<AxesSubplot:>"
      ]
     },
     "execution_count": 245,
     "metadata": {},
     "output_type": "execute_result"
    },
    {
     "data": {
      "image/png": "[encoded data removed]",
      "text/plain": [
       "<Figure size 640x480 with 1 Axes>"
      ]
     },
     "metadata": {},
     "output_type": "display_data"
    }
   ],
   "source": [
    "sns.boxplot(resd_1,orient = 'h')"
   ]
  },
  {
   "cell_type": "code",
   "execution_count": 247,
   "id": "611e57ce",
   "metadata": {},
   "outputs": [
    {
     "data": {
      "text/plain": [
       "<AxesSubplot:xlabel='GarageArea', ylabel='SalePrice'>"
      ]
     },
     "execution_count": 247,
     "metadata": {},
     "output_type": "execute_result"
    },
    {
     "data": {
      "image/png": "[encoded data removed]",
      "text/plain": [
       "<Figure size 640x480 with 1 Axes>"
      ]
     },
     "metadata": {},
     "output_type": "display_data"
    }
   ],
   "source": [
    "sns.scatterplot(data=tst,y= tst.SalePrice,x = tst.GarageArea)"
   ]
  },
  {
   "cell_type": "code",
   "execution_count": 248,
   "id": "1836eb8f",
   "metadata": {},
   "outputs": [
    {
     "data": {
      "text/plain": [
       "Index(['SalePrice', 'GarageArea', 'RoofStyle', 'Foundation', 'GarageType',\n",
       "       'GarageCars', 'HeatingQC'],\n",
       "      dtype='object')"
      ]
     },
     "execution_count": 248,
     "metadata": {},
     "output_type": "execute_result"
    }
   ],
   "source": [
    "data.columns"
   ]
  },
  {
   "cell_type": "code",
   "execution_count": 249,
   "id": "8faa871d",
   "metadata": {},
   "outputs": [
    {
     "data": {
      "text/plain": [
       "<AxesSubplot:xlabel='RoofStyle', ylabel='SalePrice'>"
      ]
     },
     "execution_count": 249,
     "metadata": {},
     "output_type": "execute_result"
    },
    {
     "data": {
      "image/png": "[encoded data removed]",
      "text/plain": [
       "<Figure size 640x480 with 1 Axes>"
      ]
     },
     "metadata": {},
     "output_type": "display_data"
    }
   ],
   "source": [
    "sns.scatterplot(data=tst,y= tst.SalePrice,x = tst.RoofStyle)"
   ]
  },
  {
   "cell_type": "code",
   "execution_count": 250,
   "id": "9551aac9",
   "metadata": {},
   "outputs": [
    {
     "data": {
      "text/plain": [
       "<AxesSubplot:xlabel='Foundation', ylabel='SalePrice'>"
      ]
     },
     "execution_count": 250,
     "metadata": {},
     "output_type": "execute_result"
    },
    {
     "data": {
      "image/png": "[encoded data removed]",
      "text/plain": [
       "<Figure size 640x480 with 1 Axes>"
      ]
     },
     "metadata": {},
     "output_type": "display_data"
    }
   ],
   "source": [
    "sns.scatterplot(data=tst,y= tst.SalePrice,x = tst.Foundation)"
   ]
  },
  {
   "cell_type": "code",
   "execution_count": 251,
   "id": "a4af665a",
   "metadata": {},
   "outputs": [
    {
     "data": {
      "text/plain": [
       "<AxesSubplot:xlabel='GarageType', ylabel='SalePrice'>"
      ]
     },
     "execution_count": 251,
     "metadata": {},
     "output_type": "execute_result"
    },
    {
     "data": {
      "image/png": "[encoded data removed]",
      "text/plain": [
       "<Figure size 640x480 with 1 Axes>"
      ]
     },
     "metadata": {},
     "output_type": "display_data"
    }
   ],
   "source": [
    "sns.scatterplot(data=tst,y= tst.SalePrice,x = tst.GarageType)"
   ]
  },
  {
   "cell_type": "code",
   "execution_count": 252,
   "id": "6304365c",
   "metadata": {},
   "outputs": [
    {
     "data": {
      "text/plain": [
       "<AxesSubplot:xlabel='GarageCars', ylabel='SalePrice'>"
      ]
     },
     "execution_count": 252,
     "metadata": {},
     "output_type": "execute_result"
    },
    {
     "data": {
      "image/png": "[encoded data removed]",
      "text/plain": [
       "<Figure size 640x480 with 1 Axes>"
      ]
     },
     "metadata": {},
     "output_type": "display_data"
    }
   ],
   "source": [
    "sns.scatterplot(data=tst,y= tst.SalePrice,x = tst.GarageCars)"
   ]
  },
  {
   "cell_type": "code",
   "execution_count": 253,
   "id": "683a4f2b",
   "metadata": {},
   "outputs": [
    {
     "data": {
      "text/plain": [
       "<AxesSubplot:xlabel='HeatingQC', ylabel='SalePrice'>"
      ]
     },
     "execution_count": 253,
     "metadata": {},
     "output_type": "execute_result"
    },
    {
     "data": {
      "image/png": "[encoded data removed]",
      "text/plain": [
       "<Figure size 640x480 with 1 Axes>"
      ]
     },
     "metadata": {},
     "output_type": "display_data"
    }
   ],
   "source": [
    "sns.scatterplot(data=tst,y= tst.SalePrice,x = tst.HeatingQC)"
   ]
  },
  {
   "cell_type": "code",
   "execution_count": null,
   "id": "5c811c98",
   "metadata": {},
   "outputs": [],
   "source": []
  },
  {
   "cell_type": "code",
   "execution_count": null,
   "id": "f0c1ce78",
   "metadata": {},
   "outputs": [],
   "source": []
  }
 ],
 "metadata": {
  "kernelspec": {
   "display_name": "Python 3 (ipykernel)",
   "language": "python",
   "name": "python3"
  },
  "language_info": {
   "codemirror_mode": {
    "name": "ipython",
    "version": 3
   },
   "file_extension": ".py",
   "mimetype": "text/x-python",
   "name": "python",
   "nbconvert_exporter": "python",
   "pygments_lexer": "ipython3",
   "version": "3.9.13"
  }
 },
 "nbformat": 4,
 "nbformat_minor": 5
}
